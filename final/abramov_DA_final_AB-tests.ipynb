{
 "cells": [
  {
   "cell_type": "markdown",
   "metadata": {},
   "source": [
    "# Оценка результатов A/B теста `recommender system test`"
   ]
  },
  {
   "cell_type": "markdown",
   "metadata": {},
   "source": [
    "<a id='table_of_contents'> </a>\n",
    "\n",
    "## Содержание\n",
    "* 2. [Описание данных](#describe)\n",
    "* 3. [Техническое задание](#techdebt)\n",
    "* 4. [Предобработка данных](#preprocess)\n",
    "* 5. [Исследовательский анализ данных](#eda)\n",
    "* 6. [Проверка оценки A/B теста](#ab_test)\n",
    "* 7. [Проведение статистический теста между двумя группами А, В ](#stat_test)\n",
    "* 8. [Итоговые Выводы](#conclusions)"
   ]
  },
  {
   "cell_type": "markdown",
   "metadata": {},
   "source": [
    "##  Описание данных\n",
    "<a id='describe'></a>\n",
    "[К содержанию](#table_of_contents)"
   ]
  },
  {
   "cell_type": "markdown",
   "metadata": {},
   "source": [
    "- `/datasets/ab_project_marketing_events.csv` — календарь маркетинговых событий на 2020 год;\n",
    "Структура файла:  \n",
    "   - `name` — название маркетингового события;\n",
    "   - `regions` — регионы, в которых будет проводиться рекламная кампания;\n",
    "   - `start_dt` — дата начала кампании;\n",
    "   - `finish_dt` — дата завершения кампании. \n",
    "  \n",
    "- `/datasets/final_ab_new_users.csv` — все пользователи, зарегистрировавшиеся в интернет-магазине в период с 7 по 21 декабря 2020 года;\n",
    "Структура файла:  \n",
    "   - `user_id` — идентификатор пользователя;\n",
    "   - `first_date` — дата регистрации;\n",
    "   - `region` — регион пользователя;\n",
    "   - `device` — устройство, с которого происходила регистрация.\n",
    "  \n",
    "- `/datasets/final_ab_events.csv` — все события новых пользователей в период с 7 декабря 2020   по 4 января 2021 года;  \n",
    "Структура файла:  \n",
    "    - `user_id` — идентификатор пользователя;  \n",
    "    - `event_dt` — дата и время события;  \n",
    "    - `event_name` — тип события;  \n",
    "    - `details` — дополнительные данные о событии. Например, для покупок, purchase, в этом поле хранится стоимость покупки в долларах.  \n",
    "   \n",
    "- `/datasets/final_ab_participants.csv` — таблица участников тестов.\n",
    "Структура файла:\n",
    "   - `user_id` — идентификатор пользователя;\n",
    "   - `ab_test` — название теста;\n",
    "   - `group` — группа пользователя."
   ]
  },
  {
   "cell_type": "markdown",
   "metadata": {},
   "source": [
    "## Техническое задание и цели исследования\n",
    "<a id='techdebt'></a>\n",
    "[К содержанию](#table_of_contents)"
   ]
  },
  {
   "cell_type": "markdown",
   "metadata": {},
   "source": [
    "Название теста: `recommender_system_test`;  \n",
    "Группы: `А`(контрольная), `B` (новая платёжная воронка);  \n",
    "`Дата запуска`: 2020-12-07;  \n",
    "`Дата остановки набора новых пользователей`: 2020-12-21;  \n",
    "`Дата остановки`: 2021-01-04;  \n",
    "`Аудитория`: 15% новых пользователей из региона EU;  \n",
    "`Назначение теста`: тестирование изменений, связанных с внедрением улучшенной рекомендательной системы;  \n",
    "`Ожидаемое количество участников теста`: 6000.  \n",
    "`Ожидаемый эффект`: за 14 дней с момента регистрации в системе пользователи покажут улучшение каждой метрики не менее, чем на 10%:  \n",
    "конверсии в просмотр карточек товаров — событие `product_page`  \n",
    "просмотры корзины — `product_cart`  \n",
    "покупки — `purchase`.  \n",
    "Загрузите данные теста, проверьте корректность его проведения и проанализируйте полученные результаты.  "
   ]
  },
  {
   "cell_type": "markdown",
   "metadata": {},
   "source": [
    "`Цель исследования` - проверка на корректность данных, соответствие данных требованиям ТЗ, проверка оценки результатов  A/B-теста   \n",
    "`Назначение теста`: тестирование изменений, связанных с внедрением улучшенной рекомендательной системы  \n",
    "`Ожидаемый эффект`: за 14 дней с момента регистрации в системе пользователи покажут улучшение каждой метрики не менее, чем на 10%:\n",
    "- конверсии в просмотр карточек товаров — событие product_page\n",
    "- просмотры корзины — product_cart\n",
    "- покупки — purchase."
   ]
  },
  {
   "cell_type": "code",
   "execution_count": 162,
   "metadata": {},
   "outputs": [],
   "source": [
    "import datetime as dt\n",
    "import warnings\n",
    "\n",
    "import pandas as pd\n",
    "import numpy as np\n",
    "\n",
    "import matplotlib.pyplot as plt\n",
    "from matplotlib import colors\n",
    "import seaborn as sns\n",
    "\n",
    "import scipy.stats as sts\n",
    "import statsmodels.api as sm\n",
    "from statsmodels.sandbox.stats.multicomp import multipletests\n",
    "\n",
    "warnings.filterwarnings(\"ignore\")"
   ]
  },
  {
   "cell_type": "code",
   "execution_count": 2,
   "metadata": {},
   "outputs": [],
   "source": [
    "def load_csv(os_path: str, cloud_path: str, verbose=True) -> pd.DataFrame:\n",
    "    \"\"\"функция чтения данных и загрузки в объект pd.DataFrame \n",
    "       \n",
    "       os_path: str -> локальные данные, полный или абсолютный путь\n",
    "       cloud_path: str -> URL место где данные размещены, прямая ссылка на CSV, TSV\n",
    "       returns pd.DataFrame\n",
    "    \"\"\"\n",
    "    _dataset_name = cloud_path.split('/')[-1]\n",
    "    try:\n",
    "        return pd.read_csv(os_path)\n",
    "    except:\n",
    "        if verbose:\n",
    "            print(f'INFO: {_dataset_name} - локальные данные не найдены, подгружаю с интернета ')\n",
    "        return pd.read_csv(cloud_path)\n",
    "    \n",
    "\n",
    "def df_stat(df: pd.DataFrame) -> None:\n",
    "    \"\"\"функция отображения статистики пропущенных \n",
    "       данных в датасете и явных дубликатов строк\n",
    "       \n",
    "       df: pd.DataFrame -> датасет\n",
    "       returns None\n",
    "    \"\"\"\n",
    "    df_quality = pd.DataFrame()\n",
    "    df_quality['nan'] = df.isna().sum()\n",
    "    df_quality['nan_percent'] = ((df_quality['nan'] / df.shape[0])* 100).round(2)\n",
    "    print(\"Количество явных дубликатов строк: \", df.duplicated().sum())\n",
    "    print()\n",
    "    print(df_quality)\n",
    "\n",
    "\n",
    "def df_unique_vals(df: pd.DataFrame) -> None:\n",
    "    \"\"\"функция отображения уникальных значений в данных\n",
    "       \n",
    "       df: pd.DataFrame -> датасет/сабсет\n",
    "       returns None\n",
    "    \"\"\"\n",
    "    for col in df.columns:\n",
    "        if df[col].nunique() > 30:\n",
    "            print('!!!')\n",
    "            print(f'Слишком много уникальных значений в колонке {col}')\n",
    "            print('первые 30 значений:')\n",
    "            print('!!!\\n')\n",
    "            print(df[col].unique()[:30])\n",
    "        else:\n",
    "            print(f'Уникальные значения в колонке {col}\\n')\n",
    "            print(df[col].unique())\n",
    "        print('-' * 15)\n",
    "\n",
    "\n",
    "def df_strlower_object(df: pd.DataFrame) -> pd.DataFrame:\n",
    "    \"\"\"функция приведения данных типа object к нижнему регистру\n",
    "       \n",
    "       df: pd.DataFrame -> датасет/сабсет\n",
    "       returns pd.DataFrame\n",
    "    \"\"\"\n",
    "    cols_to_lower = df.columns[df.dtypes == object]\n",
    "    for col in cols_to_lower:\n",
    "        df[col] = df[col].str.lower()\n",
    "    return df\n",
    "\n",
    "def implicit_duplicates_check(df: pd.DataFrame, id_col: str, cols: list) -> None:\n",
    "    \"\"\"Функция на проверку неявных дубликатов\n",
    "       df: pd.DataFrame, id_col: str, cols: list\n",
    "       return None\n",
    "    \"\"\"\n",
    "    \n",
    "    for col in cols:\n",
    "        print(f\" {id_col}, {col} неявные дубликаты: {df[[id_col, col]].duplicated().sum()}\")\n"
   ]
  },
  {
   "cell_type": "markdown",
   "metadata": {},
   "source": [
    "## Предобработка данных\n",
    "<a id='preprocess'></a>\n",
    "[К содержанию](#table_of_contents)"
   ]
  },
  {
   "cell_type": "code",
   "execution_count": 3,
   "metadata": {},
   "outputs": [
    {
     "name": "stdout",
     "output_type": "stream",
     "text": [
      "INFO: ab_project_marketing_events.csv - локальные данные не найдены, подгружаю с интернета \n",
      "INFO: final_ab_new_users.csv - локальные данные не найдены, подгружаю с интернета \n",
      "INFO: final_ab_events.csv - локальные данные не найдены, подгружаю с интернета \n",
      "INFO: final_ab_participants.csv - локальные данные не найдены, подгружаю с интернета \n"
     ]
    }
   ],
   "source": [
    "# загрузка данных\n",
    "marketing_events = load_csv('ab_project_marketing_events.csv', 'https://code.s3.yandex.net/datasets/ab_project_marketing_events.csv')\n",
    "fab_new_users = load_csv('final_ab_new_users.csv', 'https://code.s3.yandex.net/datasets/final_ab_new_users.csv')\n",
    "fab_events = load_csv('final_ab_events.csv', 'https://code.s3.yandex.net/datasets/final_ab_events.csv')\n",
    "fab_participants = load_csv('final_ab_participants.csv', 'https://code.s3.yandex.net/datasets/final_ab_participants.csv')"
   ]
  },
  {
   "cell_type": "markdown",
   "metadata": {},
   "source": [
    "### Датасет `ab_project_marketing_events.csv`"
   ]
  },
  {
   "cell_type": "code",
   "execution_count": 4,
   "metadata": {},
   "outputs": [
    {
     "name": "stdout",
     "output_type": "stream",
     "text": [
      "<class 'pandas.core.frame.DataFrame'>\n",
      "RangeIndex: 14 entries, 0 to 13\n",
      "Data columns (total 4 columns):\n",
      " #   Column     Non-Null Count  Dtype \n",
      "---  ------     --------------  ----- \n",
      " 0   name       14 non-null     object\n",
      " 1   regions    14 non-null     object\n",
      " 2   start_dt   14 non-null     object\n",
      " 3   finish_dt  14 non-null     object\n",
      "dtypes: object(4)\n",
      "memory usage: 576.0+ bytes\n"
     ]
    }
   ],
   "source": [
    "marketing_events.info()"
   ]
  },
  {
   "cell_type": "code",
   "execution_count": 5,
   "metadata": {},
   "outputs": [],
   "source": [
    "# Привидем колонки с датами к datetime\n",
    "marketing_events['start_dt'] = pd.to_datetime(marketing_events['start_dt'])\n",
    "marketing_events['finish_dt'] = pd.to_datetime(marketing_events['finish_dt'])"
   ]
  },
  {
   "cell_type": "code",
   "execution_count": 6,
   "metadata": {},
   "outputs": [
    {
     "data": {
      "text/html": [
       "<div>\n",
       "<style scoped>\n",
       "    .dataframe tbody tr th:only-of-type {\n",
       "        vertical-align: middle;\n",
       "    }\n",
       "\n",
       "    .dataframe tbody tr th {\n",
       "        vertical-align: top;\n",
       "    }\n",
       "\n",
       "    .dataframe thead th {\n",
       "        text-align: right;\n",
       "    }\n",
       "</style>\n",
       "<table border=\"1\" class=\"dataframe\">\n",
       "  <thead>\n",
       "    <tr style=\"text-align: right;\">\n",
       "      <th></th>\n",
       "      <th>name</th>\n",
       "      <th>regions</th>\n",
       "      <th>start_dt</th>\n",
       "      <th>finish_dt</th>\n",
       "    </tr>\n",
       "  </thead>\n",
       "  <tbody>\n",
       "    <tr>\n",
       "      <th>0</th>\n",
       "      <td>Christmas&amp;New Year Promo</td>\n",
       "      <td>EU, N.America</td>\n",
       "      <td>2020-12-25</td>\n",
       "      <td>2021-01-03</td>\n",
       "    </tr>\n",
       "    <tr>\n",
       "      <th>1</th>\n",
       "      <td>St. Valentine's Day Giveaway</td>\n",
       "      <td>EU, CIS, APAC, N.America</td>\n",
       "      <td>2020-02-14</td>\n",
       "      <td>2020-02-16</td>\n",
       "    </tr>\n",
       "    <tr>\n",
       "      <th>2</th>\n",
       "      <td>St. Patric's Day Promo</td>\n",
       "      <td>EU, N.America</td>\n",
       "      <td>2020-03-17</td>\n",
       "      <td>2020-03-19</td>\n",
       "    </tr>\n",
       "    <tr>\n",
       "      <th>3</th>\n",
       "      <td>Easter Promo</td>\n",
       "      <td>EU, CIS, APAC, N.America</td>\n",
       "      <td>2020-04-12</td>\n",
       "      <td>2020-04-19</td>\n",
       "    </tr>\n",
       "    <tr>\n",
       "      <th>4</th>\n",
       "      <td>4th of July Promo</td>\n",
       "      <td>N.America</td>\n",
       "      <td>2020-07-04</td>\n",
       "      <td>2020-07-11</td>\n",
       "    </tr>\n",
       "    <tr>\n",
       "      <th>5</th>\n",
       "      <td>Black Friday Ads Campaign</td>\n",
       "      <td>EU, CIS, APAC, N.America</td>\n",
       "      <td>2020-11-26</td>\n",
       "      <td>2020-12-01</td>\n",
       "    </tr>\n",
       "    <tr>\n",
       "      <th>6</th>\n",
       "      <td>Chinese New Year Promo</td>\n",
       "      <td>APAC</td>\n",
       "      <td>2020-01-25</td>\n",
       "      <td>2020-02-07</td>\n",
       "    </tr>\n",
       "    <tr>\n",
       "      <th>7</th>\n",
       "      <td>Labor day (May 1st) Ads Campaign</td>\n",
       "      <td>EU, CIS, APAC</td>\n",
       "      <td>2020-05-01</td>\n",
       "      <td>2020-05-03</td>\n",
       "    </tr>\n",
       "    <tr>\n",
       "      <th>8</th>\n",
       "      <td>International Women's Day Promo</td>\n",
       "      <td>EU, CIS, APAC</td>\n",
       "      <td>2020-03-08</td>\n",
       "      <td>2020-03-10</td>\n",
       "    </tr>\n",
       "    <tr>\n",
       "      <th>9</th>\n",
       "      <td>Victory Day CIS (May 9th) Event</td>\n",
       "      <td>CIS</td>\n",
       "      <td>2020-05-09</td>\n",
       "      <td>2020-05-11</td>\n",
       "    </tr>\n",
       "    <tr>\n",
       "      <th>10</th>\n",
       "      <td>CIS New Year Gift Lottery</td>\n",
       "      <td>CIS</td>\n",
       "      <td>2020-12-30</td>\n",
       "      <td>2021-01-07</td>\n",
       "    </tr>\n",
       "    <tr>\n",
       "      <th>11</th>\n",
       "      <td>Dragon Boat Festival Giveaway</td>\n",
       "      <td>APAC</td>\n",
       "      <td>2020-06-25</td>\n",
       "      <td>2020-07-01</td>\n",
       "    </tr>\n",
       "    <tr>\n",
       "      <th>12</th>\n",
       "      <td>Single's Day Gift Promo</td>\n",
       "      <td>APAC</td>\n",
       "      <td>2020-11-11</td>\n",
       "      <td>2020-11-12</td>\n",
       "    </tr>\n",
       "    <tr>\n",
       "      <th>13</th>\n",
       "      <td>Chinese Moon Festival</td>\n",
       "      <td>APAC</td>\n",
       "      <td>2020-10-01</td>\n",
       "      <td>2020-10-07</td>\n",
       "    </tr>\n",
       "  </tbody>\n",
       "</table>\n",
       "</div>"
      ],
      "text/plain": [
       "                                name                   regions   start_dt  \\\n",
       "0           Christmas&New Year Promo             EU, N.America 2020-12-25   \n",
       "1       St. Valentine's Day Giveaway  EU, CIS, APAC, N.America 2020-02-14   \n",
       "2             St. Patric's Day Promo             EU, N.America 2020-03-17   \n",
       "3                       Easter Promo  EU, CIS, APAC, N.America 2020-04-12   \n",
       "4                  4th of July Promo                 N.America 2020-07-04   \n",
       "5          Black Friday Ads Campaign  EU, CIS, APAC, N.America 2020-11-26   \n",
       "6             Chinese New Year Promo                      APAC 2020-01-25   \n",
       "7   Labor day (May 1st) Ads Campaign             EU, CIS, APAC 2020-05-01   \n",
       "8    International Women's Day Promo             EU, CIS, APAC 2020-03-08   \n",
       "9    Victory Day CIS (May 9th) Event                       CIS 2020-05-09   \n",
       "10         CIS New Year Gift Lottery                       CIS 2020-12-30   \n",
       "11     Dragon Boat Festival Giveaway                      APAC 2020-06-25   \n",
       "12           Single's Day Gift Promo                      APAC 2020-11-11   \n",
       "13             Chinese Moon Festival                      APAC 2020-10-01   \n",
       "\n",
       "    finish_dt  \n",
       "0  2021-01-03  \n",
       "1  2020-02-16  \n",
       "2  2020-03-19  \n",
       "3  2020-04-19  \n",
       "4  2020-07-11  \n",
       "5  2020-12-01  \n",
       "6  2020-02-07  \n",
       "7  2020-05-03  \n",
       "8  2020-03-10  \n",
       "9  2020-05-11  \n",
       "10 2021-01-07  \n",
       "11 2020-07-01  \n",
       "12 2020-11-12  \n",
       "13 2020-10-07  "
      ]
     },
     "execution_count": 6,
     "metadata": {},
     "output_type": "execute_result"
    }
   ],
   "source": [
    "marketing_events"
   ]
  },
  {
   "cell_type": "code",
   "execution_count": 7,
   "metadata": {},
   "outputs": [
    {
     "name": "stdout",
     "output_type": "stream",
     "text": [
      "Количество явных дубликатов строк:  0\n",
      "\n",
      "           nan  nan_percent\n",
      "name         0          0.0\n",
      "regions      0          0.0\n",
      "start_dt     0          0.0\n",
      "finish_dt    0          0.0\n"
     ]
    }
   ],
   "source": [
    "df_stat(marketing_events)"
   ]
  },
  {
   "cell_type": "code",
   "execution_count": 8,
   "metadata": {},
   "outputs": [
    {
     "name": "stdout",
     "output_type": "stream",
     "text": [
      "Уникальные значения в колонке name\n",
      "\n",
      "['Christmas&New Year Promo' \"St. Valentine's Day Giveaway\"\n",
      " \"St. Patric's Day Promo\" 'Easter Promo' '4th of July Promo'\n",
      " 'Black Friday Ads Campaign' 'Chinese New Year Promo'\n",
      " 'Labor day (May 1st) Ads Campaign' \"International Women's Day Promo\"\n",
      " 'Victory Day CIS (May 9th) Event' 'CIS New Year Gift Lottery'\n",
      " 'Dragon Boat Festival Giveaway' \"Single's Day Gift Promo\"\n",
      " 'Chinese Moon Festival']\n",
      "---------------\n",
      "Уникальные значения в колонке regions\n",
      "\n",
      "['EU, N.America' 'EU, CIS, APAC, N.America' 'N.America' 'APAC'\n",
      " 'EU, CIS, APAC' 'CIS']\n",
      "---------------\n",
      "Уникальные значения в колонке start_dt\n",
      "\n",
      "['2020-12-25T00:00:00.000000000' '2020-02-14T00:00:00.000000000'\n",
      " '2020-03-17T00:00:00.000000000' '2020-04-12T00:00:00.000000000'\n",
      " '2020-07-04T00:00:00.000000000' '2020-11-26T00:00:00.000000000'\n",
      " '2020-01-25T00:00:00.000000000' '2020-05-01T00:00:00.000000000'\n",
      " '2020-03-08T00:00:00.000000000' '2020-05-09T00:00:00.000000000'\n",
      " '2020-12-30T00:00:00.000000000' '2020-06-25T00:00:00.000000000'\n",
      " '2020-11-11T00:00:00.000000000' '2020-10-01T00:00:00.000000000']\n",
      "---------------\n",
      "Уникальные значения в колонке finish_dt\n",
      "\n",
      "['2021-01-03T00:00:00.000000000' '2020-02-16T00:00:00.000000000'\n",
      " '2020-03-19T00:00:00.000000000' '2020-04-19T00:00:00.000000000'\n",
      " '2020-07-11T00:00:00.000000000' '2020-12-01T00:00:00.000000000'\n",
      " '2020-02-07T00:00:00.000000000' '2020-05-03T00:00:00.000000000'\n",
      " '2020-03-10T00:00:00.000000000' '2020-05-11T00:00:00.000000000'\n",
      " '2021-01-07T00:00:00.000000000' '2020-07-01T00:00:00.000000000'\n",
      " '2020-11-12T00:00:00.000000000' '2020-10-07T00:00:00.000000000']\n",
      "---------------\n"
     ]
    }
   ],
   "source": [
    "df_unique_vals(marketing_events)"
   ]
  },
  {
   "cell_type": "code",
   "execution_count": 9,
   "metadata": {},
   "outputs": [],
   "source": [
    "marketing_events = df_strlower_object(marketing_events)"
   ]
  },
  {
   "cell_type": "markdown",
   "metadata": {},
   "source": [
    "Пропущенных значений `ab_project_marketing_events.csv` в датасете нету, явных дубликатов строк нет "
   ]
  },
  {
   "cell_type": "markdown",
   "metadata": {},
   "source": [
    "### Датасет `final_ab_new_users.csv` "
   ]
  },
  {
   "cell_type": "code",
   "execution_count": 10,
   "metadata": {},
   "outputs": [
    {
     "name": "stdout",
     "output_type": "stream",
     "text": [
      "<class 'pandas.core.frame.DataFrame'>\n",
      "RangeIndex: 61733 entries, 0 to 61732\n",
      "Data columns (total 4 columns):\n",
      " #   Column      Non-Null Count  Dtype \n",
      "---  ------      --------------  ----- \n",
      " 0   user_id     61733 non-null  object\n",
      " 1   first_date  61733 non-null  object\n",
      " 2   region      61733 non-null  object\n",
      " 3   device      61733 non-null  object\n",
      "dtypes: object(4)\n",
      "memory usage: 1.9+ MB\n"
     ]
    }
   ],
   "source": [
    "fab_new_users.info()"
   ]
  },
  {
   "cell_type": "code",
   "execution_count": 11,
   "metadata": {},
   "outputs": [],
   "source": [
    "fab_new_users['first_date'] = pd.to_datetime(fab_new_users['first_date'])\n",
    "fab_new_users = df_strlower_object(fab_new_users)"
   ]
  },
  {
   "cell_type": "code",
   "execution_count": 12,
   "metadata": {},
   "outputs": [
    {
     "data": {
      "text/html": [
       "<div>\n",
       "<style scoped>\n",
       "    .dataframe tbody tr th:only-of-type {\n",
       "        vertical-align: middle;\n",
       "    }\n",
       "\n",
       "    .dataframe tbody tr th {\n",
       "        vertical-align: top;\n",
       "    }\n",
       "\n",
       "    .dataframe thead th {\n",
       "        text-align: right;\n",
       "    }\n",
       "</style>\n",
       "<table border=\"1\" class=\"dataframe\">\n",
       "  <thead>\n",
       "    <tr style=\"text-align: right;\">\n",
       "      <th></th>\n",
       "      <th>user_id</th>\n",
       "      <th>first_date</th>\n",
       "      <th>region</th>\n",
       "      <th>device</th>\n",
       "    </tr>\n",
       "  </thead>\n",
       "  <tbody>\n",
       "    <tr>\n",
       "      <th>0</th>\n",
       "      <td>d72a72121175d8be</td>\n",
       "      <td>2020-12-07</td>\n",
       "      <td>eu</td>\n",
       "      <td>pc</td>\n",
       "    </tr>\n",
       "    <tr>\n",
       "      <th>1</th>\n",
       "      <td>f1c668619dfe6e65</td>\n",
       "      <td>2020-12-07</td>\n",
       "      <td>n.america</td>\n",
       "      <td>android</td>\n",
       "    </tr>\n",
       "    <tr>\n",
       "      <th>2</th>\n",
       "      <td>2e1bf1d4c37ea01f</td>\n",
       "      <td>2020-12-07</td>\n",
       "      <td>eu</td>\n",
       "      <td>pc</td>\n",
       "    </tr>\n",
       "    <tr>\n",
       "      <th>3</th>\n",
       "      <td>50734a22c0c63768</td>\n",
       "      <td>2020-12-07</td>\n",
       "      <td>eu</td>\n",
       "      <td>iphone</td>\n",
       "    </tr>\n",
       "    <tr>\n",
       "      <th>4</th>\n",
       "      <td>e1bddce0dafa2679</td>\n",
       "      <td>2020-12-07</td>\n",
       "      <td>n.america</td>\n",
       "      <td>iphone</td>\n",
       "    </tr>\n",
       "    <tr>\n",
       "      <th>5</th>\n",
       "      <td>137119f5a9e69421</td>\n",
       "      <td>2020-12-07</td>\n",
       "      <td>n.america</td>\n",
       "      <td>iphone</td>\n",
       "    </tr>\n",
       "    <tr>\n",
       "      <th>6</th>\n",
       "      <td>62f0c741cc42d0cc</td>\n",
       "      <td>2020-12-07</td>\n",
       "      <td>apac</td>\n",
       "      <td>iphone</td>\n",
       "    </tr>\n",
       "    <tr>\n",
       "      <th>7</th>\n",
       "      <td>8942e64218c9a1ed</td>\n",
       "      <td>2020-12-07</td>\n",
       "      <td>eu</td>\n",
       "      <td>pc</td>\n",
       "    </tr>\n",
       "    <tr>\n",
       "      <th>8</th>\n",
       "      <td>499afacf904bbae3</td>\n",
       "      <td>2020-12-07</td>\n",
       "      <td>n.america</td>\n",
       "      <td>iphone</td>\n",
       "    </tr>\n",
       "    <tr>\n",
       "      <th>9</th>\n",
       "      <td>ffcea1179c253104</td>\n",
       "      <td>2020-12-07</td>\n",
       "      <td>eu</td>\n",
       "      <td>android</td>\n",
       "    </tr>\n",
       "  </tbody>\n",
       "</table>\n",
       "</div>"
      ],
      "text/plain": [
       "            user_id first_date     region   device\n",
       "0  d72a72121175d8be 2020-12-07         eu       pc\n",
       "1  f1c668619dfe6e65 2020-12-07  n.america  android\n",
       "2  2e1bf1d4c37ea01f 2020-12-07         eu       pc\n",
       "3  50734a22c0c63768 2020-12-07         eu   iphone\n",
       "4  e1bddce0dafa2679 2020-12-07  n.america   iphone\n",
       "5  137119f5a9e69421 2020-12-07  n.america   iphone\n",
       "6  62f0c741cc42d0cc 2020-12-07       apac   iphone\n",
       "7  8942e64218c9a1ed 2020-12-07         eu       pc\n",
       "8  499afacf904bbae3 2020-12-07  n.america   iphone\n",
       "9  ffcea1179c253104 2020-12-07         eu  android"
      ]
     },
     "execution_count": 12,
     "metadata": {},
     "output_type": "execute_result"
    }
   ],
   "source": [
    "fab_new_users.head(10)"
   ]
  },
  {
   "cell_type": "code",
   "execution_count": 13,
   "metadata": {},
   "outputs": [
    {
     "name": "stdout",
     "output_type": "stream",
     "text": [
      "Количество явных дубликатов строк:  0\n",
      "\n",
      "            nan  nan_percent\n",
      "user_id       0          0.0\n",
      "first_date    0          0.0\n",
      "region        0          0.0\n",
      "device        0          0.0\n"
     ]
    }
   ],
   "source": [
    "df_stat(fab_new_users)"
   ]
  },
  {
   "cell_type": "code",
   "execution_count": 14,
   "metadata": {},
   "outputs": [
    {
     "name": "stdout",
     "output_type": "stream",
     "text": [
      "!!!\n",
      "Слишком много уникальных значений в колонке user_id\n",
      "первые 30 значений:\n",
      "!!!\n",
      "\n",
      "['d72a72121175d8be' 'f1c668619dfe6e65' '2e1bf1d4c37ea01f'\n",
      " '50734a22c0c63768' 'e1bddce0dafa2679' '137119f5a9e69421'\n",
      " '62f0c741cc42d0cc' '8942e64218c9a1ed' '499afacf904bbae3'\n",
      " 'ffcea1179c253104' '5eb159da9dc94dba' '084a22b980ba8169'\n",
      " '8acc2420471b31e4' 'e6de857afbdc6102' '5be017e9c8cc42f8'\n",
      " '7b6452f081f49504' '0fc21e6f8faa8dec' '9cd9f34546df254c'\n",
      " '96f27a054b191457' '1fd7660fdf94ca1f' 'dd4352cdcf8c3d57'\n",
      " 'e6af85675078215d' 'cf3a409adca5f68f' '831887fe7f2d6cba'\n",
      " 'ad8bfc204c0f14e4' '18bfe6138d1740ed' '6b2f726bfd5f8220'\n",
      " '5c31fa76d6418867' '160121894010711f' '7713f4dd96975e70']\n",
      "---------------\n",
      "Уникальные значения в колонке first_date\n",
      "\n",
      "['2020-12-07T00:00:00.000000000' '2020-12-14T00:00:00.000000000'\n",
      " '2020-12-21T00:00:00.000000000' '2020-12-08T00:00:00.000000000'\n",
      " '2020-12-15T00:00:00.000000000' '2020-12-22T00:00:00.000000000'\n",
      " '2020-12-09T00:00:00.000000000' '2020-12-16T00:00:00.000000000'\n",
      " '2020-12-23T00:00:00.000000000' '2020-12-10T00:00:00.000000000'\n",
      " '2020-12-17T00:00:00.000000000' '2020-12-11T00:00:00.000000000'\n",
      " '2020-12-18T00:00:00.000000000' '2020-12-12T00:00:00.000000000'\n",
      " '2020-12-19T00:00:00.000000000' '2020-12-13T00:00:00.000000000'\n",
      " '2020-12-20T00:00:00.000000000']\n",
      "---------------\n",
      "Уникальные значения в колонке region\n",
      "\n",
      "['eu' 'n.america' 'apac' 'cis']\n",
      "---------------\n",
      "Уникальные значения в колонке device\n",
      "\n",
      "['pc' 'android' 'iphone' 'mac']\n",
      "---------------\n"
     ]
    }
   ],
   "source": [
    "df_unique_vals(fab_new_users)"
   ]
  },
  {
   "cell_type": "markdown",
   "metadata": {},
   "source": [
    "Пропущенных значений `final_ab_new_users.csv` в датасете нету, явных дубликатов строк нет \n"
   ]
  },
  {
   "cell_type": "code",
   "execution_count": 15,
   "metadata": {},
   "outputs": [
    {
     "name": "stdout",
     "output_type": "stream",
     "text": [
      "<class 'pandas.core.frame.DataFrame'>\n",
      "RangeIndex: 61733 entries, 0 to 61732\n",
      "Data columns (total 4 columns):\n",
      " #   Column      Non-Null Count  Dtype         \n",
      "---  ------      --------------  -----         \n",
      " 0   user_id     61733 non-null  object        \n",
      " 1   first_date  61733 non-null  datetime64[ns]\n",
      " 2   region      61733 non-null  object        \n",
      " 3   device      61733 non-null  object        \n",
      "dtypes: datetime64[ns](1), object(3)\n",
      "memory usage: 1.9+ MB\n"
     ]
    }
   ],
   "source": [
    "fab_new_users.info()"
   ]
  },
  {
   "cell_type": "code",
   "execution_count": 16,
   "metadata": {},
   "outputs": [
    {
     "name": "stdout",
     "output_type": "stream",
     "text": [
      " user_id, first_date неявные дубликаты: 0\n",
      " user_id, region неявные дубликаты: 0\n",
      " user_id, device неявные дубликаты: 0\n"
     ]
    }
   ],
   "source": [
    "_col = 'user_id'\n",
    "_rest_cols = [i for i in fab_new_users.columns if i != _col]\n",
    "\n",
    "implicit_duplicates_check(fab_new_users, _col, _rest_cols)"
   ]
  },
  {
   "cell_type": "markdown",
   "metadata": {},
   "source": [
    "неявных дубликатов нету"
   ]
  },
  {
   "cell_type": "markdown",
   "metadata": {},
   "source": [
    "### Датасет `final_ab_events.csv` "
   ]
  },
  {
   "cell_type": "code",
   "execution_count": 17,
   "metadata": {},
   "outputs": [
    {
     "name": "stdout",
     "output_type": "stream",
     "text": [
      "<class 'pandas.core.frame.DataFrame'>\n",
      "RangeIndex: 440317 entries, 0 to 440316\n",
      "Data columns (total 4 columns):\n",
      " #   Column      Non-Null Count   Dtype  \n",
      "---  ------      --------------   -----  \n",
      " 0   user_id     440317 non-null  object \n",
      " 1   event_dt    440317 non-null  object \n",
      " 2   event_name  440317 non-null  object \n",
      " 3   details     62740 non-null   float64\n",
      "dtypes: float64(1), object(3)\n",
      "memory usage: 13.4+ MB\n"
     ]
    }
   ],
   "source": [
    "fab_events.info()"
   ]
  },
  {
   "cell_type": "code",
   "execution_count": 18,
   "metadata": {},
   "outputs": [],
   "source": [
    "fab_events['event_dt'] = pd.to_datetime(fab_events['event_dt'])\n",
    "fab_events = df_strlower_object(fab_events)"
   ]
  },
  {
   "cell_type": "code",
   "execution_count": 19,
   "metadata": {},
   "outputs": [
    {
     "name": "stdout",
     "output_type": "stream",
     "text": [
      "Количество явных дубликатов строк:  0\n",
      "\n",
      "               nan  nan_percent\n",
      "user_id          0         0.00\n",
      "event_dt         0         0.00\n",
      "event_name       0         0.00\n",
      "details     377577        85.75\n"
     ]
    }
   ],
   "source": [
    "df_stat(fab_events)"
   ]
  },
  {
   "cell_type": "code",
   "execution_count": 20,
   "metadata": {},
   "outputs": [
    {
     "name": "stdout",
     "output_type": "stream",
     "text": [
      "!!!\n",
      "Слишком много уникальных значений в колонке user_id\n",
      "первые 30 значений:\n",
      "!!!\n",
      "\n",
      "['e1bddce0dafa2679' '7b6452f081f49504' '9cd9f34546df254c'\n",
      " '96f27a054b191457' '1fd7660fdf94ca1f' '831887fe7f2d6cba'\n",
      " '6b2f726bfd5f8220' 'beb37715aacf53b0' 'b5fa27f582227197'\n",
      " 'a92195e3cfb83dbd' 'e2e76a8b3389127c' '354d653172ff2a2d'\n",
      " '7fcd34f47c13a9ac' '0313c457f07c339e' '214902a9baaf3422'\n",
      " 'ae6b95b9a7c6380e' 'ec9afcc18f1cf6d9' '3c5dd0288ac4fe23'\n",
      " '649ecf69ec552a56' '9c31b4124b3ae217' '5c4ba5c457bc114a'\n",
      " 'fcd216b91578b8dc' '435506a7a2265bbd' '909b249eb165910f'\n",
      " 'ed61425dac3e345c' 'c39e95e709714a06' 'de83b085136cbf2d'\n",
      " 'f42ca236f49ab93b' 'aa77bda8996fe1b8' '5e9543d6eb27d7d7']\n",
      "---------------\n",
      "!!!\n",
      "Слишком много уникальных значений в колонке event_dt\n",
      "первые 30 значений:\n",
      "!!!\n",
      "\n",
      "['2020-12-07T20:22:03.000000000' '2020-12-07T09:22:53.000000000'\n",
      " '2020-12-07T12:59:29.000000000' '2020-12-07T04:02:40.000000000'\n",
      " '2020-12-07T10:15:09.000000000' '2020-12-07T06:50:29.000000000'\n",
      " '2020-12-07T11:27:42.000000000' '2020-12-07T04:26:15.000000000'\n",
      " '2020-12-07T01:46:37.000000000' '2020-12-07T00:32:07.000000000'\n",
      " '2020-12-07T15:39:32.000000000' '2020-12-07T15:45:11.000000000'\n",
      " '2020-12-07T22:06:13.000000000' '2020-12-07T13:10:48.000000000'\n",
      " '2020-12-07T19:31:44.000000000' '2020-12-07T19:09:12.000000000'\n",
      " '2020-12-07T19:19:00.000000000' '2020-12-07T19:42:40.000000000'\n",
      " '2020-12-07T06:19:31.000000000' '2020-12-07T21:38:36.000000000'\n",
      " '2020-12-07T05:37:13.000000000' '2020-12-07T18:24:41.000000000'\n",
      " '2020-12-07T11:53:57.000000000' '2020-12-07T07:06:01.000000000'\n",
      " '2020-12-07T01:03:27.000000000' '2020-12-07T09:07:20.000000000'\n",
      " '2020-12-07T20:10:44.000000000' '2020-12-07T21:50:34.000000000'\n",
      " '2020-12-07T08:24:41.000000000' '2020-12-07T21:37:33.000000000']\n",
      "---------------\n",
      "Уникальные значения в колонке event_name\n",
      "\n",
      "['purchase' 'product_cart' 'product_page' 'login']\n",
      "---------------\n",
      "Уникальные значения в колонке details\n",
      "\n",
      "[ 99.99   9.99   4.99 499.99    nan]\n",
      "---------------\n"
     ]
    }
   ],
   "source": [
    "df_unique_vals(fab_events)"
   ]
  },
  {
   "cell_type": "code",
   "execution_count": 21,
   "metadata": {},
   "outputs": [],
   "source": [
    "fab_events['details'].fillna(0, inplace=True)"
   ]
  },
  {
   "cell_type": "markdown",
   "metadata": {},
   "source": [
    "Пропущенных значений `final_ab_events.csv`  есть лишь в колонке `details` 86% NaN -  заполним их 0."
   ]
  },
  {
   "cell_type": "code",
   "execution_count": 22,
   "metadata": {},
   "outputs": [
    {
     "name": "stdout",
     "output_type": "stream",
     "text": [
      " user_id, event_dt неявные дубликаты: 151233\n",
      " user_id, event_name неявные дубликаты: 303838\n",
      " user_id, details неявные дубликаты: 349021\n"
     ]
    }
   ],
   "source": [
    "_col = 'user_id'\n",
    "_rest_cols = [i for i in fab_events.columns if i != _col]\n",
    "\n",
    "implicit_duplicates_check(fab_events, _col, _rest_cols)"
   ]
  },
  {
   "cell_type": "code",
   "execution_count": 23,
   "metadata": {},
   "outputs": [
    {
     "data": {
      "text/plain": [
       "['event_dt', 'event_name', 'details']"
      ]
     },
     "execution_count": 23,
     "metadata": {},
     "output_type": "execute_result"
    }
   ],
   "source": [
    "_rest_cols"
   ]
  },
  {
   "cell_type": "code",
   "execution_count": 24,
   "metadata": {},
   "outputs": [
    {
     "data": {
      "text/plain": [
       "0"
      ]
     },
     "execution_count": 24,
     "metadata": {},
     "output_type": "execute_result"
    }
   ],
   "source": [
    "fab_events[['user_id', 'event_dt', 'event_name']].duplicated().sum()"
   ]
  },
  {
   "cell_type": "markdown",
   "metadata": {},
   "source": [
    "Эти неявные дубликаты нормальны, их следует оставить"
   ]
  },
  {
   "cell_type": "markdown",
   "metadata": {},
   "source": [
    "### Датасет `final_ab_participants.csv`"
   ]
  },
  {
   "cell_type": "code",
   "execution_count": 25,
   "metadata": {},
   "outputs": [
    {
     "name": "stdout",
     "output_type": "stream",
     "text": [
      "<class 'pandas.core.frame.DataFrame'>\n",
      "RangeIndex: 18268 entries, 0 to 18267\n",
      "Data columns (total 3 columns):\n",
      " #   Column   Non-Null Count  Dtype \n",
      "---  ------   --------------  ----- \n",
      " 0   user_id  18268 non-null  object\n",
      " 1   group    18268 non-null  object\n",
      " 2   ab_test  18268 non-null  object\n",
      "dtypes: object(3)\n",
      "memory usage: 428.3+ KB\n"
     ]
    }
   ],
   "source": [
    "fab_participants.info()"
   ]
  },
  {
   "cell_type": "code",
   "execution_count": 26,
   "metadata": {},
   "outputs": [],
   "source": [
    "fab_participants = df_strlower_object(fab_participants)"
   ]
  },
  {
   "cell_type": "code",
   "execution_count": 27,
   "metadata": {},
   "outputs": [
    {
     "name": "stdout",
     "output_type": "stream",
     "text": [
      "Количество явных дубликатов строк:  0\n",
      "\n",
      "         nan  nan_percent\n",
      "user_id    0          0.0\n",
      "group      0          0.0\n",
      "ab_test    0          0.0\n"
     ]
    }
   ],
   "source": [
    "df_stat(fab_participants)"
   ]
  },
  {
   "cell_type": "code",
   "execution_count": 28,
   "metadata": {},
   "outputs": [
    {
     "name": "stdout",
     "output_type": "stream",
     "text": [
      "!!!\n",
      "Слишком много уникальных значений в колонке user_id\n",
      "первые 30 значений:\n",
      "!!!\n",
      "\n",
      "['d1aba3e2887b6a73' 'a7a3664bd6242119' 'dabc14fddfadd29e'\n",
      " '04988c5df189632e' '482f14783456d21b' '4ff2998a348c484f'\n",
      " '7473e0943673c09e' 'c46fe336d240a054' '92cb588012c10d3d'\n",
      " '057ab296296c7fc0' 'b3a2485649e4a012' 'e9fa12fae3f5769c'\n",
      " 'fdd0a1016549d707' '547e99a7bdb0fce9' '66fc298441d50783'\n",
      " '2dec89ae490ecf87' 'cd74c3d22ffc09c2' '19f4a16b875e04ee'\n",
      " 'bfe782851a612ed3' 'dff78dc10227091e' '3ec43789dcfde876'\n",
      " '80a2f277c571443c' '6dc95ba214708c82' '50aa023ef325bca1'\n",
      " 'c716af018b3d96f5' 'eafb9027a27d510c' 'd755e432c37533da'\n",
      " '5c374d874b09b2d9' '2213d1959f931ce7' '5d5e6ee92af6e9e0']\n",
      "---------------\n",
      "Уникальные значения в колонке group\n",
      "\n",
      "['a' 'b']\n",
      "---------------\n",
      "Уникальные значения в колонке ab_test\n",
      "\n",
      "['recommender_system_test' 'interface_eu_test']\n",
      "---------------\n"
     ]
    }
   ],
   "source": [
    "df_unique_vals(fab_participants)"
   ]
  },
  {
   "cell_type": "markdown",
   "metadata": {},
   "source": [
    "Пропущенных значений `final_ab_participants.csv` нету. Явных дубликатов строк нет. "
   ]
  },
  {
   "cell_type": "code",
   "execution_count": 29,
   "metadata": {},
   "outputs": [
    {
     "name": "stdout",
     "output_type": "stream",
     "text": [
      " user_id, group неявные дубликаты: 826\n",
      " user_id, ab_test неявные дубликаты: 0\n"
     ]
    }
   ],
   "source": [
    "_col = 'user_id'\n",
    "_rest_cols = [i for i in fab_participants.columns if i != _col]\n",
    "\n",
    "implicit_duplicates_check(fab_participants, _col, _rest_cols)"
   ]
  },
  {
   "cell_type": "code",
   "execution_count": 30,
   "metadata": {},
   "outputs": [
    {
     "data": {
      "text/html": [
       "<div>\n",
       "<style scoped>\n",
       "    .dataframe tbody tr th:only-of-type {\n",
       "        vertical-align: middle;\n",
       "    }\n",
       "\n",
       "    .dataframe tbody tr th {\n",
       "        vertical-align: top;\n",
       "    }\n",
       "\n",
       "    .dataframe thead th {\n",
       "        text-align: right;\n",
       "    }\n",
       "</style>\n",
       "<table border=\"1\" class=\"dataframe\">\n",
       "  <thead>\n",
       "    <tr style=\"text-align: right;\">\n",
       "      <th></th>\n",
       "      <th>user_id</th>\n",
       "      <th>group</th>\n",
       "      <th>ab_test</th>\n",
       "    </tr>\n",
       "  </thead>\n",
       "  <tbody>\n",
       "    <tr>\n",
       "      <th>2</th>\n",
       "      <td>dabc14fddfadd29e</td>\n",
       "      <td>a</td>\n",
       "      <td>recommender_system_test</td>\n",
       "    </tr>\n",
       "    <tr>\n",
       "      <th>3</th>\n",
       "      <td>04988c5df189632e</td>\n",
       "      <td>a</td>\n",
       "      <td>recommender_system_test</td>\n",
       "    </tr>\n",
       "    <tr>\n",
       "      <th>10</th>\n",
       "      <td>b3a2485649e4a012</td>\n",
       "      <td>a</td>\n",
       "      <td>recommender_system_test</td>\n",
       "    </tr>\n",
       "    <tr>\n",
       "      <th>29</th>\n",
       "      <td>5d5e6ee92af6e9e0</td>\n",
       "      <td>b</td>\n",
       "      <td>recommender_system_test</td>\n",
       "    </tr>\n",
       "    <tr>\n",
       "      <th>31</th>\n",
       "      <td>d6e62099519f986c</td>\n",
       "      <td>a</td>\n",
       "      <td>recommender_system_test</td>\n",
       "    </tr>\n",
       "    <tr>\n",
       "      <th>...</th>\n",
       "      <td>...</td>\n",
       "      <td>...</td>\n",
       "      <td>...</td>\n",
       "    </tr>\n",
       "    <tr>\n",
       "      <th>18170</th>\n",
       "      <td>7df21aeb1aa231f9</td>\n",
       "      <td>b</td>\n",
       "      <td>interface_eu_test</td>\n",
       "    </tr>\n",
       "    <tr>\n",
       "      <th>18183</th>\n",
       "      <td>ea6ea431ff84563b</td>\n",
       "      <td>b</td>\n",
       "      <td>interface_eu_test</td>\n",
       "    </tr>\n",
       "    <tr>\n",
       "      <th>18210</th>\n",
       "      <td>70bf82527e6ed9c3</td>\n",
       "      <td>a</td>\n",
       "      <td>interface_eu_test</td>\n",
       "    </tr>\n",
       "    <tr>\n",
       "      <th>18227</th>\n",
       "      <td>ef2e4faf26951358</td>\n",
       "      <td>a</td>\n",
       "      <td>interface_eu_test</td>\n",
       "    </tr>\n",
       "    <tr>\n",
       "      <th>18245</th>\n",
       "      <td>2b0cd24ee4291ca0</td>\n",
       "      <td>b</td>\n",
       "      <td>interface_eu_test</td>\n",
       "    </tr>\n",
       "  </tbody>\n",
       "</table>\n",
       "<p>1652 rows × 3 columns</p>\n",
       "</div>"
      ],
      "text/plain": [
       "                user_id group                  ab_test\n",
       "2      dabc14fddfadd29e     a  recommender_system_test\n",
       "3      04988c5df189632e     a  recommender_system_test\n",
       "10     b3a2485649e4a012     a  recommender_system_test\n",
       "29     5d5e6ee92af6e9e0     b  recommender_system_test\n",
       "31     d6e62099519f986c     a  recommender_system_test\n",
       "...                 ...   ...                      ...\n",
       "18170  7df21aeb1aa231f9     b        interface_eu_test\n",
       "18183  ea6ea431ff84563b     b        interface_eu_test\n",
       "18210  70bf82527e6ed9c3     a        interface_eu_test\n",
       "18227  ef2e4faf26951358     a        interface_eu_test\n",
       "18245  2b0cd24ee4291ca0     b        interface_eu_test\n",
       "\n",
       "[1652 rows x 3 columns]"
      ]
     },
     "execution_count": 30,
     "metadata": {},
     "output_type": "execute_result"
    }
   ],
   "source": [
    "fab_participants[fab_participants[['user_id', 'group']].duplicated(keep=False)]"
   ]
  },
  {
   "cell_type": "markdown",
   "metadata": {},
   "source": [
    "А вот похоже пользователи которые любят учавствовать одновременно в разных тестах"
   ]
  },
  {
   "cell_type": "markdown",
   "metadata": {},
   "source": [
    "## Исследовательский анализ данных\n",
    "<a id='eda'></a>\n",
    "[К содержанию](#table_of_contents)"
   ]
  },
  {
   "cell_type": "markdown",
   "metadata": {},
   "source": [
    "### Оценка корректности теста с ТЗ"
   ]
  },
  {
   "cell_type": "code",
   "execution_count": 31,
   "metadata": {},
   "outputs": [],
   "source": [
    "data = (fab_events.merge(fab_new_users, how='inner', on='user_id')\n",
    "                       .merge(fab_participants, how='inner', on='user_id'))\n",
    "rst = data.query('ab_test == \"recommender_system_test\"')\n",
    "iet = data.query('ab_test == \"interface_eu_test\"')"
   ]
  },
  {
   "cell_type": "code",
   "execution_count": 32,
   "metadata": {},
   "outputs": [
    {
     "name": "stdout",
     "output_type": "stream",
     "text": [
      "3675\n",
      "10850\n",
      "13638\n"
     ]
    }
   ],
   "source": [
    "print(rst['user_id'].nunique())\n",
    "print(iet['user_id'].nunique())\n",
    "print(data['user_id'].nunique())"
   ]
  },
  {
   "cell_type": "code",
   "execution_count": 33,
   "metadata": {},
   "outputs": [
    {
     "data": {
      "text/plain": [
       "887"
      ]
     },
     "execution_count": 33,
     "metadata": {},
     "output_type": "execute_result"
    }
   ],
   "source": [
    "# пересечение с другим тестом\n",
    "users_in_two_tests = set(rst['user_id'].unique()).intersection(set(iet['user_id'].unique()))\n",
    "len(users_in_two_tests)"
   ]
  },
  {
   "cell_type": "code",
   "execution_count": 34,
   "metadata": {},
   "outputs": [],
   "source": [
    "rst = rst.query('user_id not in @users_in_two_tests')\n",
    "data = data.query('user_id not in @users_in_two_tests')\n",
    "# iet = iet.query('user_id not in @users_in_two_tests')"
   ]
  },
  {
   "cell_type": "code",
   "execution_count": 35,
   "metadata": {},
   "outputs": [
    {
     "data": {
      "text/plain": [
       "Series([], Name: user_id, dtype: object)"
      ]
     },
     "execution_count": 35,
     "metadata": {},
     "output_type": "execute_result"
    }
   ],
   "source": [
    "# посчитаем кол-во группы у каждого пользователя, тем самым найдем пользователей учавствовавших в 2х группах\n",
    "_two_groups_users = (rst.groupby('user_id')\n",
    "                         .agg({'group': 'nunique'})\n",
    "                         .reset_index()\n",
    "                         .query('group > 1')['user_id']\n",
    ")\n",
    "_two_groups_users"
   ]
  },
  {
   "cell_type": "markdown",
   "metadata": {},
   "source": [
    "Пользователей которые учавствуют в А и B группах одновременно - **нет**"
   ]
  },
  {
   "cell_type": "code",
   "execution_count": 36,
   "metadata": {},
   "outputs": [
    {
     "data": {
      "text/plain": [
       "2788"
      ]
     },
     "execution_count": 36,
     "metadata": {},
     "output_type": "execute_result"
    }
   ],
   "source": [
    "rst['user_id'].nunique()"
   ]
  },
  {
   "cell_type": "code",
   "execution_count": 37,
   "metadata": {},
   "outputs": [
    {
     "data": {
      "text/plain": [
       "DatetimeIndex(['2020-12-07 00:16:00', '2020-12-08 00:16:00',\n",
       "               '2020-12-09 00:16:00', '2020-12-10 00:16:00',\n",
       "               '2020-12-11 00:16:00', '2020-12-12 00:16:00',\n",
       "               '2020-12-13 00:16:00', '2020-12-14 00:16:00',\n",
       "               '2020-12-15 00:16:00', '2020-12-16 00:16:00',\n",
       "               '2020-12-17 00:16:00', '2020-12-18 00:16:00',\n",
       "               '2020-12-19 00:16:00', '2020-12-20 00:16:00',\n",
       "               '2020-12-21 00:16:00', '2020-12-22 00:16:00',\n",
       "               '2020-12-23 00:16:00', '2020-12-24 00:16:00',\n",
       "               '2020-12-25 00:16:00', '2020-12-26 00:16:00',\n",
       "               '2020-12-27 00:16:00', '2020-12-28 00:16:00',\n",
       "               '2020-12-29 00:16:00', '2020-12-30 00:16:00'],\n",
       "              dtype='datetime64[ns]', freq='D')"
      ]
     },
     "execution_count": 37,
     "metadata": {},
     "output_type": "execute_result"
    }
   ],
   "source": [
    "# Проверим не проходил ли A/B тест во время праздников\n",
    "event_dt_range = pd.date_range(rst['event_dt'].min(), rst['event_dt'].max())\n",
    "event_dt_range"
   ]
  },
  {
   "cell_type": "code",
   "execution_count": 38,
   "metadata": {},
   "outputs": [],
   "source": [
    "# marketing event days\n",
    "me_days = []\n",
    "\n",
    "for ind in range(marketing_events.shape[0]):\n",
    "    me_days.extend(pd.date_range(marketing_events.loc[ind, 'start_dt'],\n",
    "                                 marketing_events.loc[ind, 'finish_dt'])\n",
    "    )"
   ]
  },
  {
   "cell_type": "code",
   "execution_count": 39,
   "metadata": {},
   "outputs": [
    {
     "data": {
      "text/html": [
       "<div>\n",
       "<style scoped>\n",
       "    .dataframe tbody tr th:only-of-type {\n",
       "        vertical-align: middle;\n",
       "    }\n",
       "\n",
       "    .dataframe tbody tr th {\n",
       "        vertical-align: top;\n",
       "    }\n",
       "\n",
       "    .dataframe thead th {\n",
       "        text-align: right;\n",
       "    }\n",
       "</style>\n",
       "<table border=\"1\" class=\"dataframe\">\n",
       "  <thead>\n",
       "    <tr style=\"text-align: right;\">\n",
       "      <th></th>\n",
       "      <th>name</th>\n",
       "      <th>regions</th>\n",
       "      <th>start_dt</th>\n",
       "      <th>finish_dt</th>\n",
       "    </tr>\n",
       "  </thead>\n",
       "  <tbody>\n",
       "    <tr>\n",
       "      <th>0</th>\n",
       "      <td>christmas&amp;new year promo</td>\n",
       "      <td>eu, n.america</td>\n",
       "      <td>2020-12-25</td>\n",
       "      <td>2021-01-03</td>\n",
       "    </tr>\n",
       "    <tr>\n",
       "      <th>1</th>\n",
       "      <td>st. valentine's day giveaway</td>\n",
       "      <td>eu, cis, apac, n.america</td>\n",
       "      <td>2020-02-14</td>\n",
       "      <td>2020-02-16</td>\n",
       "    </tr>\n",
       "    <tr>\n",
       "      <th>2</th>\n",
       "      <td>st. patric's day promo</td>\n",
       "      <td>eu, n.america</td>\n",
       "      <td>2020-03-17</td>\n",
       "      <td>2020-03-19</td>\n",
       "    </tr>\n",
       "    <tr>\n",
       "      <th>3</th>\n",
       "      <td>easter promo</td>\n",
       "      <td>eu, cis, apac, n.america</td>\n",
       "      <td>2020-04-12</td>\n",
       "      <td>2020-04-19</td>\n",
       "    </tr>\n",
       "    <tr>\n",
       "      <th>4</th>\n",
       "      <td>4th of july promo</td>\n",
       "      <td>n.america</td>\n",
       "      <td>2020-07-04</td>\n",
       "      <td>2020-07-11</td>\n",
       "    </tr>\n",
       "    <tr>\n",
       "      <th>5</th>\n",
       "      <td>black friday ads campaign</td>\n",
       "      <td>eu, cis, apac, n.america</td>\n",
       "      <td>2020-11-26</td>\n",
       "      <td>2020-12-01</td>\n",
       "    </tr>\n",
       "    <tr>\n",
       "      <th>6</th>\n",
       "      <td>chinese new year promo</td>\n",
       "      <td>apac</td>\n",
       "      <td>2020-01-25</td>\n",
       "      <td>2020-02-07</td>\n",
       "    </tr>\n",
       "    <tr>\n",
       "      <th>7</th>\n",
       "      <td>labor day (may 1st) ads campaign</td>\n",
       "      <td>eu, cis, apac</td>\n",
       "      <td>2020-05-01</td>\n",
       "      <td>2020-05-03</td>\n",
       "    </tr>\n",
       "    <tr>\n",
       "      <th>8</th>\n",
       "      <td>international women's day promo</td>\n",
       "      <td>eu, cis, apac</td>\n",
       "      <td>2020-03-08</td>\n",
       "      <td>2020-03-10</td>\n",
       "    </tr>\n",
       "    <tr>\n",
       "      <th>9</th>\n",
       "      <td>victory day cis (may 9th) event</td>\n",
       "      <td>cis</td>\n",
       "      <td>2020-05-09</td>\n",
       "      <td>2020-05-11</td>\n",
       "    </tr>\n",
       "    <tr>\n",
       "      <th>10</th>\n",
       "      <td>cis new year gift lottery</td>\n",
       "      <td>cis</td>\n",
       "      <td>2020-12-30</td>\n",
       "      <td>2021-01-07</td>\n",
       "    </tr>\n",
       "    <tr>\n",
       "      <th>11</th>\n",
       "      <td>dragon boat festival giveaway</td>\n",
       "      <td>apac</td>\n",
       "      <td>2020-06-25</td>\n",
       "      <td>2020-07-01</td>\n",
       "    </tr>\n",
       "    <tr>\n",
       "      <th>12</th>\n",
       "      <td>single's day gift promo</td>\n",
       "      <td>apac</td>\n",
       "      <td>2020-11-11</td>\n",
       "      <td>2020-11-12</td>\n",
       "    </tr>\n",
       "    <tr>\n",
       "      <th>13</th>\n",
       "      <td>chinese moon festival</td>\n",
       "      <td>apac</td>\n",
       "      <td>2020-10-01</td>\n",
       "      <td>2020-10-07</td>\n",
       "    </tr>\n",
       "  </tbody>\n",
       "</table>\n",
       "</div>"
      ],
      "text/plain": [
       "                                name                   regions   start_dt  \\\n",
       "0           christmas&new year promo             eu, n.america 2020-12-25   \n",
       "1       st. valentine's day giveaway  eu, cis, apac, n.america 2020-02-14   \n",
       "2             st. patric's day promo             eu, n.america 2020-03-17   \n",
       "3                       easter promo  eu, cis, apac, n.america 2020-04-12   \n",
       "4                  4th of july promo                 n.america 2020-07-04   \n",
       "5          black friday ads campaign  eu, cis, apac, n.america 2020-11-26   \n",
       "6             chinese new year promo                      apac 2020-01-25   \n",
       "7   labor day (may 1st) ads campaign             eu, cis, apac 2020-05-01   \n",
       "8    international women's day promo             eu, cis, apac 2020-03-08   \n",
       "9    victory day cis (may 9th) event                       cis 2020-05-09   \n",
       "10         cis new year gift lottery                       cis 2020-12-30   \n",
       "11     dragon boat festival giveaway                      apac 2020-06-25   \n",
       "12           single's day gift promo                      apac 2020-11-11   \n",
       "13             chinese moon festival                      apac 2020-10-01   \n",
       "\n",
       "    finish_dt  \n",
       "0  2021-01-03  \n",
       "1  2020-02-16  \n",
       "2  2020-03-19  \n",
       "3  2020-04-19  \n",
       "4  2020-07-11  \n",
       "5  2020-12-01  \n",
       "6  2020-02-07  \n",
       "7  2020-05-03  \n",
       "8  2020-03-10  \n",
       "9  2020-05-11  \n",
       "10 2021-01-07  \n",
       "11 2020-07-01  \n",
       "12 2020-11-12  \n",
       "13 2020-10-07  "
      ]
     },
     "execution_count": 39,
     "metadata": {},
     "output_type": "execute_result"
    }
   ],
   "source": [
    "marketing_events"
   ]
  },
  {
   "cell_type": "code",
   "execution_count": 40,
   "metadata": {},
   "outputs": [
    {
     "data": {
      "text/plain": [
       "True"
      ]
     },
     "execution_count": 40,
     "metadata": {},
     "output_type": "execute_result"
    }
   ],
   "source": [
    "# проверка на общие даты теста и праздников\n",
    "set(event_dt_range).isdisjoint(set(me_days)) "
   ]
  },
  {
   "cell_type": "markdown",
   "metadata": {},
   "source": [
    "`A/B тест`  проходил  во время праздников  \"christmas&new year promo\" в  `eu`, `n.america` с 2020-12-25 по 2021-01-03"
   ]
  },
  {
   "cell_type": "code",
   "execution_count": 41,
   "metadata": {},
   "outputs": [
    {
     "data": {
      "text/plain": [
       "Timestamp('2020-12-07 00:16:00')"
      ]
     },
     "execution_count": 41,
     "metadata": {},
     "output_type": "execute_result"
    }
   ],
   "source": [
    "#Проверка Дата запуска теста: 2020-12-07\n",
    "rst['event_dt'].min()"
   ]
  },
  {
   "cell_type": "code",
   "execution_count": 42,
   "metadata": {},
   "outputs": [
    {
     "data": {
      "text/plain": [
       "Timestamp('2020-12-21 00:00:00')"
      ]
     },
     "execution_count": 42,
     "metadata": {},
     "output_type": "execute_result"
    }
   ],
   "source": [
    "# Дата остановки набора новых пользователей: 2020-12-21\n",
    "rst['first_date'].max()"
   ]
  },
  {
   "cell_type": "code",
   "execution_count": 43,
   "metadata": {},
   "outputs": [
    {
     "data": {
      "text/plain": [
       "Timestamp('2020-12-30 06:42:52')"
      ]
     },
     "execution_count": 43,
     "metadata": {},
     "output_type": "execute_result"
    }
   ],
   "source": [
    "# Дата остановки: 2021-01-04\n",
    "rst['event_dt'].max()"
   ]
  },
  {
   "cell_type": "markdown",
   "metadata": {},
   "source": [
    "A/B тест все еще в продакшене, проверим насколько нам хватает данных и стоит ли его продолжать дальше"
   ]
  },
  {
   "cell_type": "code",
   "execution_count": 44,
   "metadata": {},
   "outputs": [],
   "source": [
    "# Теперь обозначим рамки A/B теста\n",
    "min_date_reg = dt.datetime(2020, 12, 7)\n",
    "max_date_reg = dt.datetime(2020, 12, 21)"
   ]
  },
  {
   "cell_type": "markdown",
   "metadata": {},
   "source": [
    "Фильтрация пользователей по временному промежутку теста"
   ]
  },
  {
   "cell_type": "code",
   "execution_count": 45,
   "metadata": {},
   "outputs": [
    {
     "data": {
      "text/plain": [
       "(18804, 9)"
      ]
     },
     "execution_count": 45,
     "metadata": {},
     "output_type": "execute_result"
    }
   ],
   "source": [
    "rst = rst.query('first_date >= @min_date_reg and first_date <= @max_date_reg')\n",
    "rst.shape"
   ]
  },
  {
   "cell_type": "code",
   "execution_count": 46,
   "metadata": {},
   "outputs": [
    {
     "data": {
      "text/plain": [
       "93.0416068866571"
      ]
     },
     "execution_count": 46,
     "metadata": {},
     "output_type": "execute_result"
    }
   ],
   "source": [
    "# Аудитория: 15% новых пользователей из региона EU;\n",
    "rst.query('region == \"eu\"')['user_id'].nunique() / rst['user_id'].nunique() * 100"
   ]
  },
  {
   "cell_type": "markdown",
   "metadata": {},
   "source": [
    "93% новых пользователей из региона `EU`"
   ]
  },
  {
   "cell_type": "code",
   "execution_count": 47,
   "metadata": {},
   "outputs": [
    {
     "name": "stdout",
     "output_type": "stream",
     "text": [
      "Количество участников в группе - A: 2082\n",
      "Доля группы A от всех пользователей  75.0%\n",
      "---------------\n",
      "Количество участников в группе - B: 706\n",
      "Доля группы B от всех пользователей  25.0%\n",
      "---------------\n",
      "Всего пользователей 2788\n"
     ]
    }
   ],
   "source": [
    "# Ожидаемое количество участников теста: 6000.\n",
    "all_ab_users = rst.query('group == \"a\" or group == \"b\"')['user_id'].nunique()\n",
    "\n",
    "_groups = ['a', 'b']\n",
    "overall = 0\n",
    "\n",
    "for gr in _groups:\n",
    "    _gr_user_cnt = rst.query('group == @gr')['user_id'].nunique()\n",
    "    overall += _gr_user_cnt\n",
    "    print(f\"Количество участников в группе - {gr.upper()}: {_gr_user_cnt}\")\n",
    "    print(f'Доля группы {gr.upper()} от всех пользователей  {round(_gr_user_cnt /  all_ab_users, 2) * 100}%')\n",
    "    print('-' * 15)\n",
    "print(f'Всего пользователей {all_ab_users}')"
   ]
  },
  {
   "cell_type": "code",
   "execution_count": 48,
   "metadata": {},
   "outputs": [
    {
     "data": {
      "text/plain": [
       "True"
      ]
     },
     "execution_count": 48,
     "metadata": {},
     "output_type": "execute_result"
    }
   ],
   "source": [
    "overall == all_ab_users"
   ]
  },
  {
   "cell_type": "markdown",
   "metadata": {},
   "source": [
    "Количество участников теста намного  меньше 6000 в группе `A` и очень мало в группе `B`. Можно было бы уменьшить кол-во пользователей в группе `A` до уровня `B`, но статистически это бы не дало никакого приемущества, только бы **увеличили шумы в группе `A`**"
   ]
  },
  {
   "cell_type": "markdown",
   "metadata": {},
   "source": [
    "### Посмотрим равномерно ли распределены пользователи A/B теста"
   ]
  },
  {
   "cell_type": "code",
   "execution_count": 49,
   "metadata": {},
   "outputs": [],
   "source": [
    "a_group = rst.query('group == \"a\"')\n",
    "b_group = rst.query('group == \"b\"')"
   ]
  },
  {
   "cell_type": "code",
   "execution_count": 50,
   "metadata": {},
   "outputs": [
    {
     "data": {
      "text/plain": [
       "[datetime.date(2020, 12, 30)]"
      ]
     },
     "execution_count": 50,
     "metadata": {},
     "output_type": "execute_result"
    }
   ],
   "source": [
    "diff_dates = list(set(b_group['event_dt'].dt.date.unique()).difference(set(a_group['event_dt'].dt.date.unique())))\n",
    "diff_dates"
   ]
  },
  {
   "cell_type": "markdown",
   "metadata": {},
   "source": [
    "В `группе B` тест проходил на один день дольше"
   ]
  },
  {
   "cell_type": "code",
   "execution_count": 51,
   "metadata": {},
   "outputs": [],
   "source": [
    "b_group = b_group.loc[b_group['event_dt'].dt.date != dt.date(2020, 12, 30), :]"
   ]
  },
  {
   "cell_type": "code",
   "execution_count": 52,
   "metadata": {},
   "outputs": [
    {
     "data": {
      "text/plain": [
       "Timestamp('2020-12-29 23:27:00')"
      ]
     },
     "execution_count": 52,
     "metadata": {},
     "output_type": "execute_result"
    }
   ],
   "source": [
    "b_group['event_dt'].max()"
   ]
  },
  {
   "cell_type": "markdown",
   "metadata": {},
   "source": [
    "### Проверка расчета размера выборки"
   ]
  },
  {
   "cell_type": "code",
   "execution_count": 53,
   "metadata": {},
   "outputs": [
    {
     "data": {
      "image/png": "[encoded data removed]",
      "text/plain": [
       "<Figure size 1296x576 with 2 Axes>"
      ]
     },
     "metadata": {
      "needs_background": "light"
     },
     "output_type": "display_data"
    }
   ],
   "source": [
    "_data = rst.copy()\n",
    "_data['day'] = rst['event_dt'].dt.date\n",
    "\n",
    "_data  = _data.groupby(['group', 'user_id']).agg({'details':'sum'}).reset_index()\n",
    "_data = _data[_data['details'] > 0].sort_values(by='details', ascending=True)\n",
    "\n",
    "#, sharex=True , sharey=True\n",
    "fig, axes = plt.subplots(1, 2, figsize=(18, 8))\n",
    "_grps = ['a', 'b']\n",
    "\n",
    "for ind in range(len(_grps)):\n",
    "    _grp_name = _grps[ind]\n",
    "    axes[ind].set_title(f'Распределение суммарных покупок  группы {_grp_name.upper()}')\n",
    "    sns.histplot(data=_data.query('group == @_grp_name')['details'], \n",
    "                 ax=axes[ind], color='yellowgreen')\n",
    "    axes[ind].set_xlabel('Пользователи')\n",
    "    axes[ind].set_ylabel('Сумма покупки')\n",
    "    axes[ind].grid(True, alpha=.3)"
   ]
  },
  {
   "cell_type": "markdown",
   "metadata": {},
   "source": [
    "Распределение суммарных покупок выглядит индентичным, за исключением в `группе А` \"выбросы\", но аггрегация по сумме всех заказов пользователей - это нормально "
   ]
  },
  {
   "cell_type": "markdown",
   "metadata": {},
   "source": [
    "### Лайфтайм"
   ]
  },
  {
   "cell_type": "code",
   "execution_count": 65,
   "metadata": {},
   "outputs": [],
   "source": [
    "rst['lifetime'] = (rst['event_dt'] - rst['first_date']).dt.days"
   ]
  },
  {
   "cell_type": "code",
   "execution_count": 68,
   "metadata": {},
   "outputs": [
    {
     "data": {
      "text/html": [
       "<div>\n",
       "<style scoped>\n",
       "    .dataframe tbody tr th:only-of-type {\n",
       "        vertical-align: middle;\n",
       "    }\n",
       "\n",
       "    .dataframe tbody tr th {\n",
       "        vertical-align: top;\n",
       "    }\n",
       "\n",
       "    .dataframe thead th {\n",
       "        text-align: right;\n",
       "    }\n",
       "</style>\n",
       "<table border=\"1\" class=\"dataframe\">\n",
       "  <thead>\n",
       "    <tr style=\"text-align: right;\">\n",
       "      <th></th>\n",
       "      <th>first_date</th>\n",
       "      <th>lifetime</th>\n",
       "    </tr>\n",
       "  </thead>\n",
       "  <tbody>\n",
       "    <tr>\n",
       "      <th>10</th>\n",
       "      <td>2020-12-17</td>\n",
       "      <td>12</td>\n",
       "    </tr>\n",
       "    <tr>\n",
       "      <th>11</th>\n",
       "      <td>2020-12-18</td>\n",
       "      <td>11</td>\n",
       "    </tr>\n",
       "    <tr>\n",
       "      <th>12</th>\n",
       "      <td>2020-12-19</td>\n",
       "      <td>10</td>\n",
       "    </tr>\n",
       "    <tr>\n",
       "      <th>13</th>\n",
       "      <td>2020-12-20</td>\n",
       "      <td>9</td>\n",
       "    </tr>\n",
       "    <tr>\n",
       "      <th>14</th>\n",
       "      <td>2020-12-21</td>\n",
       "      <td>8</td>\n",
       "    </tr>\n",
       "  </tbody>\n",
       "</table>\n",
       "</div>"
      ],
      "text/plain": [
       "   first_date  lifetime\n",
       "10 2020-12-17        12\n",
       "11 2020-12-18        11\n",
       "12 2020-12-19        10\n",
       "13 2020-12-20         9\n",
       "14 2020-12-21         8"
      ]
     },
     "execution_count": 68,
     "metadata": {},
     "output_type": "execute_result"
    }
   ],
   "source": [
    "lifetime_draw = (rst.groupby('first_date')['lifetime'].max()\n",
    "                    .reset_index())\n",
    "lifetime_draw.tail()"
   ]
  },
  {
   "cell_type": "code",
   "execution_count": 106,
   "metadata": {},
   "outputs": [
    {
     "data": {
      "image/png": "[encoded data removed]",
      "text/plain": [
       "<Figure size 1080x432 with 1 Axes>"
      ]
     },
     "metadata": {
      "needs_background": "light"
     },
     "output_type": "display_data"
    }
   ],
   "source": [
    "plt.figure(figsize=(15, 6)) \n",
    "sns.barplot(x=lifetime_draw[\"first_date\"].dt.date, y=lifetime_draw[\"lifetime\"], color='skyblue')\n",
    "plt.xticks(rotation=45)\n",
    "plt.axhline(y=14, color='red', linestyle='--') \n",
    "plt.axhline(y=8, color='black', linestyle='--')\n",
    "plt.show()"
   ]
  },
  {
   "cell_type": "markdown",
   "metadata": {},
   "source": [
    "Чем пользователи позднее зарегистрированы, тем меньше их лайфтайм"
   ]
  },
  {
   "cell_type": "code",
   "execution_count": 58,
   "metadata": {},
   "outputs": [
    {
     "data": {
      "text/plain": [
       "0    23 days 06:42:52\n",
       "1    21 days 14:42:09\n",
       "2    20 days 20:33:35\n",
       "3    19 days 11:16:57\n",
       "4    18 days 23:36:20\n",
       "5    17 days 23:27:00\n",
       "6    16 days 08:43:44\n",
       "7    15 days 21:19:54\n",
       "8    14 days 22:02:30\n",
       "9    13 days 21:12:10\n",
       "10   12 days 21:14:35\n",
       "11   11 days 21:31:04\n",
       "12   10 days 22:54:39\n",
       "13    9 days 23:38:29\n",
       "14    8 days 23:38:10\n",
       "Name: lifetime, dtype: timedelta64[ns]"
      ]
     },
     "execution_count": 58,
     "metadata": {},
     "output_type": "execute_result"
    }
   ],
   "source": [
    "lifetime_draw[\"lifetime\"]"
   ]
  },
  {
   "cell_type": "markdown",
   "metadata": {},
   "source": [
    "### Расчет воронки `login - product_page - product_cart - purchase`"
   ]
  },
  {
   "cell_type": "code",
   "execution_count": 69,
   "metadata": {},
   "outputs": [],
   "source": [
    "sales_funnel = a_group.groupby('event_name').agg({'user_id':'nunique'}).reset_index().T.rename(index={'user_id':'A'})\n",
    "sales_funnel = pd.concat([sales_funnel, b_group.groupby('event_name').agg({'user_id':'nunique'}).reset_index().T.rename(index={'user_id':'B'})])"
   ]
  },
  {
   "cell_type": "code",
   "execution_count": 70,
   "metadata": {},
   "outputs": [],
   "source": [
    "sales_funnel.columns = sales_funnel.iloc[0]\n",
    "sales_funnel = sales_funnel.loc[['A', 'B'],:]"
   ]
  },
  {
   "cell_type": "code",
   "execution_count": 71,
   "metadata": {},
   "outputs": [],
   "source": [
    "sales_funnel['product_page / login'] = (sales_funnel['product_page'] / sales_funnel['login']).apply(lambda x: round(x, 3))\n",
    "sales_funnel['product_cart / product_page'] = (sales_funnel['product_cart'] / sales_funnel['product_page']).apply(lambda x: round(x, 3))\n",
    "sales_funnel['purchase / product_cart'] = (sales_funnel['purchase'] / sales_funnel['product_cart']).apply(lambda x: round(x, 3))\n",
    "sales_funnel['conversion_rate'] = (sales_funnel['purchase'] / sales_funnel['product_page']).apply(lambda x: round(x, 3))"
   ]
  },
  {
   "cell_type": "code",
   "execution_count": 72,
   "metadata": {},
   "outputs": [
    {
     "data": {
      "text/html": [
       "<div>\n",
       "<style scoped>\n",
       "    .dataframe tbody tr th:only-of-type {\n",
       "        vertical-align: middle;\n",
       "    }\n",
       "\n",
       "    .dataframe tbody tr th {\n",
       "        vertical-align: top;\n",
       "    }\n",
       "\n",
       "    .dataframe thead th {\n",
       "        text-align: right;\n",
       "    }\n",
       "</style>\n",
       "<table border=\"1\" class=\"dataframe\">\n",
       "  <thead>\n",
       "    <tr style=\"text-align: right;\">\n",
       "      <th>event_name</th>\n",
       "      <th>login</th>\n",
       "      <th>product_cart</th>\n",
       "      <th>product_page</th>\n",
       "      <th>purchase</th>\n",
       "      <th>product_page / login</th>\n",
       "      <th>product_cart / product_page</th>\n",
       "      <th>purchase / product_cart</th>\n",
       "      <th>conversion_rate</th>\n",
       "    </tr>\n",
       "  </thead>\n",
       "  <tbody>\n",
       "    <tr>\n",
       "      <th>A</th>\n",
       "      <td>2082</td>\n",
       "      <td>631</td>\n",
       "      <td>1360</td>\n",
       "      <td>652</td>\n",
       "      <td>0.653</td>\n",
       "      <td>0.464</td>\n",
       "      <td>1.033</td>\n",
       "      <td>0.479</td>\n",
       "    </tr>\n",
       "    <tr>\n",
       "      <th>B</th>\n",
       "      <td>706</td>\n",
       "      <td>195</td>\n",
       "      <td>397</td>\n",
       "      <td>198</td>\n",
       "      <td>0.562</td>\n",
       "      <td>0.491</td>\n",
       "      <td>1.015</td>\n",
       "      <td>0.499</td>\n",
       "    </tr>\n",
       "  </tbody>\n",
       "</table>\n",
       "</div>"
      ],
      "text/plain": [
       "event_name login product_cart product_page purchase  product_page / login  \\\n",
       "A           2082          631         1360      652                 0.653   \n",
       "B            706          195          397      198                 0.562   \n",
       "\n",
       "event_name  product_cart / product_page  purchase / product_cart  \\\n",
       "A                                 0.464                    1.033   \n",
       "B                                 0.491                    1.015   \n",
       "\n",
       "event_name  conversion_rate  \n",
       "A                     0.479  \n",
       "B                     0.499  "
      ]
     },
     "execution_count": 72,
     "metadata": {},
     "output_type": "execute_result"
    }
   ],
   "source": [
    "sales_funnel"
   ]
  },
  {
   "cell_type": "markdown",
   "metadata": {},
   "source": [
    "Как видно из таблицы воронка продаж в `группе А` имеет показатели лучше, чем в `группе B`\n",
    "*"
   ]
  },
  {
   "cell_type": "markdown",
   "metadata": {},
   "source": [
    "После проверки ТЗ можно сделать некоторые **выводы**:  \n",
    "* A/B тест не проходил во время праздников ниодоного из регионов\n",
    "* дата остановки АВ теста 30-12-2020\n",
    "* количество новых пользователей из EU - 93% по отношению ко всем новым пользователям\n",
    "* Количество участников теста намного меньше 6000 в группе A и очень мало в группе B\n",
    "* Количество участников в группе - A: 2082; Доля группы A от всех пользователей  75.0%\n",
    "* Количество участников в группе - B: 706; Доля группы B от всех пользователей  25.0%\n",
    "* Всего пользователей 2788\n",
    "* В группе B тест проходил на один день дольше"
   ]
  },
  {
   "cell_type": "markdown",
   "metadata": {},
   "source": [
    "### Посчитаем события на пользователя по A, B группам"
   ]
  },
  {
   "cell_type": "code",
   "execution_count": 73,
   "metadata": {},
   "outputs": [
    {
     "data": {
      "text/plain": [
       "login           8501\n",
       "product_page    5298\n",
       "product_cart    2522\n",
       "purchase        2483\n",
       "Name: event_name, dtype: int64"
      ]
     },
     "execution_count": 73,
     "metadata": {},
     "output_type": "execute_result"
    }
   ],
   "source": [
    "rst['event_name'].value_counts()"
   ]
  },
  {
   "cell_type": "code",
   "execution_count": 74,
   "metadata": {},
   "outputs": [],
   "source": [
    "ab_groups_events = (rst.pivot_table(index='event_name',\n",
    "                                   columns = 'group',\n",
    "                                   values='user_id',\n",
    "                                   aggfunc='count')\n",
    "                       .reset_index())\n",
    "ab_groups_events.columns = ['event_name',\n",
    "                            'A',\n",
    "                            'B']\n",
    "\n",
    "\n",
    "ab_groups_users = (rst.pivot_table(index='event_name',\n",
    "                                   columns = 'group',\n",
    "                                   values='user_id',\n",
    "                                   aggfunc='nunique')\n",
    "                      .reset_index())\n",
    "ab_groups_users.columns = ['event_name',\n",
    "                           'A_users',\n",
    "                           'B_users']\n",
    "\n",
    "ab_groups_combined = ab_groups_events.merge(ab_groups_users, on='event_name')\n",
    "ab_groups_combined['A_event_ratio'] = (ab_groups_combined['A'] / ab_groups_combined['A_users']).round(2)\n",
    "ab_groups_combined['B_event_ratio'] = (ab_groups_combined['B'] / ab_groups_combined['B_users']).round(2)"
   ]
  },
  {
   "cell_type": "code",
   "execution_count": 75,
   "metadata": {},
   "outputs": [
    {
     "data": {
      "text/html": [
       "<div>\n",
       "<style scoped>\n",
       "    .dataframe tbody tr th:only-of-type {\n",
       "        vertical-align: middle;\n",
       "    }\n",
       "\n",
       "    .dataframe tbody tr th {\n",
       "        vertical-align: top;\n",
       "    }\n",
       "\n",
       "    .dataframe thead th {\n",
       "        text-align: right;\n",
       "    }\n",
       "</style>\n",
       "<table border=\"1\" class=\"dataframe\">\n",
       "  <thead>\n",
       "    <tr style=\"text-align: right;\">\n",
       "      <th></th>\n",
       "      <th>event_name</th>\n",
       "      <th>A</th>\n",
       "      <th>B</th>\n",
       "      <th>A_users</th>\n",
       "      <th>B_users</th>\n",
       "      <th>A_event_ratio</th>\n",
       "      <th>B_event_ratio</th>\n",
       "    </tr>\n",
       "  </thead>\n",
       "  <tbody>\n",
       "    <tr>\n",
       "      <th>0</th>\n",
       "      <td>login</td>\n",
       "      <td>6525</td>\n",
       "      <td>1976</td>\n",
       "      <td>2082</td>\n",
       "      <td>706</td>\n",
       "      <td>3.13</td>\n",
       "      <td>2.80</td>\n",
       "    </tr>\n",
       "    <tr>\n",
       "      <th>2</th>\n",
       "      <td>product_page</td>\n",
       "      <td>4250</td>\n",
       "      <td>1048</td>\n",
       "      <td>1360</td>\n",
       "      <td>397</td>\n",
       "      <td>3.12</td>\n",
       "      <td>2.64</td>\n",
       "    </tr>\n",
       "    <tr>\n",
       "      <th>3</th>\n",
       "      <td>purchase</td>\n",
       "      <td>1973</td>\n",
       "      <td>510</td>\n",
       "      <td>652</td>\n",
       "      <td>198</td>\n",
       "      <td>3.03</td>\n",
       "      <td>2.58</td>\n",
       "    </tr>\n",
       "    <tr>\n",
       "      <th>1</th>\n",
       "      <td>product_cart</td>\n",
       "      <td>1989</td>\n",
       "      <td>533</td>\n",
       "      <td>631</td>\n",
       "      <td>195</td>\n",
       "      <td>3.15</td>\n",
       "      <td>2.73</td>\n",
       "    </tr>\n",
       "  </tbody>\n",
       "</table>\n",
       "</div>"
      ],
      "text/plain": [
       "     event_name     A     B  A_users  B_users  A_event_ratio  B_event_ratio\n",
       "0         login  6525  1976     2082      706           3.13           2.80\n",
       "2  product_page  4250  1048     1360      397           3.12           2.64\n",
       "3      purchase  1973   510      652      198           3.03           2.58\n",
       "1  product_cart  1989   533      631      195           3.15           2.73"
      ]
     },
     "execution_count": 75,
     "metadata": {},
     "output_type": "execute_result"
    }
   ],
   "source": [
    "ab_groups_combined.sort_values(by='A_users', ascending=False)"
   ]
  },
  {
   "cell_type": "markdown",
   "metadata": {},
   "source": [
    "Количество событий на одного пользователя:\n",
    "* в группе А ~ 3 события в среднем\n",
    "* в группе В ~ 2.6 - 2.8 события в среднем"
   ]
  },
  {
   "cell_type": "markdown",
   "metadata": {},
   "source": [
    "### Рассмотрим количество неактивных пользователей"
   ]
  },
  {
   "cell_type": "code",
   "execution_count": 76,
   "metadata": {},
   "outputs": [
    {
     "data": {
      "text/plain": [
       "login           40957\n",
       "product_page    26761\n",
       "purchase        13720\n",
       "product_cart    13399\n",
       "Name: event_name, dtype: int64"
      ]
     },
     "execution_count": 76,
     "metadata": {},
     "output_type": "execute_result"
    }
   ],
   "source": [
    "data['event_name'].value_counts()"
   ]
  },
  {
   "cell_type": "code",
   "execution_count": 77,
   "metadata": {},
   "outputs": [
    {
     "data": {
      "text/plain": [
       "0"
      ]
     },
     "execution_count": 77,
     "metadata": {},
     "output_type": "execute_result"
    }
   ],
   "source": [
    "data['event_name'].isna().sum()"
   ]
  },
  {
   "cell_type": "code",
   "execution_count": 78,
   "metadata": {},
   "outputs": [
    {
     "data": {
      "text/plain": [
       "0"
      ]
     },
     "execution_count": 78,
     "metadata": {},
     "output_type": "execute_result"
    }
   ],
   "source": [
    "rst['event_name'].isna().sum()"
   ]
  },
  {
   "cell_type": "markdown",
   "metadata": {},
   "source": [
    "неактивных пользователей нет "
   ]
  },
  {
   "cell_type": "markdown",
   "metadata": {},
   "source": [
    "### Рассмотрим распределение количества событий по дням"
   ]
  },
  {
   "cell_type": "code",
   "execution_count": 79,
   "metadata": {},
   "outputs": [],
   "source": [
    "rst['dt_date'] = rst['event_dt'].dt.date"
   ]
  },
  {
   "cell_type": "code",
   "execution_count": 80,
   "metadata": {},
   "outputs": [],
   "source": [
    "event_by_dt_groups = (rst.groupby(['dt_date', 'group'])\n",
    "                         .agg({'event_name':'count'})\n",
    "                         .reset_index())"
   ]
  },
  {
   "cell_type": "code",
   "execution_count": 81,
   "metadata": {},
   "outputs": [
    {
     "data": {
      "text/html": [
       "<div>\n",
       "<style scoped>\n",
       "    .dataframe tbody tr th:only-of-type {\n",
       "        vertical-align: middle;\n",
       "    }\n",
       "\n",
       "    .dataframe tbody tr th {\n",
       "        vertical-align: top;\n",
       "    }\n",
       "\n",
       "    .dataframe thead th {\n",
       "        text-align: right;\n",
       "    }\n",
       "</style>\n",
       "<table border=\"1\" class=\"dataframe\">\n",
       "  <thead>\n",
       "    <tr style=\"text-align: right;\">\n",
       "      <th></th>\n",
       "      <th>dt_date</th>\n",
       "      <th>group</th>\n",
       "      <th>event_name</th>\n",
       "    </tr>\n",
       "  </thead>\n",
       "  <tbody>\n",
       "    <tr>\n",
       "      <th>0</th>\n",
       "      <td>2020-12-07</td>\n",
       "      <td>a</td>\n",
       "      <td>234</td>\n",
       "    </tr>\n",
       "    <tr>\n",
       "      <th>1</th>\n",
       "      <td>2020-12-07</td>\n",
       "      <td>b</td>\n",
       "      <td>290</td>\n",
       "    </tr>\n",
       "    <tr>\n",
       "      <th>2</th>\n",
       "      <td>2020-12-08</td>\n",
       "      <td>a</td>\n",
       "      <td>267</td>\n",
       "    </tr>\n",
       "    <tr>\n",
       "      <th>3</th>\n",
       "      <td>2020-12-08</td>\n",
       "      <td>b</td>\n",
       "      <td>183</td>\n",
       "    </tr>\n",
       "    <tr>\n",
       "      <th>4</th>\n",
       "      <td>2020-12-09</td>\n",
       "      <td>a</td>\n",
       "      <td>296</td>\n",
       "    </tr>\n",
       "  </tbody>\n",
       "</table>\n",
       "</div>"
      ],
      "text/plain": [
       "      dt_date group  event_name\n",
       "0  2020-12-07     a         234\n",
       "1  2020-12-07     b         290\n",
       "2  2020-12-08     a         267\n",
       "3  2020-12-08     b         183\n",
       "4  2020-12-09     a         296"
      ]
     },
     "execution_count": 81,
     "metadata": {},
     "output_type": "execute_result"
    }
   ],
   "source": [
    "event_by_dt_groups.head()"
   ]
  },
  {
   "cell_type": "code",
   "execution_count": 82,
   "metadata": {},
   "outputs": [
    {
     "data": {
      "image/png": "[encoded data removed]",
      "text/plain": [
       "<Figure size 1080x504 with 1 Axes>"
      ]
     },
     "metadata": {
      "needs_background": "light"
     },
     "output_type": "display_data"
    }
   ],
   "source": [
    "plt.figure(figsize=(15, 7))\n",
    "sns.lineplot(data=event_by_dt_groups, x='dt_date', y='event_name', hue='group')\n",
    "plt.xlabel('День')\n",
    "plt.ylabel('Количество событий')\n",
    "plt.grid(True, alpha=.2)\n",
    "plt.title('Распределение количествва событий по дням')\n",
    "plt.legend()\n",
    "plt.show()"
   ]
  },
  {
   "cell_type": "markdown",
   "metadata": {},
   "source": [
    "Скачек количества событий у `группы А` начался 13 декабря, пик пришелся на 21 декабря, затем началось снижение.  \n",
    "<br>\n",
    "У `группы В` равномерный график количества событий, с небольшими, редкими всплесками  \n",
    "\"Christmas&New Year Promo\" с 25.12.2020 не повлияло на рост событий  \n",
    "<br>\n",
    "Скорее всего рост количества событий связан с подготовкой к рождеству в Европе 25 декабря, ярмарки и   предновогоднее настроение пользователей  "
   ]
  },
  {
   "cell_type": "markdown",
   "metadata": {},
   "source": [
    "## Проверка оценки A/B теста\n",
    "<a id='ab_test'></a>\n",
    "[К содержанию](#table_of_contents)"
   ]
  },
  {
   "cell_type": "code",
   "execution_count": 94,
   "metadata": {},
   "outputs": [],
   "source": [
    "groups_events = rst[['dt_date', 'group']].drop_duplicates()\n",
    "\n",
    "event_aggr = groups_events.apply(lambda x: rst[np.logical_and(rst['dt_date'] <= x['dt_date'], rst['group'] == x['group'])]\n",
    "                         .agg({'dt_date': 'max', 'group': 'max', 'event_name': 'count', 'user_id': 'nunique', 'details': 'sum'}),\n",
    "                         axis=1\n",
    ").sort_values(by=['dt_date', 'group'])\n",
    "\n",
    "event_aggr['user_event_cnt']  = event_aggr['event_name'] /  event_aggr['user_id']\n",
    "\n",
    "cumulative_A = event_aggr.query('group == \"a\"')\n",
    "cumulative_B = event_aggr.query('group == \"b\"')"
   ]
  },
  {
   "cell_type": "code",
   "execution_count": 99,
   "metadata": {},
   "outputs": [
    {
     "data": {
      "image/png": "[encoded data removed]",
      "text/plain": [
       "<Figure size 1080x504 with 1 Axes>"
      ]
     },
     "metadata": {
      "needs_background": "light"
     },
     "output_type": "display_data"
    }
   ],
   "source": [
    "plt.figure(figsize=(15, 7))\n",
    "sns.lineplot(cumulative_A['dt_date'], cumulative_A['details'], label='A')\n",
    "sns.lineplot(cumulative_B['dt_date'], cumulative_B['details'], label='B')\n",
    "plt.xlabel('День')\n",
    "plt.ylabel('Сумма')\n",
    "plt.grid(True, alpha=.2)\n",
    "plt.title('Кумулятивной суммы покупок по группам')\n",
    "plt.legend()\n",
    "plt.show()"
   ]
  },
  {
   "cell_type": "markdown",
   "metadata": {},
   "source": [
    "`Группа А` начала отрываться от `группы В` уже с первого дня, затем отрыв стал в разы больше начиная с **13-12-2020**  \n",
    "`Группа В` имеет плавный рост куммулятивной суммы покупок пользователей, без резких скачков относительно `группы А`"
   ]
  },
  {
   "cell_type": "code",
   "execution_count": 100,
   "metadata": {},
   "outputs": [
    {
     "data": {
      "image/png": "[encoded data removed]",
      "text/plain": [
       "<Figure size 1080x504 with 1 Axes>"
      ]
     },
     "metadata": {
      "needs_background": "light"
     },
     "output_type": "display_data"
    }
   ],
   "source": [
    "plt.figure(figsize=(15, 7))\n",
    "sns.lineplot(cumulative_A['dt_date'], cumulative_A['user_event_cnt'], label='A')\n",
    "sns.lineplot(cumulative_B['dt_date'], cumulative_B['user_event_cnt'], label='B')\n",
    "plt.xlabel('День')\n",
    "plt.ylabel('Количество заказов')\n",
    "plt.grid(True, alpha=.2)\n",
    "plt.title('Среднее количество заказов пользователей по группам')\n",
    "plt.legend()\n",
    "plt.show()"
   ]
  },
  {
   "cell_type": "markdown",
   "metadata": {},
   "source": [
    "По количеству заказов группы идут наравне до **21-12-2020**  \n",
    "Судя по предыдущему графику куммулятивной суммы покупок можно предположить, что покупки в `группе А` в среднем несколько дороже, чем у `группы B`"
   ]
  },
  {
   "cell_type": "markdown",
   "metadata": {},
   "source": [
    "### Изменение среднего количества событий на пользователя группы В к группе А"
   ]
  },
  {
   "cell_type": "code",
   "execution_count": 101,
   "metadata": {},
   "outputs": [],
   "source": [
    "cumulativeAB = cumulative_A.merge(cumulative_B, left_on='dt_date', right_on='dt_date', how='left', suffixes=['A', 'B'])"
   ]
  },
  {
   "cell_type": "code",
   "execution_count": 105,
   "metadata": {},
   "outputs": [
    {
     "data": {
      "image/png": "[encoded data removed]",
      "text/plain": [
       "<Figure size 1080x504 with 1 Axes>"
      ]
     },
     "metadata": {
      "needs_background": "light"
     },
     "output_type": "display_data"
    }
   ],
   "source": [
    "plt.figure(figsize=(15, 7))\n",
    "sns.lineplot(cumulativeAB['dt_date'], (cumulativeAB['event_nameB']/cumulativeAB['user_idB'])/(cumulativeAB['event_nameA']/cumulativeAB['user_idA']) - 1)\n",
    "plt.xlabel('День')\n",
    "plt.ylabel('События на 1го пользователя')\n",
    "plt.grid(True, alpha=.2)\n",
    "plt.title('Относительное изменение кумулятивного среднего количества событий на пользователя группы В к группе А')\n",
    "plt.axhline(y=0, color='green', linestyle='--')\n",
    "plt.show()"
   ]
  },
  {
   "cell_type": "markdown",
   "metadata": {},
   "source": [
    "Разрыв между среднем кумулятивным средним между двумя группами до **16-12-2020** лидировала `группа B` затем лидером с бОльшим отрывом стала `группа А`"
   ]
  },
  {
   "cell_type": "markdown",
   "metadata": {},
   "source": [
    "## Проведение статистический теста между двумя группами А, В \n",
    "<a id='stat_test'></a>\n",
    "[К содержанию](#table_of_contents)"
   ]
  },
  {
   "cell_type": "markdown",
   "metadata": {},
   "source": [
    "**Нулевая гпипотеза H0**: Различия между двумя группами нет  \n",
    "**Альтернативная гипотеза H1**: Различия между двумя группами есть   \n",
    "alpha = .05  \n",
    "стат.тест - `Z-тест`  \n",
    "поправка на множественное сравнение - `метод Холма`"
   ]
  },
  {
   "cell_type": "code",
   "execution_count": 126,
   "metadata": {},
   "outputs": [],
   "source": [
    "cnt_A = rst.query('group == \"a\"')['user_id'].nunique()\n",
    "cnt_B = rst.query('group == \"b\"')['user_id'].nunique()\n",
    "\n",
    "AB_group_events = rst.pivot_table(index='group', \n",
    "                                  columns='event_name', \n",
    "                                  values='user_id', aggfunc='nunique').reset_index()\n",
    "AB_group_events = AB_group_events[['group', 'login', 'product_page', 'product_cart', 'purchase']]\n",
    "\n",
    "group_A = AB_group_events.query('group == \"a\"')\n",
    "group_B = AB_group_events.query('group == \"b\"')"
   ]
  },
  {
   "cell_type": "code",
   "execution_count": 171,
   "metadata": {},
   "outputs": [],
   "source": [
    "\n",
    "alpha = .05\n",
    "\n",
    "def sts_ztest(col1, col2):\n",
    "    print(f'Z тест конверсии {col1.upper()} к {col2.upper()}')\n",
    "    control_A = (group_A[col2]/group_A[col1]).sum()\n",
    "    test_B = (group_B[col2]/group_B[col1]).sum()\n",
    "    \n",
    "    prop_control_A = control_A / cnt_A\n",
    "    prop_test_B = test_B / cnt_B\n",
    "    z_score, p_val = sm.stats.proportions_ztest([control_A, test_B], [cnt_A, cnt_B])\n",
    "    print(control_A, test_B, prop_control_A, prop_test_B)\n",
    "    print(f'Попорция группы А {prop_control_A}')\n",
    "    print(f'Пропорция в группе B: {prop_test_B}')\n",
    "    print(f'Z test score {z_score}')\n",
    "    print(f'P-value {p_val}')\n",
    "    \n",
    "    if p_val < alpha:\n",
    "        print('Нулевая гипотеза Н0 отвергается, принимается альтернативная гипотеза')\n",
    "    else:\n",
    "        print('Нулевая гипотеза Н0 не отвергается')\n",
    "    return z_score, p_val\n",
    "\n",
    "\n",
    "total_z_score, total_pval = list(), list()"
   ]
  },
  {
   "cell_type": "code",
   "execution_count": 172,
   "metadata": {},
   "outputs": [
    {
     "name": "stdout",
     "output_type": "stream",
     "text": [
      "Z тест конверсии LOGIN к PRODUCT_PAGE\n",
      "0.6532180595581172 0.5623229461756374 0.0003137454656859352 0.0007964914251779566\n",
      "Попорция группы А 0.0003137454656859352\n",
      "Пропорция в группе B: 0.0007964914251779566\n",
      "Z test score -0.5309715457236899\n",
      "P-value 0.5954384972081302\n",
      "Нулевая гипотеза Н0 не отвергается\n"
     ]
    }
   ],
   "source": [
    "z_score, p_val = sts_ztest('login', 'product_page')\n",
    "total_z_score.append(z_score)\n",
    "total_pval.append(p_val)"
   ]
  },
  {
   "cell_type": "code",
   "execution_count": 173,
   "metadata": {},
   "outputs": [
    {
     "name": "stdout",
     "output_type": "stream",
     "text": [
      "Z тест конверсии PRODUCT_PAGE к PRODUCT_CART\n",
      "0.46397058823529413 0.491183879093199 0.00022284850539639486 0.000695727874069687\n",
      "Попорция группы А 0.00022284850539639486\n",
      "Пропорция в группе B: 0.000695727874069687\n",
      "Z test score -0.5867197131522751\n",
      "P-value 0.5573919659529194\n",
      "Нулевая гипотеза Н0 не отвергается\n"
     ]
    }
   ],
   "source": [
    "z_score, p_val = sts_ztest('product_page', 'product_cart')\n",
    "total_z_score.append(z_score)\n",
    "total_pval.append(p_val)"
   ]
  },
  {
   "cell_type": "code",
   "execution_count": 174,
   "metadata": {},
   "outputs": [
    {
     "name": "stdout",
     "output_type": "stream",
     "text": [
      "Z тест конверсии PRODUCT_CART к PURCHASE\n",
      "1.0332805071315372 1.0153846153846153 0.0004962922704762426 0.0014382218348224013\n",
      "Попорция группы А 0.0004962922704762426\n",
      "Пропорция в группе B: 0.0014382218348224013\n",
      "Z test score -0.7981513935947138\n",
      "P-value 0.4247826402475685\n",
      "Нулевая гипотеза Н0 не отвергается\n"
     ]
    }
   ],
   "source": [
    "z_score, p_val = sts_ztest('product_cart', 'purchase')\n",
    "total_z_score.append(z_score)\n",
    "total_pval.append(p_val)"
   ]
  },
  {
   "cell_type": "code",
   "execution_count": 175,
   "metadata": {},
   "outputs": [
    {
     "data": {
      "text/plain": [
       "([-0.5309715457236899, -0.5867197131522751, -0.7981513935947138],\n",
       " [0.5954384972081302, 0.5573919659529194, 0.4247826402475685])"
      ]
     },
     "execution_count": 175,
     "metadata": {},
     "output_type": "execute_result"
    }
   ],
   "source": [
    "total_z_score, total_pval"
   ]
  },
  {
   "cell_type": "code",
   "execution_count": 176,
   "metadata": {},
   "outputs": [
    {
     "data": {
      "text/plain": [
       "[0.4247826402475685, 0.5573919659529194, 0.5954384972081302]"
      ]
     },
     "execution_count": 176,
     "metadata": {},
     "output_type": "execute_result"
    }
   ],
   "source": [
    "total_pval = sorted(total_pval)\n",
    "total_pval"
   ]
  },
  {
   "cell_type": "code",
   "execution_count": 177,
   "metadata": {},
   "outputs": [
    {
     "name": "stdout",
     "output_type": "stream",
     "text": [
      "Отвергнутые Н0 в множественном сравнении:  [False False False]\n",
      "p_values:  [1. 1. 1.]\n",
      "\n",
      "Оставляем Нулевую гипотезу Н0\n"
     ]
    }
   ],
   "source": [
    "alpha = .05\n",
    "reject, pvals_corrected, alphacSidak, alphacBonf = multipletests(total_pval, alpha=alpha, \n",
    "                                                                 method='holm', is_sorted=True)\n",
    "print('Отвергнутые Н0 в множественном сравнении: ', reject)\n",
    "print('p_values: ', pvals_corrected)\n",
    "print()\n",
    "if all(pvals_corrected < alpha):\n",
    "    print(\"Отвергаем Нулевую гипотезу Н0 -> принимаем альтернативную H1\")\n",
    "else:\n",
    "    print(\"Оставляем Нулевую гипотезу Н0\")"
   ]
  },
  {
   "cell_type": "markdown",
   "metadata": {},
   "source": [
    "Выводы по Анализу A/B теста:\n",
    "* Кумулятивные суммы покупок по АВ группам различаются, `Группа А` начала отрываться от `группы В` уже с первого дня, затем отрыв стал в разы больше начиная с **13-12-2020**  \n",
    "* По количеству заказов группы идут наравне до **21-12-2020**, затем `Группа А` лидирует \n",
    "* Разрыв между среднем кумулятивным средним между двумя группами до **16-12-2020** лидировала `группа B` затем лидером с бОльшим отрывом стала `группа А`\n",
    "* проведенный статистический анализ z-критерием с поправкой на множественное сравнение методом Холма не отверг нулевую гипотезу Н0 - Различия между двумя группами нет \n"
   ]
  },
  {
   "cell_type": "markdown",
   "metadata": {},
   "source": [
    "## Итоговые выводы\n",
    "<a id='conclusions'></a>\n",
    "[К содержанию](#table_of_contents)"
   ]
  },
  {
   "cell_type": "markdown",
   "metadata": {},
   "source": [
    "Была проведена работа по анализу данных оценки результатов A/B теста `recommender system test`\n",
    "Рассмотренны четыре датасета:\n",
    "- `ab_project_marketing_events.csv`,\n",
    "- `final_ab_new_users.csv`,\n",
    "- `final_ab_events.csv`,\n",
    "- `final_ab_participants.csv`\n",
    "\n",
    "* Количество участников теста намного  меньше 6000 в группе `A` 2082 и очень мало в группе `B` 706. \n",
    "\n",
    "* Количество событий на одного пользователя:\n",
    "\n",
    "    * в группе А ~ 3 события в среднем\n",
    "    * в группе В ~ 2.6 - 2.8 события в среднем\n",
    "* Кумулятивные суммы по покупкам Группа А начала отрываться от группы В уже с первого дня, затем отрыв стал в разы больше начиная с 13-12-2020\n",
    "* Среднее количество заказов пользователей по группам: по количеству заказов группы идут наравне до 21-12-2020\n",
    "* Статистический теста между двумя группами А, В не выявил разницу между группами, т.к. тест длится уже достаточное количество времени, возможно следует его оставновить, т.к. AB тесты - это дорогие исследования."
   ]
  }
 ],
 "metadata": {
  "kernelspec": {
   "display_name": "Python 3 (ipykernel)",
   "language": "python",
   "name": "python3"
  },
  "language_info": {
   "codemirror_mode": {
    "name": "ipython",
    "version": 3
   },
   "file_extension": ".py",
   "mimetype": "text/x-python",
   "name": "python",
   "nbconvert_exporter": "python",
   "pygments_lexer": "ipython3",
   "version": "3.11.7"
  },
  "toc": {
   "base_numbering": 1,
   "nav_menu": {},
   "number_sections": true,
   "sideBar": true,
   "skip_h1_title": true,
   "title_cell": "Table of Contents",
   "title_sidebar": "Contents",
   "toc_cell": false,
   "toc_position": {},
   "toc_section_display": true,
   "toc_window_display": false
  }
 },
 "nbformat": 4,
 "nbformat_minor": 4
}
