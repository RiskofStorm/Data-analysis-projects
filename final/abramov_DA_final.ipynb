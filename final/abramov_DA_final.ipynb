{
 "cells": [
  {
   "cell_type": "markdown",
   "metadata": {},
   "source": [
    "# Анализ рекламных источников мобильной игры «Космические братья»"
   ]
  },
  {
   "cell_type": "markdown",
   "metadata": {},
   "source": [
    "<a id='table_of_contents'> </a>\n",
    "\n",
    "## Содержание\n",
    "* 2. [Описание данных и декомпозиция задачи](#decompose)\n",
    "* 3. [Предобработка данных](#preprocess)\n",
    "* 4. [Исследовательский анализ данных](#eda)\n",
    "* 5. [Проверка статистических гипотез](#hypothesis)\n",
    "* 6. [Дашборд](#dash)\n",
    "* 7. [Презентация](#pres)\n",
    "* 8. [Выводы](#conclusions)"
   ]
  },
  {
   "cell_type": "markdown",
   "metadata": {},
   "source": [
    "## Описание данных и декомпозиция задачи\n",
    "<a id='decompose'></a>\n",
    "[К содержанию](#table_of_contents)"
   ]
  },
  {
   "cell_type": "markdown",
   "metadata": {},
   "source": [
    "### Декомпозиция задачи"
   ]
  },
  {
   "cell_type": "markdown",
   "metadata": {},
   "source": [
    "Задача:  \n",
    "    Проанализировать поведения игроков в зависимости от источника перехода  \n",
    "Этапы:  \n",
    "- Сделать предобработку: проверить на явные дубликаты, пропущенные значения, привести колонки к нужным типам данных, привести данные типа `object` к нижнему регистру\n",
    "- Провести исследовательский анализ данных:  \n",
    "    - построить гистограммы распределений различных признаков `project`, `finished_stage_1` и тд\n",
    "    - посчтитать статистические показатели std, mean, median для различных признаков\n",
    "    - Анализ влияния источника перехода в игру на поведение пользователя   \n",
    "    - Посчитать метрики `CAC`, `MAU`, `DAU`, `WAU`  \n",
    "    \n",
    "- Проверить статистические гипотезы:   \n",
    "    - Время завершения уровня различается в зависимости от способа прохождения: через реализацию проекта, через победу над первым игроком.  \n",
    "      H0: не отличается  \n",
    "      H1: отличается  \n",
    "    - Количество пользователей пришедших из разных источников завершивших первый уровень/проект   (мн. сравнение)  \n",
    "      H0: не отличается  \n",
    "      H1: отличается  \n",
    "- Написать выводы и рекомендации     \n",
    "- Сделать презентацию\n",
    "\n",
    "\n",
    "    "
   ]
  },
  {
   "cell_type": "markdown",
   "metadata": {},
   "source": [
    "### Описание данных"
   ]
  },
  {
   "cell_type": "markdown",
   "metadata": {},
   "source": [
    "Датасет **ad_costs.csv** содержит:\n",
    "  \n",
    "`day` - день, в который был совершен клик по объявлению  \n",
    "`source` - источник трафика  \n",
    "`cost` - стоимость кликов  \n",
    "<br>"
   ]
  },
  {
   "cell_type": "markdown",
   "metadata": {},
   "source": [
    "Датасет **user_source.csv** содержит колонки:  \n",
    "  \n",
    "`user_id` - идентификатор пользователя  \n",
    "`source` - источников, с которого пришёл пользователь, установивший приложение  \n",
    "<br>"
   ]
  },
  {
   "cell_type": "markdown",
   "metadata": {},
   "source": [
    "Датасет **game_actions.csv** включает в себя колонки: \n",
    "  \n",
    "`event_datetime` — время события  \n",
    "`event` — одно из трёх событий:  \n",
    "1. *building* — объект построен,\n",
    "2. *finished_stage_1* — первый уровень завершён,\n",
    "3. *project* — проект завершён; \n",
    "  \n",
    "`building_type` — один из трёх типов здания:\n",
    "1. *assembly_shop* — сборочный цех,\n",
    "2. *spacepor*t — космопорт,\n",
    "3. *research_center* — исследовательский центр; \n",
    "  \n",
    "`user_id` — идентификатор пользователя;  \n",
    "`project_type` — тип реализованного проекта;"
   ]
  },
  {
   "cell_type": "code",
   "execution_count": 96,
   "metadata": {},
   "outputs": [],
   "source": [
    "import datetime as dt\n",
    "\n",
    "import pandas as pd\n",
    "import numpy as np\n",
    "import scipy.stats as sts\n",
    "\n",
    "import seaborn as sns\n",
    "import matplotlib.pyplot as plt\n",
    "from matplotlib import colors"
   ]
  },
  {
   "attachments": {
    "image.png": {
     "image/png": "[encoded data removed]"
    }
   },
   "cell_type": "markdown",
   "metadata": {},
   "source": [
    "<div class=\"alert alert-warning\">\n",
    "<b>Комментарий ревьюера:</b>⛅️ \n",
    "\n",
    "\n",
    "Перед отправкой лучше нажимать `Kernel`/`Restart & Run All`, чтобы исключить возможность казусов с незапуском каких-то ячеек. ![image.png](attachment:image.png) </div>"
   ]
  },
  {
   "cell_type": "code",
   "execution_count": 97,
   "metadata": {},
   "outputs": [],
   "source": [
    "def load_csv(os_path: str, cloud_path: str) -> pd.DataFrame:\n",
    "    \"\"\"функция чтения данных и загрузки в объект pd.DataFrame \n",
    "       \n",
    "       os_path: str -> локальные данные, полный или абсолютный путь\n",
    "       cloud_path: str -> URL место где данные размещены, прямая ссылка на CSV, TSV\n",
    "       returns pd.DataFrame\n",
    "    \"\"\"\n",
    "    try:\n",
    "        return pd.read_csv(os_path)\n",
    "    except:\n",
    "        print('локальные данные не найдены, подгружаю с интернета')\n",
    "        return pd.read_csv(cloud_path)\n",
    "    \n",
    "\n",
    "def df_stat(df: pd.DataFrame) -> None:\n",
    "    \"\"\"функция отображения статистики пропущенных \n",
    "       данных в датасете и явных дубликатов строк\n",
    "       \n",
    "       df: pd.DataFrame -> датасет\n",
    "       returns None\n",
    "    \"\"\"\n",
    "    df_quality = pd.DataFrame()\n",
    "    df_quality['nan'] = df.isna().sum()\n",
    "    df_quality['nan_percent'] = ((df_quality['nan'] / df.shape[0])* 100).round(2)\n",
    "    print(\"Количество явных дубликатов строк: \", df.duplicated().sum())\n",
    "    print()\n",
    "    print(df_quality)\n",
    "\n",
    "\n",
    "def df_unique_vals(df: pd.DataFrame) -> None:\n",
    "    \"\"\"функция отображения уникальных значений в данных\n",
    "       \n",
    "       df: pd.DataFrame -> датасет/сабсет\n",
    "       returns None\n",
    "    \"\"\"\n",
    "    for col in df.columns:\n",
    "        if df[col].nunique() > 30:\n",
    "            print('!!!')\n",
    "            print(f'Слишком много уникальных значений в колонке {col}')\n",
    "            print('первые 30 значений:')\n",
    "            print('!!!\\n')\n",
    "            print(df[col].unique()[:30])\n",
    "            print('-' * 15)\n",
    "        else:\n",
    "            print(f'Уникальные значеня в колонке {col}\\n')\n",
    "            print(df[col].unique())\n",
    "            print('-' * 15)\n",
    "\n",
    "\n",
    "def df_strlower_object(df: pd.DataFrame) -> pd.DataFrame:\n",
    "    \"\"\"функция приведения данных типа object к нижнему регистру\n",
    "       \n",
    "       df: pd.DataFrame -> датасет/сабсет\n",
    "       returns pd.DataFrame\n",
    "    \"\"\"\n",
    "    cols_to_lower = df.columns[df.dtypes == object]\n",
    "    for col in cols_to_lower:\n",
    "        df[col] = df[col].str.lower()\n",
    "    return df"
   ]
  },
  {
   "cell_type": "markdown",
   "metadata": {},
   "source": [
    "<div class=\"alert alert-success\">\n",
    "<b>Комментарий ревьюера:</b>☀️\n",
    "    \n",
    "Нравится набор готовых функций для работы, это ускоряет выполнение проектов) "
   ]
  },
  {
   "cell_type": "code",
   "execution_count": 98,
   "metadata": {},
   "outputs": [],
   "source": [
    "# загрузка данных\n",
    "ad_costs = load_csv('ad_costs.csv', 'https://code.s3.yandex.net/datasets/ad_costs.csv')\n",
    "user_src = load_csv('user_source.csv', 'https://code.s3.yandex.net/datasets/user_source.csv')\n",
    "game_act = load_csv('game_actions.csv', 'https://code.s3.yandex.net/datasets/game_actions.csv')"
   ]
  },
  {
   "cell_type": "markdown",
   "metadata": {},
   "source": [
    "## Предобработка данных\n",
    "<a id='preprocess'></a>\n",
    "[К содержанию](#table_of_contents)"
   ]
  },
  {
   "cell_type": "markdown",
   "metadata": {},
   "source": [
    "### Датасет `ad_costs`"
   ]
  },
  {
   "cell_type": "markdown",
   "metadata": {},
   "source": [
    "Колонки:  \n",
    "`day` - день, в который был совершен клик по объявлению  \n",
    "`source` - источник трафика  \n",
    "`cost` - стоимость кликов  "
   ]
  },
  {
   "cell_type": "code",
   "execution_count": 99,
   "metadata": {},
   "outputs": [
    {
     "data": {
      "text/html": [
       "<div>\n",
       "<style scoped>\n",
       "    .dataframe tbody tr th:only-of-type {\n",
       "        vertical-align: middle;\n",
       "    }\n",
       "\n",
       "    .dataframe tbody tr th {\n",
       "        vertical-align: top;\n",
       "    }\n",
       "\n",
       "    .dataframe thead th {\n",
       "        text-align: right;\n",
       "    }\n",
       "</style>\n",
       "<table border=\"1\" class=\"dataframe\">\n",
       "  <thead>\n",
       "    <tr style=\"text-align: right;\">\n",
       "      <th></th>\n",
       "      <th>source</th>\n",
       "      <th>day</th>\n",
       "      <th>cost</th>\n",
       "    </tr>\n",
       "  </thead>\n",
       "  <tbody>\n",
       "    <tr>\n",
       "      <th>0</th>\n",
       "      <td>facebook_ads</td>\n",
       "      <td>2020-05-03</td>\n",
       "      <td>935.882786</td>\n",
       "    </tr>\n",
       "    <tr>\n",
       "      <th>1</th>\n",
       "      <td>facebook_ads</td>\n",
       "      <td>2020-05-04</td>\n",
       "      <td>548.354480</td>\n",
       "    </tr>\n",
       "    <tr>\n",
       "      <th>2</th>\n",
       "      <td>facebook_ads</td>\n",
       "      <td>2020-05-05</td>\n",
       "      <td>260.185754</td>\n",
       "    </tr>\n",
       "    <tr>\n",
       "      <th>3</th>\n",
       "      <td>facebook_ads</td>\n",
       "      <td>2020-05-06</td>\n",
       "      <td>177.982200</td>\n",
       "    </tr>\n",
       "    <tr>\n",
       "      <th>4</th>\n",
       "      <td>facebook_ads</td>\n",
       "      <td>2020-05-07</td>\n",
       "      <td>111.766796</td>\n",
       "    </tr>\n",
       "  </tbody>\n",
       "</table>\n",
       "</div>"
      ],
      "text/plain": [
       "         source         day        cost\n",
       "0  facebook_ads  2020-05-03  935.882786\n",
       "1  facebook_ads  2020-05-04  548.354480\n",
       "2  facebook_ads  2020-05-05  260.185754\n",
       "3  facebook_ads  2020-05-06  177.982200\n",
       "4  facebook_ads  2020-05-07  111.766796"
      ]
     },
     "execution_count": 99,
     "metadata": {},
     "output_type": "execute_result"
    }
   ],
   "source": [
    "ad_costs.head()"
   ]
  },
  {
   "cell_type": "code",
   "execution_count": 100,
   "metadata": {},
   "outputs": [
    {
     "name": "stdout",
     "output_type": "stream",
     "text": [
      "<class 'pandas.core.frame.DataFrame'>\n",
      "RangeIndex: 28 entries, 0 to 27\n",
      "Data columns (total 3 columns):\n",
      " #   Column  Non-Null Count  Dtype  \n",
      "---  ------  --------------  -----  \n",
      " 0   source  28 non-null     object \n",
      " 1   day     28 non-null     object \n",
      " 2   cost    28 non-null     float64\n",
      "dtypes: float64(1), object(2)\n",
      "memory usage: 800.0+ bytes\n"
     ]
    }
   ],
   "source": [
    "ad_costs.info()"
   ]
  },
  {
   "cell_type": "code",
   "execution_count": 101,
   "metadata": {},
   "outputs": [
    {
     "name": "stdout",
     "output_type": "stream",
     "text": [
      "Количество явных дубликатов строк:  0\n",
      "\n",
      "        nan  nan_percent\n",
      "source    0          0.0\n",
      "day       0          0.0\n",
      "cost      0          0.0\n"
     ]
    }
   ],
   "source": [
    "df_stat(ad_costs)"
   ]
  },
  {
   "cell_type": "markdown",
   "metadata": {},
   "source": [
    "Явных дубликатов в датасете `ad_costs` не выявленно.  \n",
    "Пропущенных данных нету, приведем колонку `day` к типу datetime   "
   ]
  },
  {
   "cell_type": "code",
   "execution_count": 102,
   "metadata": {},
   "outputs": [],
   "source": [
    "ad_costs['day'] = pd.to_datetime(ad_costs['day'])"
   ]
  },
  {
   "cell_type": "markdown",
   "metadata": {},
   "source": [
    "Приводим данные в колонках типа `object` к нижнему регистру"
   ]
  },
  {
   "cell_type": "code",
   "execution_count": 103,
   "metadata": {},
   "outputs": [],
   "source": [
    "ad_costs = df_strlower_object(ad_costs)"
   ]
  },
  {
   "cell_type": "code",
   "execution_count": 104,
   "metadata": {},
   "outputs": [
    {
     "data": {
      "text/plain": [
       "source     4\n",
       "day        7\n",
       "cost      28\n",
       "dtype: int64"
      ]
     },
     "execution_count": 104,
     "metadata": {},
     "output_type": "execute_result"
    }
   ],
   "source": [
    "ad_costs.nunique()"
   ]
  },
  {
   "cell_type": "code",
   "execution_count": 105,
   "metadata": {},
   "outputs": [
    {
     "name": "stdout",
     "output_type": "stream",
     "text": [
      "Уникальные значеня в колонке source\n",
      "\n",
      "['facebook_ads' 'instagram_new_adverts' 'yandex_direct'\n",
      " 'youtube_channel_reklama']\n",
      "---------------\n",
      "Уникальные значеня в колонке day\n",
      "\n",
      "['2020-05-03T00:00:00.000000000' '2020-05-04T00:00:00.000000000'\n",
      " '2020-05-05T00:00:00.000000000' '2020-05-06T00:00:00.000000000'\n",
      " '2020-05-07T00:00:00.000000000' '2020-05-08T00:00:00.000000000'\n",
      " '2020-05-09T00:00:00.000000000']\n",
      "---------------\n",
      "Уникальные значеня в колонке cost\n",
      "\n",
      "[935.88278612 548.35447985 260.18575416 177.98220002 111.76679631\n",
      "  68.00927645  38.72335021 943.2047174  502.92545098 313.97098369\n",
      " 173.07114531 109.91525421  71.57873946  46.7753997  969.13939394\n",
      " 554.65149408 308.23298964 180.91709941 114.42933758  62.96162991\n",
      "  42.77950457 454.22494283 259.07322428 147.0417414   88.50607423\n",
      "  55.74064467  40.21790712  23.31466927]\n",
      "---------------\n"
     ]
    }
   ],
   "source": [
    "df_unique_vals(ad_costs)"
   ]
  },
  {
   "cell_type": "markdown",
   "metadata": {},
   "source": [
    "C уникальными значениями все впорядке"
   ]
  },
  {
   "cell_type": "markdown",
   "metadata": {},
   "source": [
    "### Датасет `user_src`"
   ]
  },
  {
   "cell_type": "markdown",
   "metadata": {},
   "source": [
    "Колонки:  \n",
    "  \n",
    "`user_id` - идентификатор пользователя  \n",
    "`source` - источников, с которого пришёл пользователь, установивший приложение"
   ]
  },
  {
   "cell_type": "code",
   "execution_count": 106,
   "metadata": {},
   "outputs": [
    {
     "name": "stdout",
     "output_type": "stream",
     "text": [
      "<class 'pandas.core.frame.DataFrame'>\n",
      "RangeIndex: 13576 entries, 0 to 13575\n",
      "Data columns (total 2 columns):\n",
      " #   Column   Non-Null Count  Dtype \n",
      "---  ------   --------------  ----- \n",
      " 0   user_id  13576 non-null  object\n",
      " 1   source   13576 non-null  object\n",
      "dtypes: object(2)\n",
      "memory usage: 212.2+ KB\n"
     ]
    }
   ],
   "source": [
    "user_src.info()"
   ]
  },
  {
   "cell_type": "code",
   "execution_count": 107,
   "metadata": {},
   "outputs": [
    {
     "name": "stdout",
     "output_type": "stream",
     "text": [
      "Количество явных дубликатов строк:  0\n",
      "\n",
      "         nan  nan_percent\n",
      "user_id    0          0.0\n",
      "source     0          0.0\n"
     ]
    }
   ],
   "source": [
    "df_stat(user_src)"
   ]
  },
  {
   "cell_type": "markdown",
   "metadata": {},
   "source": [
    "Пропущенных значений и явных дубликатов в датасете `user_src` нету"
   ]
  },
  {
   "cell_type": "markdown",
   "metadata": {},
   "source": [
    "Приводим данные в колонках типа `object` к нижнему регистру"
   ]
  },
  {
   "cell_type": "code",
   "execution_count": 108,
   "metadata": {},
   "outputs": [],
   "source": [
    "user_src = df_strlower_object(user_src)"
   ]
  },
  {
   "cell_type": "code",
   "execution_count": 109,
   "metadata": {},
   "outputs": [
    {
     "data": {
      "text/plain": [
       "user_id    13576\n",
       "source         4\n",
       "dtype: int64"
      ]
     },
     "execution_count": 109,
     "metadata": {},
     "output_type": "execute_result"
    }
   ],
   "source": [
    "user_src.nunique()"
   ]
  },
  {
   "cell_type": "code",
   "execution_count": 110,
   "metadata": {},
   "outputs": [
    {
     "name": "stdout",
     "output_type": "stream",
     "text": [
      "!!!\n",
      "Слишком много уникальных значений в колонке user_id\n",
      "первые 30 значений:\n",
      "!!!\n",
      "\n",
      "['0001f83c-c6ac-4621-b7f0-8a28b283ac30'\n",
      " '00151b4f-ba38-44a8-a650-d7cf130a0105'\n",
      " '001aaea6-3d14-43f1-8ca8-7f48820f17aa'\n",
      " '001d39dc-366c-4021-9604-6a3b9ff01e25'\n",
      " '002f508f-67b6-479f-814b-b05f00d4e995'\n",
      " '003b80c6-4164-4157-bb2a-03d0181d39c4'\n",
      " '003ee7e8-6356-4286-a715-62f22a18d2a1'\n",
      " '004074f8-251a-4776-922c-8348dca1a2f6'\n",
      " '00440efd-aa50-4b4b-aae8-ffcd1782729d'\n",
      " '00464e5e-28ed-4be6-bf44-517ef7b3937b'\n",
      " '0056c007-c082-43cc-bdef-afc49bca4cb9'\n",
      " '005ff87b-b475-4da7-862e-57ab91adbff4'\n",
      " '00606a1c-51e1-48d1-b053-77be528527c0'\n",
      " '006380d6-67a6-45de-ab1e-6eb54ad8dbe8'\n",
      " '00704880-11b2-4868-b52d-c3ee6edf4b90'\n",
      " '00734e08-ebce-4ab4-be33-47fe947c0d51'\n",
      " '007ad796-add4-41a5-bc2a-e11561f16cd6'\n",
      " '007f9ffa-4c39-408b-a2e1-a84ddc10bee1'\n",
      " '00856327-739b-4507-922d-9213ad679bd7'\n",
      " '0095c3a5-550a-4d6d-8120-560e5214335a'\n",
      " '00965328-5e54-453f-b11b-52f8ae9ae80b'\n",
      " '0099a74d-bafc-404f-ae47-5c901a06d108'\n",
      " '00ac051d-38ca-4746-b33c-4cff9d298d09'\n",
      " '00b45f70-fc28-4af4-9867-487e0a2906e7'\n",
      " '00be7371-fa79-4fbd-b8e7-8ba32e3f8f82'\n",
      " '00c27597-5f3d-44c8-bb4c-eea494613358'\n",
      " '00c2b9f2-2615-439c-aed0-6974e4c6c1c1'\n",
      " '00cb37e7-e425-4949-b3df-da316640fd1d'\n",
      " '00ceadbd-559b-4a7f-991a-12153374683a'\n",
      " '00d48589-0a24-44cb-93c5-a5007c0c1a84']\n",
      "---------------\n",
      "Уникальные значеня в колонке source\n",
      "\n",
      "['facebook_ads' 'yandex_direct' 'youtube_channel_reklama'\n",
      " 'instagram_new_adverts']\n",
      "---------------\n"
     ]
    }
   ],
   "source": [
    "df_unique_vals(user_src)"
   ]
  },
  {
   "cell_type": "markdown",
   "metadata": {},
   "source": [
    "<div class=\"alert alert-success\">\n",
    "<b>Комментарий ревьюера:</b>☀️\n",
    "    \n",
    "Мне ещё нравится идея полностью функции для первичного анализа, очень удобно для того, чтобы автоматизировать анализ целиком"
   ]
  },
  {
   "cell_type": "markdown",
   "metadata": {},
   "source": [
    "### Датасет `user_src`"
   ]
  },
  {
   "cell_type": "markdown",
   "metadata": {},
   "source": [
    "Колонки:  \n",
    "   \n",
    "`event_datetime` — время события  \n",
    "`event` — одно из трёх событий:  \n",
    "1. *building* — объект построен,\n",
    "2. *finished_stage_1* — первый уровень завершён,\n",
    "3. *project* — проект завершён; \n",
    "  \n",
    "`building_type` — один из трёх типов здания:\n",
    "1. *assembly_shop* — сборочный цех,\n",
    "2. *spacepor*t — космопорт,\n",
    "3. *research_center* — исследовательский центр; \n",
    "  \n",
    "`user_id` — идентификатор пользователя;  \n",
    "`project_type` — тип реализованного проекта;"
   ]
  },
  {
   "cell_type": "code",
   "execution_count": 111,
   "metadata": {},
   "outputs": [
    {
     "name": "stdout",
     "output_type": "stream",
     "text": [
      "<class 'pandas.core.frame.DataFrame'>\n",
      "RangeIndex: 135640 entries, 0 to 135639\n",
      "Data columns (total 5 columns):\n",
      " #   Column          Non-Null Count   Dtype \n",
      "---  ------          --------------   ----- \n",
      " 0   event_datetime  135640 non-null  object\n",
      " 1   event           135640 non-null  object\n",
      " 2   building_type   127957 non-null  object\n",
      " 3   user_id         135640 non-null  object\n",
      " 4   project_type    1866 non-null    object\n",
      "dtypes: object(5)\n",
      "memory usage: 5.2+ MB\n"
     ]
    }
   ],
   "source": [
    "game_act.info()"
   ]
  },
  {
   "cell_type": "markdown",
   "metadata": {},
   "source": [
    "Приведем `event_datetime` к типу datetime"
   ]
  },
  {
   "cell_type": "code",
   "execution_count": 112,
   "metadata": {},
   "outputs": [],
   "source": [
    "game_act['event_datetime'] = pd.to_datetime(game_act['event_datetime'])"
   ]
  },
  {
   "cell_type": "markdown",
   "metadata": {},
   "source": [
    "<div class=\"alert alert-success\">\n",
    "<b>Комментарий ревьюера:</b>☀️\n",
    "    \n",
    "У `read_csv` есть параметр, который позволяет даты сразу в нужный формат переводить, рекомендую к использованию  </div>"
   ]
  },
  {
   "cell_type": "code",
   "execution_count": 113,
   "metadata": {},
   "outputs": [
    {
     "name": "stdout",
     "output_type": "stream",
     "text": [
      "Количество явных дубликатов строк:  1\n",
      "\n",
      "                   nan  nan_percent\n",
      "event_datetime       0         0.00\n",
      "event                0         0.00\n",
      "building_type     7683         5.66\n",
      "user_id              0         0.00\n",
      "project_type    133774        98.62\n"
     ]
    }
   ],
   "source": [
    "df_stat(game_act)"
   ]
  },
  {
   "cell_type": "markdown",
   "metadata": {},
   "source": [
    "Приводим данные в колонках типа `object` к нижнему регистру"
   ]
  },
  {
   "cell_type": "code",
   "execution_count": 114,
   "metadata": {},
   "outputs": [
    {
     "name": "stdout",
     "output_type": "stream",
     "text": [
      "<class 'pandas.core.frame.DataFrame'>\n",
      "RangeIndex: 135640 entries, 0 to 135639\n",
      "Data columns (total 5 columns):\n",
      " #   Column          Non-Null Count   Dtype         \n",
      "---  ------          --------------   -----         \n",
      " 0   event_datetime  135640 non-null  datetime64[ns]\n",
      " 1   event           135640 non-null  object        \n",
      " 2   building_type   127957 non-null  object        \n",
      " 3   user_id         135640 non-null  object        \n",
      " 4   project_type    1866 non-null    object        \n",
      "dtypes: datetime64[ns](1), object(4)\n",
      "memory usage: 5.2+ MB\n"
     ]
    }
   ],
   "source": [
    "game_act.info()"
   ]
  },
  {
   "cell_type": "code",
   "execution_count": 115,
   "metadata": {},
   "outputs": [],
   "source": [
    "game_act = df_strlower_object(game_act)"
   ]
  },
  {
   "cell_type": "code",
   "execution_count": 116,
   "metadata": {},
   "outputs": [
    {
     "data": {
      "text/plain": [
       "event_datetime    128790\n",
       "event                  3\n",
       "building_type          3\n",
       "user_id            13576\n",
       "project_type           1\n",
       "dtype: int64"
      ]
     },
     "execution_count": 116,
     "metadata": {},
     "output_type": "execute_result"
    }
   ],
   "source": [
    "game_act.nunique()"
   ]
  },
  {
   "cell_type": "code",
   "execution_count": 117,
   "metadata": {},
   "outputs": [
    {
     "name": "stdout",
     "output_type": "stream",
     "text": [
      "!!!\n",
      "Слишком много уникальных значений в колонке event_datetime\n",
      "первые 30 значений:\n",
      "!!!\n",
      "\n",
      "['2020-05-04T00:00:01.000000000' '2020-05-04T00:00:03.000000000'\n",
      " '2020-05-04T00:00:16.000000000' '2020-05-04T00:00:35.000000000'\n",
      " '2020-05-04T00:00:36.000000000' '2020-05-04T00:00:38.000000000'\n",
      " '2020-05-04T00:00:44.000000000' '2020-05-04T00:01:33.000000000'\n",
      " '2020-05-04T00:01:59.000000000' '2020-05-04T00:02:24.000000000'\n",
      " '2020-05-04T00:02:36.000000000' '2020-05-04T00:02:56.000000000'\n",
      " '2020-05-04T00:03:03.000000000' '2020-05-04T00:03:10.000000000'\n",
      " '2020-05-04T00:03:15.000000000' '2020-05-04T00:03:26.000000000'\n",
      " '2020-05-04T00:03:35.000000000' '2020-05-04T00:03:37.000000000'\n",
      " '2020-05-04T00:03:46.000000000' '2020-05-04T00:03:54.000000000'\n",
      " '2020-05-04T00:03:59.000000000' '2020-05-04T00:04:07.000000000'\n",
      " '2020-05-04T00:04:31.000000000' '2020-05-04T00:04:47.000000000'\n",
      " '2020-05-04T00:05:04.000000000' '2020-05-04T00:05:08.000000000'\n",
      " '2020-05-04T00:05:31.000000000' '2020-05-04T00:05:56.000000000'\n",
      " '2020-05-04T00:06:01.000000000' '2020-05-04T00:06:16.000000000']\n",
      "---------------\n",
      "Уникальные значеня в колонке event\n",
      "\n",
      "['building' 'finished_stage_1' 'project']\n",
      "---------------\n",
      "Уникальные значеня в колонке building_type\n",
      "\n",
      "['assembly_shop' 'spaceport' nan 'research_center']\n",
      "---------------\n",
      "!!!\n",
      "Слишком много уникальных значений в колонке user_id\n",
      "первые 30 значений:\n",
      "!!!\n",
      "\n",
      "['55e92310-cb8e-4754-b622-597e124b03de'\n",
      " 'c07b1c10-f477-44dc-81dc-ec82254b1347'\n",
      " '6edd42cc-e753-4ff6-a947-2107cd560710'\n",
      " '92c69003-d60a-444a-827f-8cc51bf6bf4c'\n",
      " 'cdc6bb92-0ccb-4490-9866-ef142f09139d'\n",
      " '06c592ca-902d-42bb-bac3-75ce84cca159'\n",
      " '4fe0f101-694b-4e31-9740-d1d87f7208ea'\n",
      " 'beb8ca15-33a9-465d-b47b-89aa96f89c9a'\n",
      " '65a92713-5969-48b1-8945-bfefa5063887'\n",
      " 'fa352362-d258-472c-b295-2796ccc39fa3'\n",
      " 'c99ecd61-1a4e-4bd2-b8b5-1f8bbcd2bdb5'\n",
      " '9c200ece-3b74-44c4-8a3f-260f2486c5d7'\n",
      " '09714d4f-67d1-44a4-b275-3627f3f386aa'\n",
      " '7b3b6554-7949-4065-9808-d6c79bdc2f58'\n",
      " 'ab09a4ab-4d28-4dda-81c4-b93d3ea3e480'\n",
      " '02bf92c2-17a0-4156-be88-2054fb6b7421'\n",
      " 'd63ce785-ec0f-4cb9-8457-18ea3a9b503c'\n",
      " '58abbcb4-07d2-4f9a-affc-93c2ca48bb65'\n",
      " 'a09aa68a-381b-4619-999b-a7bfe32f8814'\n",
      " 'e97645cd-309f-42f9-8a2c-928540e76e63'\n",
      " 'b374304d-2f74-4cc1-a4e2-500da44a06c7'\n",
      " '168f1119-8978-4265-9309-0bf11c905653'\n",
      " '445a5662-dfe2-43a8-9835-2ece9b6e1bf5'\n",
      " 'b65f3135-457c-41a5-aa32-38a6f2f2a515'\n",
      " '84f73c8f-0098-40fe-a08d-050545bbb455'\n",
      " '7e7d2d26-156e-4fd6-aebf-4df91181c9a4'\n",
      " '96f23b39-74fd-4e4e-ab61-36cec65731a5'\n",
      " '1d6aabe0-eb52-4974-ae17-e3ee6a460f1c'\n",
      " 'cc138eda-8c42-4210-b6c5-2751e06b0dbd'\n",
      " 'fad474f5-358b-4b2e-97f4-3d3aba8974f9']\n",
      "---------------\n",
      "Уникальные значеня в колонке project_type\n",
      "\n",
      "[nan 'satellite_orbital_assembly']\n",
      "---------------\n"
     ]
    }
   ],
   "source": [
    "df_unique_vals(game_act)"
   ]
  },
  {
   "cell_type": "code",
   "execution_count": 118,
   "metadata": {},
   "outputs": [
    {
     "name": "stdout",
     "output_type": "stream",
     "text": [
      "Количество явных дубликатов строк:  1\n",
      "\n",
      "                   nan  nan_percent\n",
      "event_datetime       0         0.00\n",
      "event                0         0.00\n",
      "building_type     7683         5.66\n",
      "user_id              0         0.00\n",
      "project_type    133774        98.62\n"
     ]
    }
   ],
   "source": [
    "# повторим для наглядности выводов \n",
    "df_stat(game_act)"
   ]
  },
  {
   "cell_type": "markdown",
   "metadata": {},
   "source": [
    "Т.к. колонка `building_type` содержит   ~6% отсутсвующих данных - это не критично, их можно удалить, но мы потеряем данные в `project_type`  \n",
    "Есть один явный дубликат, его  следует удалить  "
   ]
  },
  {
   "cell_type": "code",
   "execution_count": 119,
   "metadata": {},
   "outputs": [],
   "source": [
    "# game_act.dropna(subset=['building_type'], inplace=True, axis=0)\n",
    "game_act.drop_duplicates(inplace=True)"
   ]
  },
  {
   "cell_type": "markdown",
   "metadata": {},
   "source": [
    "В колонке `project_type`  отсутсвующих данных ~99%, оставим ее как есть, она очень важна"
   ]
  },
  {
   "cell_type": "code",
   "execution_count": 120,
   "metadata": {},
   "outputs": [
    {
     "name": "stdout",
     "output_type": "stream",
     "text": [
      "Количество явных дубликатов строк:  0\n",
      "\n",
      "                   nan  nan_percent\n",
      "event_datetime       0         0.00\n",
      "event                0         0.00\n",
      "building_type     7683         5.66\n",
      "user_id              0         0.00\n",
      "project_type    133773        98.62\n"
     ]
    }
   ],
   "source": [
    "df_stat(game_act)"
   ]
  },
  {
   "cell_type": "markdown",
   "metadata": {},
   "source": [
    "<br>\n",
    "Предобработка датасетов завершена"
   ]
  },
  {
   "cell_type": "markdown",
   "metadata": {},
   "source": [
    "## Исследовательский анализ данных\n",
    "<a id='eda'></a>\n",
    "[К содержанию](#table_of_contents)"
   ]
  },
  {
   "cell_type": "code",
   "execution_count": 121,
   "metadata": {},
   "outputs": [
    {
     "data": {
      "text/plain": [
       "array([datetime.date(2020, 5, 3), datetime.date(2020, 5, 4),\n",
       "       datetime.date(2020, 5, 5), datetime.date(2020, 5, 6),\n",
       "       datetime.date(2020, 5, 7), datetime.date(2020, 5, 8),\n",
       "       datetime.date(2020, 5, 9)], dtype=object)"
      ]
     },
     "execution_count": 121,
     "metadata": {},
     "output_type": "execute_result"
    }
   ],
   "source": [
    "ad_costs['day'].dt.date.unique()"
   ]
  },
  {
   "cell_type": "code",
   "execution_count": 122,
   "metadata": {},
   "outputs": [
    {
     "data": {
      "text/html": [
       "<div>\n",
       "<style scoped>\n",
       "    .dataframe tbody tr th:only-of-type {\n",
       "        vertical-align: middle;\n",
       "    }\n",
       "\n",
       "    .dataframe tbody tr th {\n",
       "        vertical-align: top;\n",
       "    }\n",
       "\n",
       "    .dataframe thead th {\n",
       "        text-align: right;\n",
       "    }\n",
       "</style>\n",
       "<table border=\"1\" class=\"dataframe\">\n",
       "  <thead>\n",
       "    <tr style=\"text-align: right;\">\n",
       "      <th></th>\n",
       "      <th>source</th>\n",
       "      <th>day</th>\n",
       "      <th>cost</th>\n",
       "    </tr>\n",
       "  </thead>\n",
       "  <tbody>\n",
       "    <tr>\n",
       "      <th>0</th>\n",
       "      <td>facebook_ads</td>\n",
       "      <td>2020-05-03</td>\n",
       "      <td>935.882786</td>\n",
       "    </tr>\n",
       "    <tr>\n",
       "      <th>7</th>\n",
       "      <td>instagram_new_adverts</td>\n",
       "      <td>2020-05-03</td>\n",
       "      <td>943.204717</td>\n",
       "    </tr>\n",
       "    <tr>\n",
       "      <th>14</th>\n",
       "      <td>yandex_direct</td>\n",
       "      <td>2020-05-03</td>\n",
       "      <td>969.139394</td>\n",
       "    </tr>\n",
       "    <tr>\n",
       "      <th>21</th>\n",
       "      <td>youtube_channel_reklama</td>\n",
       "      <td>2020-05-03</td>\n",
       "      <td>454.224943</td>\n",
       "    </tr>\n",
       "  </tbody>\n",
       "</table>\n",
       "</div>"
      ],
      "text/plain": [
       "                     source        day        cost\n",
       "0              facebook_ads 2020-05-03  935.882786\n",
       "7     instagram_new_adverts 2020-05-03  943.204717\n",
       "14            yandex_direct 2020-05-03  969.139394\n",
       "21  youtube_channel_reklama 2020-05-03  454.224943"
      ]
     },
     "execution_count": 122,
     "metadata": {},
     "output_type": "execute_result"
    }
   ],
   "source": [
    "_day = dt.datetime(2020, 5, 3)\n",
    "ad_costs.query('day == @_day')"
   ]
  },
  {
   "cell_type": "markdown",
   "metadata": {},
   "source": [
    "Поскольку в (сводной) таблице `ad_costs` есть лишь дни `day`, источник трафика `source`, и стоимость кликов `cost`, мы не можем узнать в какие даты  пользователи пришли в первый раз в игру.\n",
    "  \n",
    "Например из `game_actions.csv` колонка `event_datetime` говорит лишь о дате событиях, но пользователь мог зайти в игру, зарегистрироваться/посмотреть и лишь через какой-то промежуток времени совершить событие  "
   ]
  },
  {
   "cell_type": "markdown",
   "metadata": {},
   "source": [
    "<div class=\"alert alert-warning\">\n",
    "<b>Комментарий ревьюера:</b>⛅️ \n",
    "\n",
    "Замечание очень точное, если бы не моё уточнение на вводной встрече, что давайте считать, что день первого действия и будет днём просмотра рекламы\n",
    "</div>"
   ]
  },
  {
   "cell_type": "markdown",
   "metadata": {},
   "source": [
    "### Расчет CAC(Customer Acquisition Cost)"
   ]
  },
  {
   "cell_type": "code",
   "execution_count": 123,
   "metadata": {},
   "outputs": [
    {
     "data": {
      "text/html": [
       "<div>\n",
       "<style scoped>\n",
       "    .dataframe tbody tr th:only-of-type {\n",
       "        vertical-align: middle;\n",
       "    }\n",
       "\n",
       "    .dataframe tbody tr th {\n",
       "        vertical-align: top;\n",
       "    }\n",
       "\n",
       "    .dataframe thead th {\n",
       "        text-align: right;\n",
       "    }\n",
       "</style>\n",
       "<table border=\"1\" class=\"dataframe\">\n",
       "  <thead>\n",
       "    <tr style=\"text-align: right;\">\n",
       "      <th></th>\n",
       "      <th>user_id</th>\n",
       "      <th>source</th>\n",
       "    </tr>\n",
       "  </thead>\n",
       "  <tbody>\n",
       "    <tr>\n",
       "      <th>0</th>\n",
       "      <td>0001f83c-c6ac-4621-b7f0-8a28b283ac30</td>\n",
       "      <td>facebook_ads</td>\n",
       "    </tr>\n",
       "    <tr>\n",
       "      <th>1</th>\n",
       "      <td>00151b4f-ba38-44a8-a650-d7cf130a0105</td>\n",
       "      <td>yandex_direct</td>\n",
       "    </tr>\n",
       "    <tr>\n",
       "      <th>2</th>\n",
       "      <td>001aaea6-3d14-43f1-8ca8-7f48820f17aa</td>\n",
       "      <td>youtube_channel_reklama</td>\n",
       "    </tr>\n",
       "    <tr>\n",
       "      <th>3</th>\n",
       "      <td>001d39dc-366c-4021-9604-6a3b9ff01e25</td>\n",
       "      <td>instagram_new_adverts</td>\n",
       "    </tr>\n",
       "    <tr>\n",
       "      <th>4</th>\n",
       "      <td>002f508f-67b6-479f-814b-b05f00d4e995</td>\n",
       "      <td>facebook_ads</td>\n",
       "    </tr>\n",
       "  </tbody>\n",
       "</table>\n",
       "</div>"
      ],
      "text/plain": [
       "                                user_id                   source\n",
       "0  0001f83c-c6ac-4621-b7f0-8a28b283ac30             facebook_ads\n",
       "1  00151b4f-ba38-44a8-a650-d7cf130a0105            yandex_direct\n",
       "2  001aaea6-3d14-43f1-8ca8-7f48820f17aa  youtube_channel_reklama\n",
       "3  001d39dc-366c-4021-9604-6a3b9ff01e25    instagram_new_adverts\n",
       "4  002f508f-67b6-479f-814b-b05f00d4e995             facebook_ads"
      ]
     },
     "execution_count": 123,
     "metadata": {},
     "output_type": "execute_result"
    }
   ],
   "source": [
    "user_src.head()"
   ]
  },
  {
   "cell_type": "code",
   "execution_count": 124,
   "metadata": {},
   "outputs": [
    {
     "data": {
      "text/html": [
       "<div>\n",
       "<style scoped>\n",
       "    .dataframe tbody tr th:only-of-type {\n",
       "        vertical-align: middle;\n",
       "    }\n",
       "\n",
       "    .dataframe tbody tr th {\n",
       "        vertical-align: top;\n",
       "    }\n",
       "\n",
       "    .dataframe thead th {\n",
       "        text-align: right;\n",
       "    }\n",
       "</style>\n",
       "<table border=\"1\" class=\"dataframe\">\n",
       "  <thead>\n",
       "    <tr style=\"text-align: right;\">\n",
       "      <th></th>\n",
       "      <th>users_cnt</th>\n",
       "    </tr>\n",
       "    <tr>\n",
       "      <th>source</th>\n",
       "      <th></th>\n",
       "    </tr>\n",
       "  </thead>\n",
       "  <tbody>\n",
       "    <tr>\n",
       "      <th>facebook_ads</th>\n",
       "      <td>2726</td>\n",
       "    </tr>\n",
       "    <tr>\n",
       "      <th>instagram_new_adverts</th>\n",
       "      <td>3347</td>\n",
       "    </tr>\n",
       "    <tr>\n",
       "      <th>yandex_direct</th>\n",
       "      <td>4817</td>\n",
       "    </tr>\n",
       "    <tr>\n",
       "      <th>youtube_channel_reklama</th>\n",
       "      <td>2686</td>\n",
       "    </tr>\n",
       "  </tbody>\n",
       "</table>\n",
       "</div>"
      ],
      "text/plain": [
       "                         users_cnt\n",
       "source                            \n",
       "facebook_ads                  2726\n",
       "instagram_new_adverts         3347\n",
       "yandex_direct                 4817\n",
       "youtube_channel_reklama       2686"
      ]
     },
     "execution_count": 124,
     "metadata": {},
     "output_type": "execute_result"
    }
   ],
   "source": [
    "users_from = user_src.groupby('source').agg({'user_id':'nunique'}).rename(columns={'user_id':'users_cnt'})\n",
    "users_from"
   ]
  },
  {
   "cell_type": "markdown",
   "metadata": {},
   "source": [
    "Т.к. мы не знаем когда пользователи пришли по источнику, мы не сможем посчитать во сколько обходится конкретные пользователи из разных источников за конкретные дни, но можем посчитать в среднем"
   ]
  },
  {
   "cell_type": "markdown",
   "metadata": {},
   "source": [
    "Посмотрим сколько в среднем стоят рекламы у различных источниках, а так же другие статистики"
   ]
  },
  {
   "cell_type": "code",
   "execution_count": 125,
   "metadata": {},
   "outputs": [
    {
     "data": {
      "text/html": [
       "<div>\n",
       "<style scoped>\n",
       "    .dataframe tbody tr th:only-of-type {\n",
       "        vertical-align: middle;\n",
       "    }\n",
       "\n",
       "    .dataframe tbody tr th {\n",
       "        vertical-align: top;\n",
       "    }\n",
       "\n",
       "    .dataframe thead th {\n",
       "        text-align: right;\n",
       "    }\n",
       "</style>\n",
       "<table border=\"1\" class=\"dataframe\">\n",
       "  <thead>\n",
       "    <tr style=\"text-align: right;\">\n",
       "      <th></th>\n",
       "      <th>count</th>\n",
       "      <th>mean</th>\n",
       "      <th>std</th>\n",
       "      <th>min</th>\n",
       "      <th>25%</th>\n",
       "      <th>50%</th>\n",
       "      <th>75%</th>\n",
       "      <th>max</th>\n",
       "    </tr>\n",
       "    <tr>\n",
       "      <th>source</th>\n",
       "      <th></th>\n",
       "      <th></th>\n",
       "      <th></th>\n",
       "      <th></th>\n",
       "      <th></th>\n",
       "      <th></th>\n",
       "      <th></th>\n",
       "      <th></th>\n",
       "    </tr>\n",
       "  </thead>\n",
       "  <tbody>\n",
       "    <tr>\n",
       "      <th>facebook_ads</th>\n",
       "      <td>7.0</td>\n",
       "      <td>305.843520</td>\n",
       "      <td>326.542054</td>\n",
       "      <td>38.723350</td>\n",
       "      <td>89.888036</td>\n",
       "      <td>177.982200</td>\n",
       "      <td>404.270117</td>\n",
       "      <td>935.882786</td>\n",
       "    </tr>\n",
       "    <tr>\n",
       "      <th>instagram_new_adverts</th>\n",
       "      <td>7.0</td>\n",
       "      <td>308.777384</td>\n",
       "      <td>322.254830</td>\n",
       "      <td>46.775400</td>\n",
       "      <td>90.746997</td>\n",
       "      <td>173.071145</td>\n",
       "      <td>408.448217</td>\n",
       "      <td>943.204717</td>\n",
       "    </tr>\n",
       "    <tr>\n",
       "      <th>yandex_direct</th>\n",
       "      <td>7.0</td>\n",
       "      <td>319.015921</td>\n",
       "      <td>336.921909</td>\n",
       "      <td>42.779505</td>\n",
       "      <td>88.695484</td>\n",
       "      <td>180.917099</td>\n",
       "      <td>431.442242</td>\n",
       "      <td>969.139394</td>\n",
       "    </tr>\n",
       "    <tr>\n",
       "      <th>youtube_channel_reklama</th>\n",
       "      <td>7.0</td>\n",
       "      <td>152.588458</td>\n",
       "      <td>155.552373</td>\n",
       "      <td>23.314669</td>\n",
       "      <td>47.979276</td>\n",
       "      <td>88.506074</td>\n",
       "      <td>203.057483</td>\n",
       "      <td>454.224943</td>\n",
       "    </tr>\n",
       "  </tbody>\n",
       "</table>\n",
       "</div>"
      ],
      "text/plain": [
       "                         count        mean         std        min        25%  \\\n",
       "source                                                                         \n",
       "facebook_ads               7.0  305.843520  326.542054  38.723350  89.888036   \n",
       "instagram_new_adverts      7.0  308.777384  322.254830  46.775400  90.746997   \n",
       "yandex_direct              7.0  319.015921  336.921909  42.779505  88.695484   \n",
       "youtube_channel_reklama    7.0  152.588458  155.552373  23.314669  47.979276   \n",
       "\n",
       "                                50%         75%         max  \n",
       "source                                                       \n",
       "facebook_ads             177.982200  404.270117  935.882786  \n",
       "instagram_new_adverts    173.071145  408.448217  943.204717  \n",
       "yandex_direct            180.917099  431.442242  969.139394  \n",
       "youtube_channel_reklama   88.506074  203.057483  454.224943  "
      ]
     },
     "execution_count": 125,
     "metadata": {},
     "output_type": "execute_result"
    }
   ],
   "source": [
    "ad_costs.groupby('source')['cost'].describe()"
   ]
  },
  {
   "cell_type": "markdown",
   "metadata": {},
   "source": [
    "В среднем цены не `facebook_ads`, `instagram_new_adverts`, `yandex_direct` стоят около 300   долларов, медианые стоимости также близки друг к другу ~180 долларов  \n",
    "реклама в `youtube_channel_reklama` одна из самых дешевых"
   ]
  },
  {
   "cell_type": "code",
   "execution_count": 126,
   "metadata": {},
   "outputs": [
    {
     "data": {
      "text/html": [
       "<div>\n",
       "<style scoped>\n",
       "    .dataframe tbody tr th:only-of-type {\n",
       "        vertical-align: middle;\n",
       "    }\n",
       "\n",
       "    .dataframe tbody tr th {\n",
       "        vertical-align: top;\n",
       "    }\n",
       "\n",
       "    .dataframe thead th {\n",
       "        text-align: right;\n",
       "    }\n",
       "</style>\n",
       "<table border=\"1\" class=\"dataframe\">\n",
       "  <thead>\n",
       "    <tr style=\"text-align: right;\">\n",
       "      <th></th>\n",
       "      <th>total_cost</th>\n",
       "    </tr>\n",
       "    <tr>\n",
       "      <th>source</th>\n",
       "      <th></th>\n",
       "    </tr>\n",
       "  </thead>\n",
       "  <tbody>\n",
       "    <tr>\n",
       "      <th>facebook_ads</th>\n",
       "      <td>2140.904643</td>\n",
       "    </tr>\n",
       "    <tr>\n",
       "      <th>instagram_new_adverts</th>\n",
       "      <td>2161.441691</td>\n",
       "    </tr>\n",
       "    <tr>\n",
       "      <th>yandex_direct</th>\n",
       "      <td>2233.111449</td>\n",
       "    </tr>\n",
       "    <tr>\n",
       "      <th>youtube_channel_reklama</th>\n",
       "      <td>1068.119204</td>\n",
       "    </tr>\n",
       "  </tbody>\n",
       "</table>\n",
       "</div>"
      ],
      "text/plain": [
       "                          total_cost\n",
       "source                              \n",
       "facebook_ads             2140.904643\n",
       "instagram_new_adverts    2161.441691\n",
       "yandex_direct            2233.111449\n",
       "youtube_channel_reklama  1068.119204"
      ]
     },
     "execution_count": 126,
     "metadata": {},
     "output_type": "execute_result"
    }
   ],
   "source": [
    "ads_total_costs = ad_costs.groupby('source').sum().rename(columns={'cost':'total_cost'})\n",
    "ads_total_costs"
   ]
  },
  {
   "cell_type": "code",
   "execution_count": 128,
   "metadata": {},
   "outputs": [
    {
     "data": {
      "text/html": [
       "<div>\n",
       "<style scoped>\n",
       "    .dataframe tbody tr th:only-of-type {\n",
       "        vertical-align: middle;\n",
       "    }\n",
       "\n",
       "    .dataframe tbody tr th {\n",
       "        vertical-align: top;\n",
       "    }\n",
       "\n",
       "    .dataframe thead th {\n",
       "        text-align: right;\n",
       "    }\n",
       "</style>\n",
       "<table border=\"1\" class=\"dataframe\">\n",
       "  <thead>\n",
       "    <tr style=\"text-align: right;\">\n",
       "      <th></th>\n",
       "      <th>source</th>\n",
       "      <th>users_cnt</th>\n",
       "      <th>ad_total_cost</th>\n",
       "      <th>one_user_mean_cost</th>\n",
       "      <th>users_dist</th>\n",
       "    </tr>\n",
       "  </thead>\n",
       "  <tbody>\n",
       "    <tr>\n",
       "      <th>0</th>\n",
       "      <td>facebook_ads</td>\n",
       "      <td>2726</td>\n",
       "      <td>2140.904643</td>\n",
       "      <td>0.79</td>\n",
       "      <td>2726</td>\n",
       "    </tr>\n",
       "    <tr>\n",
       "      <th>1</th>\n",
       "      <td>instagram_new_adverts</td>\n",
       "      <td>3347</td>\n",
       "      <td>2161.441691</td>\n",
       "      <td>0.65</td>\n",
       "      <td>3347</td>\n",
       "    </tr>\n",
       "    <tr>\n",
       "      <th>2</th>\n",
       "      <td>yandex_direct</td>\n",
       "      <td>4817</td>\n",
       "      <td>2233.111449</td>\n",
       "      <td>0.46</td>\n",
       "      <td>4817</td>\n",
       "    </tr>\n",
       "    <tr>\n",
       "      <th>3</th>\n",
       "      <td>youtube_channel_reklama</td>\n",
       "      <td>2686</td>\n",
       "      <td>1068.119204</td>\n",
       "      <td>0.40</td>\n",
       "      <td>2686</td>\n",
       "    </tr>\n",
       "  </tbody>\n",
       "</table>\n",
       "</div>"
      ],
      "text/plain": [
       "                    source  users_cnt  ad_total_cost  one_user_mean_cost  \\\n",
       "0             facebook_ads       2726    2140.904643                0.79   \n",
       "1    instagram_new_adverts       3347    2161.441691                0.65   \n",
       "2            yandex_direct       4817    2233.111449                0.46   \n",
       "3  youtube_channel_reklama       2686    1068.119204                0.40   \n",
       "\n",
       "   users_dist  \n",
       "0        2726  \n",
       "1        3347  \n",
       "2        4817  \n",
       "3        2686  "
      ]
     },
     "execution_count": 128,
     "metadata": {},
     "output_type": "execute_result"
    }
   ],
   "source": [
    "users_from['ad_total_cost'] =  ads_total_costs['total_cost']\n",
    "users_from['one_user_mean_cost'] = (users_from['ad_total_cost'] / users_from['users_cnt']).round(2)\n",
    "users_from['users_dist'] = users_from['users_cnt'] \n",
    "users_from.reset_index(inplace=True)\n",
    "users_from"
   ]
  },
  {
   "cell_type": "code",
   "execution_count": 289,
   "metadata": {},
   "outputs": [
    {
     "data": {
      "image/png": "[encoded data removed]",
      "text/plain": [
       "<Figure size 1800x504 with 4 Axes>"
      ]
     },
     "metadata": {
      "needs_background": "light"
     },
     "output_type": "display_data"
    }
   ],
   "source": [
    "_y_cols = ['users_cnt', \n",
    "           'ad_total_cost', \n",
    "           'one_user_mean_cost',\n",
    "           'users_dist'\n",
    "]\n",
    "_y_title = ['Количество пользователей', \n",
    "            'Стоимость, доллары', \n",
    "            'Стоимость, доллары',\n",
    "            'Количество пользователей'\n",
    "]\n",
    "_sub_titles = ['Количество привлеченных пользователей',\n",
    "              'Всего потрачено на рекламу у источников',\n",
    "              'Стоимость привлечения одного пользователя',\n",
    "              'Распределение пользователей по источнику'\n",
    "]\n",
    "\n",
    "_colors = {v:colors.to_rgb(c) for v,c in zip(['facebook_ads', 'instagram_new_adverts', 'yandex_direct', 'youtube_channel_reklama'],\n",
    "                                         ['gold', 'plum', 'royalblue', 'yellowgreen'])}\n",
    "\n",
    "fig, axes = plt.subplots(1, 4, figsize=(25, 7))\n",
    "\n",
    "for ind in range(len(_y_cols)):\n",
    "    sns.barplot(data=users_from, x='source', y=_y_cols[ind], \n",
    "                ax=axes[ind], palette=_colors)\n",
    "    axes[ind].set_title(_sub_titles[ind])\n",
    "    axes[ind].set_xticklabels(labels=users_from['source'],rotation=20)\n",
    "    axes[ind].set_xlabel('Источник рекламы')\n",
    "    axes[ind].grid(True, alpha=.3)\n",
    "    axes[ind].set_ylabel(_y_title[ind])"
   ]
  },
  {
   "cell_type": "markdown",
   "metadata": {},
   "source": [
    "Выводы из графиков:  \n",
    "  \n",
    "  ***Количество привлеченных пользователей***  \n",
    "Больше всего пользователей пришло из `yandex_direct` ~4800, `instagram_new_adverts` ~3330, остальные привлекли по ~2700 пользователей  \n",
    "  \n",
    "  ***Всего потрачено на рекламу у источников***  \n",
    "Суммы потраченные на рекламу у источников в среднем ~2000 за исключением `youtube_channel_reklama` ~1000, поэтому следует смотреть на график *стоимость привлечения одного пользователя*   \n",
    "  \n",
    "***Cтоимость привлечения одного пользователя***   \n",
    "Самые дешевые привлечение пользователей у `yandex_direct`, `youtube_channel_reklama` ~0.4 на одного пользователя\n",
    "Самая дорогая реклама у `facebook_ads` ~0.8 долларов на одного пользователя "
   ]
  },
  {
   "cell_type": "markdown",
   "metadata": {},
   "source": [
    "### Анализ влияния источника перехода в игру на поведение пользователя"
   ]
  },
  {
   "cell_type": "code",
   "execution_count": 130,
   "metadata": {},
   "outputs": [],
   "source": [
    "game = game_act.merge(user_src, how='left', on='user_id')"
   ]
  },
  {
   "cell_type": "code",
   "execution_count": 131,
   "metadata": {},
   "outputs": [
    {
     "data": {
      "text/plain": [
       "True"
      ]
     },
     "execution_count": 131,
     "metadata": {},
     "output_type": "execute_result"
    }
   ],
   "source": [
    "game.shape[0] == game_act.shape[0]"
   ]
  },
  {
   "cell_type": "code",
   "execution_count": 132,
   "metadata": {},
   "outputs": [
    {
     "data": {
      "text/html": [
       "<div>\n",
       "<style scoped>\n",
       "    .dataframe tbody tr th:only-of-type {\n",
       "        vertical-align: middle;\n",
       "    }\n",
       "\n",
       "    .dataframe tbody tr th {\n",
       "        vertical-align: top;\n",
       "    }\n",
       "\n",
       "    .dataframe thead th {\n",
       "        text-align: right;\n",
       "    }\n",
       "</style>\n",
       "<table border=\"1\" class=\"dataframe\">\n",
       "  <thead>\n",
       "    <tr style=\"text-align: right;\">\n",
       "      <th></th>\n",
       "      <th>user_id</th>\n",
       "    </tr>\n",
       "    <tr>\n",
       "      <th>project_type</th>\n",
       "      <th></th>\n",
       "    </tr>\n",
       "  </thead>\n",
       "  <tbody>\n",
       "    <tr>\n",
       "      <th>satellite_orbital_assembly</th>\n",
       "      <td>1866</td>\n",
       "    </tr>\n",
       "  </tbody>\n",
       "</table>\n",
       "</div>"
      ],
      "text/plain": [
       "                            user_id\n",
       "project_type                       \n",
       "satellite_orbital_assembly     1866"
      ]
     },
     "execution_count": 132,
     "metadata": {},
     "output_type": "execute_result"
    }
   ],
   "source": [
    "game.groupby('project_type').agg({'user_id':'nunique'})"
   ]
  },
  {
   "cell_type": "code",
   "execution_count": 133,
   "metadata": {},
   "outputs": [
    {
     "data": {
      "text/plain": [
       "array([nan, 'satellite_orbital_assembly'], dtype=object)"
      ]
     },
     "execution_count": 133,
     "metadata": {},
     "output_type": "execute_result"
    }
   ],
   "source": [
    "game_act['project_type'].unique()"
   ]
  },
  {
   "cell_type": "code",
   "execution_count": 134,
   "metadata": {},
   "outputs": [],
   "source": [
    "# создадим удобный формат времени\n",
    "game['day'] = game['event_datetime'].dt.date"
   ]
  },
  {
   "cell_type": "markdown",
   "metadata": {},
   "source": [
    "#### Рассмотрим популярность построек у пользователей из пришедших из разных рекламных источников "
   ]
  },
  {
   "cell_type": "code",
   "execution_count": 135,
   "metadata": {},
   "outputs": [],
   "source": [
    "# распределения кол-ва различных построек по времени и источнику пользователей\n",
    "_unique_buildings = [t for t in game['building_type'].unique() if type(t) == str]\n",
    "_unique_buildings_pivots = []\n",
    "\n",
    "for building in _unique_buildings:\n",
    "    subset = game.query('building_type == @building')\n",
    "    _unique_buildings_pivots.append(subset.groupby(['day', 'source'])\n",
    "                                          .agg({'user_id':'nunique'})\n",
    "                                          .rename(columns={'user_id':'buildings_cnt'})\n",
    "                                          .reset_index()\n",
    "    )"
   ]
  },
  {
   "cell_type": "code",
   "execution_count": 136,
   "metadata": {},
   "outputs": [
    {
     "data": {
      "image/png": "[encoded data removed]",
      "text/plain": [
       "<Figure size 1800x576 with 1 Axes>"
      ]
     },
     "metadata": {
      "needs_background": "light"
     },
     "output_type": "display_data"
    },
    {
     "data": {
      "image/png": "[encoded data removed]",
      "text/plain": [
       "<Figure size 1800x576 with 1 Axes>"
      ]
     },
     "metadata": {
      "needs_background": "light"
     },
     "output_type": "display_data"
    },
    {
     "data": {
      "image/png": "[encoded data removed]",
      "text/plain": [
       "<Figure size 1800x576 with 1 Axes>"
      ]
     },
     "metadata": {
      "needs_background": "light"
     },
     "output_type": "display_data"
    }
   ],
   "source": [
    "for en, b_pivot in enumerate(_unique_buildings_pivots):\n",
    "    plt.figure(figsize=(25, 8))\n",
    "    plt.title('Постройка: ' + _unique_buildings[en])\n",
    "    sns.barplot(data=b_pivot, x='day', y='buildings_cnt', \n",
    "                hue='source', palette=_colors)\n",
    "    plt.xlabel('Дата')\n",
    "    plt.ylabel('Количество построек')\n",
    "    plt.xticks(rotation=45)\n",
    "    plt.grid(True, alpha=.3)"
   ]
  },
  {
   "cell_type": "markdown",
   "metadata": {},
   "source": [
    "Из построенных графиков отчетливо видно, что пользователи пришедшие из `yandex_direct` имеют наибольшее количество построек \n",
    "<br> <br>\n",
    "В целом распределения построек по дням равномерно между пользователями пришедшими из разных источников\n",
    "<br> <br>\n",
    "Остальные пользователи из других источников в целом имееют одинаковые распределения построек, `instagram_new_adverts` немного выделяется среди остальных трех"
   ]
  },
  {
   "cell_type": "markdown",
   "metadata": {},
   "source": [
    " Так же видна  активность пользователей:   \n",
    "* `assembly_shop` строили лишь с 4 по 10 мая 2020 года - при этом кол-во построек практически не менялось, как и распределения по источникам  \n",
    "* `spaceport` постепенно нарастала популярность постройки у пользователей с 4 по 21 мая - с пиком 11 мая  \n",
    "* `research_center` так же аналогично нарастала популярность с 8 мая по 26 мая с пиком 13 мая  "
   ]
  },
  {
   "cell_type": "markdown",
   "metadata": {},
   "source": [
    "#### Рассмотрим активность пользователей по дням"
   ]
  },
  {
   "cell_type": "code",
   "execution_count": 237,
   "metadata": {},
   "outputs": [],
   "source": [
    "users_activity = (game.groupby('day')\n",
    "                     .agg({'event':'count'})\n",
    "                     .rename(columns={'event':'event_cnt'})\n",
    "                     .reset_index())"
   ]
  },
  {
   "cell_type": "code",
   "execution_count": 249,
   "metadata": {},
   "outputs": [
    {
     "data": {
      "image/png": "[encoded data removed]",
      "text/plain": [
       "<Figure size 1296x576 with 1 Axes>"
      ]
     },
     "metadata": {
      "needs_background": "light"
     },
     "output_type": "display_data"
    }
   ],
   "source": [
    "plt.figure(figsize=(18,8))\n",
    "\n",
    "sns.lineplot(data=users_activity,\n",
    "             x='day', y='event_cnt')\n",
    "plt.title('Активность пользователей по дням')\n",
    "plt.xlabel('День')\n",
    "plt.ylabel('Количество активностей в день')\n",
    "plt.grid(True, alpha=.3)\n",
    "plt.show()"
   ]
  },
  {
   "cell_type": "markdown",
   "metadata": {},
   "source": [
    "Всплески активностей и их затухание характерны для когорт пользователей.  \n",
    "Резкий **рост** с 05 по 10 мая и резкое **падение** к 11 мая может говорить о каком-либо игровом мероприятии, началом ознакомления с игрой"
   ]
  },
  {
   "cell_type": "markdown",
   "metadata": {},
   "source": [
    "#### Рассмотрим активность пользователей завершивших проект или завершенных уровень"
   ]
  },
  {
   "cell_type": "code",
   "execution_count": 252,
   "metadata": {},
   "outputs": [],
   "source": [
    "_users_completed = [\"finished_stage_1\", \"project\"]\n",
    "_succeeded_users = game.query('event in @_users_completed')['user_id']"
   ]
  },
  {
   "cell_type": "code",
   "execution_count": 253,
   "metadata": {},
   "outputs": [],
   "source": [
    "succeeded_users_activity = (game.query('user_id in @_succeeded_users').groupby('day')\n",
    "                                 .agg({'event':'count'})\n",
    "                                 .rename(columns={'event':'event_cnt'})\n",
    "                                 .reset_index())"
   ]
  },
  {
   "cell_type": "code",
   "execution_count": 260,
   "metadata": {},
   "outputs": [],
   "source": [
    "rest_users_activity = (game.query('user_id not in @_succeeded_users').groupby('day')\n",
    "                                 .agg({'event':'count'})\n",
    "                                 .rename(columns={'event':'event_cnt'})\n",
    "                                 .reset_index())"
   ]
  },
  {
   "cell_type": "code",
   "execution_count": 261,
   "metadata": {},
   "outputs": [
    {
     "data": {
      "image/png": "[encoded data removed]",
      "text/plain": [
       "<Figure size 1296x576 with 1 Axes>"
      ]
     },
     "metadata": {
      "needs_background": "light"
     },
     "output_type": "display_data"
    }
   ],
   "source": [
    "plt.figure(figsize=(18,8))\n",
    "\n",
    "sns.lineplot(data=succeeded_users_activity,\n",
    "             x='day', y='event_cnt', color='blue', label=\"пользователи завершившие уровень/проект\")\n",
    "sns.lineplot(data=rest_users_activity,\n",
    "             x='day', y='event_cnt', color='green', label=\"остальные пользователи\")\n",
    "plt.title('Активность пользователей по дням завершивших уровень или проект и активность остальных пользователей')\n",
    "plt.xlabel('День')\n",
    "plt.ylabel('Количество активностей в день')\n",
    "plt.grid(True, alpha=.3)\n",
    "plt.legend()\n",
    "plt.show()"
   ]
  },
  {
   "cell_type": "markdown",
   "metadata": {},
   "source": [
    "Активность пользователей завершивших уровень практически не отличается от активности пользователей еще не завершивших,  \n",
    "но **падение активности завершивших уровень пользователей ниже**"
   ]
  },
  {
   "cell_type": "markdown",
   "metadata": {},
   "source": [
    "#### Рассмотрим пользователей реализовавших проект, прошедших первый уровень и их среднее количество построек"
   ]
  },
  {
   "cell_type": "code",
   "execution_count": 137,
   "metadata": {},
   "outputs": [
    {
     "name": "stdout",
     "output_type": "stream",
     "text": [
      "Кол-во уникальных пользователей: 13576\n"
     ]
    }
   ],
   "source": [
    "unique_users_cnt = game['user_id'].nunique()\n",
    "print('Кол-во уникальных пользователей:', unique_users_cnt)"
   ]
  },
  {
   "cell_type": "code",
   "execution_count": 138,
   "metadata": {},
   "outputs": [
    {
     "data": {
      "text/html": [
       "<div>\n",
       "<style scoped>\n",
       "    .dataframe tbody tr th:only-of-type {\n",
       "        vertical-align: middle;\n",
       "    }\n",
       "\n",
       "    .dataframe tbody tr th {\n",
       "        vertical-align: top;\n",
       "    }\n",
       "\n",
       "    .dataframe thead th {\n",
       "        text-align: right;\n",
       "    }\n",
       "</style>\n",
       "<table border=\"1\" class=\"dataframe\">\n",
       "  <thead>\n",
       "    <tr style=\"text-align: right;\">\n",
       "      <th></th>\n",
       "      <th>event</th>\n",
       "      <th>buildings_cnt</th>\n",
       "    </tr>\n",
       "  </thead>\n",
       "  <tbody>\n",
       "    <tr>\n",
       "      <th>0</th>\n",
       "      <td>building</td>\n",
       "      <td>13576</td>\n",
       "    </tr>\n",
       "    <tr>\n",
       "      <th>1</th>\n",
       "      <td>finished_stage_1</td>\n",
       "      <td>5817</td>\n",
       "    </tr>\n",
       "    <tr>\n",
       "      <th>2</th>\n",
       "      <td>project</td>\n",
       "      <td>1866</td>\n",
       "    </tr>\n",
       "  </tbody>\n",
       "</table>\n",
       "</div>"
      ],
      "text/plain": [
       "              event  buildings_cnt\n",
       "0          building          13576\n",
       "1  finished_stage_1           5817\n",
       "2           project           1866"
      ]
     },
     "execution_count": 138,
     "metadata": {},
     "output_type": "execute_result"
    }
   ],
   "source": [
    "unique_user_events = (game.groupby(['event'])\n",
    "                            .agg({'user_id':'nunique'})\n",
    "                            .rename(columns={'user_id':'buildings_cnt'})\n",
    "                            .reset_index())\n",
    "unique_user_events"
   ]
  },
  {
   "cell_type": "code",
   "execution_count": 286,
   "metadata": {},
   "outputs": [
    {
     "data": {
      "image/png": "[encoded data removed]",
      "text/plain": [
       "<Figure size 720x432 with 1 Axes>"
      ]
     },
     "metadata": {
      "needs_background": "light"
     },
     "output_type": "display_data"
    }
   ],
   "source": [
    "unique_user_events.set_index('event').plot(kind='bar', color='cornflowerblue', figsize=(10,6), legend=False)\n",
    "plt.title('Распределение пользователей реализовавшие проект, завершившие уровень и построившие хотя бы одну постройку')\n",
    "plt.xlabel('Событие')\n",
    "plt.xticks(rotation=0.1)\n",
    "plt.ylabel('Количество уникальных пользователей')\n",
    "plt.grid(True, alpha=.2)"
   ]
  },
  {
   "cell_type": "code",
   "execution_count": 299,
   "metadata": {},
   "outputs": [
    {
     "data": {
      "image/png": "[encoded data removed]",
      "text/plain": [
       "<Figure size 720x576 with 1 Axes>"
      ]
     },
     "metadata": {},
     "output_type": "display_data"
    }
   ],
   "source": [
    "# azure есть, greenplum нет :(\n",
    "_pie_colors = [colors.to_rgb(c) for c in ['cornflowerblue', 'azure', 'plum']]\n",
    "\n",
    "plt.figure(figsize=(10,8))\n",
    "plt.title('Доля пользователей реализовавшие проект, завершившие уровень и построившие хотя бы одну постройку')\n",
    "plt.pie(unique_user_events['buildings_cnt'], labels=unique_user_events['event'], colors=_pie_colors, autopct='%1.1f%%')\n",
    "plt.show()"
   ]
  },
  {
   "cell_type": "code",
   "execution_count": 179,
   "metadata": {},
   "outputs": [
    {
     "data": {
      "text/html": [
       "<div>\n",
       "<style scoped>\n",
       "    .dataframe tbody tr th:only-of-type {\n",
       "        vertical-align: middle;\n",
       "    }\n",
       "\n",
       "    .dataframe tbody tr th {\n",
       "        vertical-align: top;\n",
       "    }\n",
       "\n",
       "    .dataframe thead th {\n",
       "        text-align: right;\n",
       "    }\n",
       "</style>\n",
       "<table border=\"1\" class=\"dataframe\">\n",
       "  <thead>\n",
       "    <tr style=\"text-align: right;\">\n",
       "      <th></th>\n",
       "      <th>event</th>\n",
       "      <th>buildings_cnt</th>\n",
       "    </tr>\n",
       "  </thead>\n",
       "  <tbody>\n",
       "    <tr>\n",
       "      <th>0</th>\n",
       "      <td>building</td>\n",
       "      <td>13576</td>\n",
       "    </tr>\n",
       "    <tr>\n",
       "      <th>1</th>\n",
       "      <td>finished_stage_1</td>\n",
       "      <td>5817</td>\n",
       "    </tr>\n",
       "    <tr>\n",
       "      <th>2</th>\n",
       "      <td>project</td>\n",
       "      <td>1866</td>\n",
       "    </tr>\n",
       "  </tbody>\n",
       "</table>\n",
       "</div>"
      ],
      "text/plain": [
       "              event  buildings_cnt\n",
       "0          building          13576\n",
       "1  finished_stage_1           5817\n",
       "2           project           1866"
      ]
     },
     "execution_count": 179,
     "metadata": {},
     "output_type": "execute_result"
    }
   ],
   "source": [
    "unique_user_events"
   ]
  },
  {
   "cell_type": "code",
   "execution_count": 180,
   "metadata": {},
   "outputs": [
    {
     "data": {
      "text/html": [
       "<div>\n",
       "<style scoped>\n",
       "    .dataframe tbody tr th:only-of-type {\n",
       "        vertical-align: middle;\n",
       "    }\n",
       "\n",
       "    .dataframe tbody tr th {\n",
       "        vertical-align: top;\n",
       "    }\n",
       "\n",
       "    .dataframe thead th {\n",
       "        text-align: right;\n",
       "    }\n",
       "</style>\n",
       "<table border=\"1\" class=\"dataframe\">\n",
       "  <thead>\n",
       "    <tr style=\"text-align: right;\">\n",
       "      <th></th>\n",
       "      <th>event</th>\n",
       "      <th>buildings_cnt</th>\n",
       "    </tr>\n",
       "  </thead>\n",
       "  <tbody>\n",
       "    <tr>\n",
       "      <th>0</th>\n",
       "      <td>building</td>\n",
       "      <td>127956</td>\n",
       "    </tr>\n",
       "    <tr>\n",
       "      <th>1</th>\n",
       "      <td>finished_stage_1</td>\n",
       "      <td>5817</td>\n",
       "    </tr>\n",
       "    <tr>\n",
       "      <th>2</th>\n",
       "      <td>project</td>\n",
       "      <td>1866</td>\n",
       "    </tr>\n",
       "  </tbody>\n",
       "</table>\n",
       "</div>"
      ],
      "text/plain": [
       "              event  buildings_cnt\n",
       "0          building         127956\n",
       "1  finished_stage_1           5817\n",
       "2           project           1866"
      ]
     },
     "execution_count": 180,
     "metadata": {},
     "output_type": "execute_result"
    }
   ],
   "source": [
    "all_user_events = (game.groupby(['event'])\n",
    "                            .agg({'user_id':'count'})\n",
    "                            .rename(columns={'user_id':'buildings_cnt'})\n",
    "                            .reset_index())\n",
    "all_user_events"
   ]
  },
  {
   "cell_type": "code",
   "execution_count": 224,
   "metadata": {},
   "outputs": [
    {
     "data": {
      "image/png": "[encoded data removed]",
      "text/plain": [
       "<Figure size 720x432 with 1 Axes>"
      ]
     },
     "metadata": {
      "needs_background": "light"
     },
     "output_type": "display_data"
    }
   ],
   "source": [
    "all_user_events.set_index('event').plot(kind='bar', color='plum', figsize=(10,6), legend=False)\n",
    "plt.title('Распределение всех событий совершенных пользователями')\n",
    "plt.xlabel('Событие')\n",
    "plt.xticks(rotation=0.1)\n",
    "plt.ylabel('Количество  событий совершенных пользователями')\n",
    "plt.grid(True, alpha=.2)"
   ]
  },
  {
   "cell_type": "code",
   "execution_count": 283,
   "metadata": {},
   "outputs": [
    {
     "data": {
      "image/png": "[encoded data removed]",
      "text/plain": [
       "<Figure size 720x576 with 1 Axes>"
      ]
     },
     "metadata": {},
     "output_type": "display_data"
    }
   ],
   "source": [
    "plt.figure(figsize=(10,8))\n",
    "plt.title('Отношение всех событий совершенных пользователями')\n",
    "plt.pie(all_user_events['buildings_cnt'], labels=all_user_events['event'], \n",
    "        colors=_pie_colors, autopct='%1.1f%%')\n",
    "plt.show()"
   ]
  },
  {
   "cell_type": "code",
   "execution_count": 295,
   "metadata": {},
   "outputs": [
    {
     "name": "stdout",
     "output_type": "stream",
     "text": [
      "Кол-во уникальных пользователей: 13576\n",
      "Пользователей завершивших уровень или реализовавших проект: 7683\n",
      "Доля пользователей завершивших уровень или реализовавших проект от всех пользователей: 36.14%\n"
     ]
    }
   ],
   "source": [
    "_users_completed = [\"finished_stage_1\", \"project\"]\n",
    "users_finished_cnt = all_user_events.query('event in @_users_completed')['buildings_cnt'].sum()\n",
    "_total_users = unique_user_events['buildings_cnt'].sum()\n",
    "print('Кол-во уникальных пользователей:', unique_users_cnt)\n",
    "print(f'Пользователей завершивших уровень или реализовавших проект: {users_finished_cnt}')\n",
    "print(f'Доля пользователей завершивших уровень или реализовавших проект от всех пользователей: {round(users_finished_cnt/_total_users * 100, 2)}%')"
   ]
  },
  {
   "cell_type": "markdown",
   "metadata": {},
   "source": [
    "**36% пользователей** заканчивают первый уровень или реализуют проект, неплохой показатель"
   ]
  },
  {
   "cell_type": "code",
   "execution_count": 183,
   "metadata": {},
   "outputs": [
    {
     "name": "stdout",
     "output_type": "stream",
     "text": [
      "Cреднее количество построек на одно пользователя:  9.43\n"
     ]
    }
   ],
   "source": [
    "_event = 'building'\n",
    "building_unique_users = unique_user_events.query('event == @_event')['buildings_cnt'][0]\n",
    "building_total_users = all_user_events.query('event == @_event')['buildings_cnt'][0]\n",
    "print('Cреднее количество построек на одно пользователя: ', round(building_total_users / building_unique_users, 2))"
   ]
  },
  {
   "cell_type": "markdown",
   "metadata": {},
   "source": [
    "**В среднем один пользователь строит 9 построек**, считая что перед каждой постройкой он смотрит рекламу, можно посчитать примерный доход с одного пользователя, зная сколько приносит одни просмотр"
   ]
  },
  {
   "cell_type": "markdown",
   "metadata": {},
   "source": [
    "### Расчет DAU, WAU, MAU, sticky factor"
   ]
  },
  {
   "cell_type": "code",
   "execution_count": 184,
   "metadata": {},
   "outputs": [
    {
     "data": {
      "text/html": [
       "<div>\n",
       "<style scoped>\n",
       "    .dataframe tbody tr th:only-of-type {\n",
       "        vertical-align: middle;\n",
       "    }\n",
       "\n",
       "    .dataframe tbody tr th {\n",
       "        vertical-align: top;\n",
       "    }\n",
       "\n",
       "    .dataframe thead th {\n",
       "        text-align: right;\n",
       "    }\n",
       "</style>\n",
       "<table border=\"1\" class=\"dataframe\">\n",
       "  <thead>\n",
       "    <tr style=\"text-align: right;\">\n",
       "      <th></th>\n",
       "      <th>event_datetime</th>\n",
       "      <th>event</th>\n",
       "      <th>building_type</th>\n",
       "      <th>user_id</th>\n",
       "      <th>project_type</th>\n",
       "      <th>source</th>\n",
       "      <th>day</th>\n",
       "      <th>month</th>\n",
       "      <th>week</th>\n",
       "    </tr>\n",
       "  </thead>\n",
       "  <tbody>\n",
       "    <tr>\n",
       "      <th>135634</th>\n",
       "      <td>2020-06-05 00:08:06</td>\n",
       "      <td>building</td>\n",
       "      <td>research_center</td>\n",
       "      <td>f21d179f-1c4b-437e-b9c6-ab1976907195</td>\n",
       "      <td>NaN</td>\n",
       "      <td>instagram_new_adverts</td>\n",
       "      <td>2020-06-05</td>\n",
       "      <td>6</td>\n",
       "      <td>23</td>\n",
       "    </tr>\n",
       "    <tr>\n",
       "      <th>135635</th>\n",
       "      <td>2020-06-05 02:25:12</td>\n",
       "      <td>finished_stage_1</td>\n",
       "      <td>NaN</td>\n",
       "      <td>515c1952-99aa-4bca-a7ea-d0449eb5385a</td>\n",
       "      <td>NaN</td>\n",
       "      <td>yandex_direct</td>\n",
       "      <td>2020-06-05</td>\n",
       "      <td>6</td>\n",
       "      <td>23</td>\n",
       "    </tr>\n",
       "    <tr>\n",
       "      <th>135636</th>\n",
       "      <td>2020-06-05 08:57:52</td>\n",
       "      <td>building</td>\n",
       "      <td>research_center</td>\n",
       "      <td>ed3e7d02-8a96-4be7-9998-e9813ff9c316</td>\n",
       "      <td>NaN</td>\n",
       "      <td>youtube_channel_reklama</td>\n",
       "      <td>2020-06-05</td>\n",
       "      <td>6</td>\n",
       "      <td>23</td>\n",
       "    </tr>\n",
       "    <tr>\n",
       "      <th>135637</th>\n",
       "      <td>2020-06-05 12:12:27</td>\n",
       "      <td>finished_stage_1</td>\n",
       "      <td>NaN</td>\n",
       "      <td>32572adb-900f-4b5d-a453-1eb1e6d88d8b</td>\n",
       "      <td>NaN</td>\n",
       "      <td>facebook_ads</td>\n",
       "      <td>2020-06-05</td>\n",
       "      <td>6</td>\n",
       "      <td>23</td>\n",
       "    </tr>\n",
       "    <tr>\n",
       "      <th>135638</th>\n",
       "      <td>2020-06-05 12:32:49</td>\n",
       "      <td>finished_stage_1</td>\n",
       "      <td>NaN</td>\n",
       "      <td>f21d179f-1c4b-437e-b9c6-ab1976907195</td>\n",
       "      <td>NaN</td>\n",
       "      <td>instagram_new_adverts</td>\n",
       "      <td>2020-06-05</td>\n",
       "      <td>6</td>\n",
       "      <td>23</td>\n",
       "    </tr>\n",
       "  </tbody>\n",
       "</table>\n",
       "</div>"
      ],
      "text/plain": [
       "            event_datetime             event    building_type  \\\n",
       "135634 2020-06-05 00:08:06          building  research_center   \n",
       "135635 2020-06-05 02:25:12  finished_stage_1              NaN   \n",
       "135636 2020-06-05 08:57:52          building  research_center   \n",
       "135637 2020-06-05 12:12:27  finished_stage_1              NaN   \n",
       "135638 2020-06-05 12:32:49  finished_stage_1              NaN   \n",
       "\n",
       "                                     user_id project_type  \\\n",
       "135634  f21d179f-1c4b-437e-b9c6-ab1976907195          NaN   \n",
       "135635  515c1952-99aa-4bca-a7ea-d0449eb5385a          NaN   \n",
       "135636  ed3e7d02-8a96-4be7-9998-e9813ff9c316          NaN   \n",
       "135637  32572adb-900f-4b5d-a453-1eb1e6d88d8b          NaN   \n",
       "135638  f21d179f-1c4b-437e-b9c6-ab1976907195          NaN   \n",
       "\n",
       "                         source         day  month  week  \n",
       "135634    instagram_new_adverts  2020-06-05      6    23  \n",
       "135635            yandex_direct  2020-06-05      6    23  \n",
       "135636  youtube_channel_reklama  2020-06-05      6    23  \n",
       "135637             facebook_ads  2020-06-05      6    23  \n",
       "135638    instagram_new_adverts  2020-06-05      6    23  "
      ]
     },
     "execution_count": 184,
     "metadata": {},
     "output_type": "execute_result"
    }
   ],
   "source": [
    "game['month'] = game['event_datetime'].dt.month\n",
    "game['week'] = game['event_datetime'].dt.isocalendar().week\n",
    "game.tail()"
   ]
  },
  {
   "cell_type": "code",
   "execution_count": 185,
   "metadata": {},
   "outputs": [
    {
     "name": "stdout",
     "output_type": "stream",
     "text": [
      "DAU: 2885.0\n",
      "WAU: 6120.0\n",
      "MAU: 6802.0\n",
      "Sticky factor для недельной аудитории: 47.14%\n",
      "Sticky factor для месячной аудитории: 42.41%\n"
     ]
    }
   ],
   "source": [
    "dau_total = (game.groupby('day')\n",
    "                .agg({'user_id': 'nunique'})\n",
    "                .mean()\n",
    "                .round()[0]\n",
    ")\n",
    "wau_total = (game.groupby('week')\n",
    "                .agg({'user_id': 'nunique'})\n",
    "                .mean()\n",
    "                .round()[0]\n",
    ")\n",
    "\n",
    "mau_total = (game.groupby('month')\n",
    "                .agg({'user_id': 'nunique'})\n",
    "                .mean()\n",
    "                .round()[0]\n",
    ")\n",
    "\n",
    "sticky_factor_week = (dau_total / wau_total * 100).round(2)\n",
    "sticky_factor_month = (dau_total / mau_total * 100).round(2)\n",
    "\n",
    "print(f'DAU: {dau_total}')\n",
    "print(f'WAU: {wau_total}')\n",
    "print(f'MAU: {mau_total}')\n",
    "print(f'Sticky factor для недельной аудитории: {sticky_factor_week}%')\n",
    "print(f'Sticky factor для месячной аудитории: {sticky_factor_month}%')"
   ]
  },
  {
   "cell_type": "markdown",
   "metadata": {},
   "source": [
    "`WAU` и `MAU` приблизительно равны, это говорит о том, что пользователи заинтересованы игрой  \n",
    "`DAU` относительно небольшой  \n",
    "<br>  \n",
    "`Sticky factor` - отражает регулярность использования приложения\n",
    "<br>  \n",
    "`Sticky factor` для **недельной аудитории 47%** и для **месячной 42%**, что говорит о том, что показатели месячной аудитории   желают лучшего, необходимо принять меры для восстановления активности пользователей неактивных в течении месяца"
   ]
  },
  {
   "cell_type": "markdown",
   "metadata": {},
   "source": [
    "## Проверка статистических гипотез\n",
    "<a id='hypothesis'></a>\n",
    "[К содержанию](#table_of_contents)"
   ]
  },
  {
   "cell_type": "markdown",
   "metadata": {},
   "source": [
    "### Гипотеза 1\n",
    "Время завершения уровня различается в зависимости от способа прохождения: через реализацию проекта, через победу над первым игроком"
   ]
  },
  {
   "cell_type": "markdown",
   "metadata": {},
   "source": [
    "`Нулевая гипотеза H0`: Время не отличается в зависимости от способа прохождения  \n",
    "`Альтернативная гипотеза H1`: Время  отличается в зависимости от способа прохождения\n",
    "\n",
    "`alpha` = 0.05  \n",
    "стат. тест  `Уилкоксона-Манна-Уитни` для сравнения выборок"
   ]
  },
  {
   "cell_type": "code",
   "execution_count": 141,
   "metadata": {},
   "outputs": [],
   "source": [
    "# сначала отберем пользователей которые завершили уровень\n",
    "finished_stage_1_users = game.query('event == \"finished_stage_1\"')['user_id'].unique()\n",
    "project_users = game.query('event == \"project\"')['user_id'].unique()\n",
    "\n",
    "\n",
    "# найдем их первое действие в датасете\n",
    "finished_stage_1 = (game.query('user_id in @finished_stage_1_users')\n",
    "                       .groupby(['user_id'])\n",
    "                       .agg({'event_datetime':['first', 'last']}).reset_index()['event_datetime'])\n",
    "\n",
    "# посчитаем разницу во времени и приведем к секундам\n",
    "finished_stage_1['diff'] = (finished_stage_1['last'] - finished_stage_1['first']).dt.total_seconds()\n",
    "\n",
    "\n",
    "# тоже самое сделаем для пользователей завершивших проект\n",
    "project = (game.query('user_id in @project_users')\n",
    "                       .groupby(['user_id'])\n",
    "                       .agg({'event_datetime':['first', 'last']}).reset_index()['event_datetime'])\n",
    "\n",
    "project['diff'] = (project['last'] - project['first']).dt.total_seconds()"
   ]
  },
  {
   "cell_type": "code",
   "execution_count": 142,
   "metadata": {},
   "outputs": [
    {
     "name": "stdout",
     "output_type": "stream",
     "text": [
      "1024679.561801616\n",
      "1162849.1350482316\n"
     ]
    }
   ],
   "source": [
    "print(finished_stage_1['diff'].mean())\n",
    "print(project['diff'].mean())"
   ]
  },
  {
   "cell_type": "code",
   "execution_count": 143,
   "metadata": {},
   "outputs": [
    {
     "name": "stdout",
     "output_type": "stream",
     "text": [
      "t_stat: 4115645.50000\n",
      "p_value: 0.00000\n",
      "Отвергаем Нулевую гипотезу Н0 -> принимаем альтернативную H1\n"
     ]
    }
   ],
   "source": [
    "alpha = .05\n",
    "# Непараметрический тест Уилкоксона-Манна-Уитни\n",
    "t_stat, p_value = sts.mannwhitneyu(finished_stage_1['diff'], project['diff'], True, 'less')\n",
    "\n",
    "print(f\"t_stat: {t_stat:.5f}\")\n",
    "print(f\"p_value: {p_value:.5f}\")\n",
    "if p_value < alpha:\n",
    "    print(\"Отвергаем Нулевую гипотезу Н0 -> принимаем альтернативную H1\")\n",
    "else:\n",
    "    print(\"Оставляем Нулевую гипотезу Н0\")"
   ]
  },
  {
   "cell_type": "markdown",
   "metadata": {},
   "source": [
    "По имеющимся данным, на уровне значимости `alpha` - 5% есть основания **отвергнуть нулевую гипотезу** о Время не отличается в зависимости от способа прохождения в **пользу альтернативной гипотезы**"
   ]
  },
  {
   "cell_type": "markdown",
   "metadata": {},
   "source": [
    "### Гипотеза 2\n",
    "Количество пользователей пришедших из разных источников завершивших первый уровень/проект   (мн. сравнение)  \n",
    "\n",
    "`Нулевая гипотеза H0`: Не отличается   \n",
    "`Альтернативная гипотеза H1`:  Отличается  \n",
    "  \n",
    "`alpha` = 0.05   \n",
    "стат. тест  `Уилкоксона-Манна-Уитни` для сравнения выборок  \n",
    "поправка множественного сравнения - `метод Холма`"
   ]
  },
  {
   "cell_type": "code",
   "execution_count": 144,
   "metadata": {},
   "outputs": [
    {
     "data": {
      "text/plain": [
       "(5817,)"
      ]
     },
     "execution_count": 144,
     "metadata": {},
     "output_type": "execute_result"
    }
   ],
   "source": [
    "_condition_in = [\"project\", \"finished_stage_1\"]\n",
    "user_ids_completed = game.query('event in @_condition_in')['user_id'].unique()\n",
    "user_ids_completed.shape"
   ]
  },
  {
   "cell_type": "code",
   "execution_count": 287,
   "metadata": {},
   "outputs": [],
   "source": [
    "users_per_source = (game.query('user_id in @user_ids_completed')\n",
    "                              .groupby(['source', 'day'])\n",
    "                              .agg({'user_id':'nunique'})\n",
    "                              .reset_index()\n",
    "                              .rename(columns={'user_id':'user_cnt'})                  \n",
    ")"
   ]
  },
  {
   "cell_type": "code",
   "execution_count": 152,
   "metadata": {},
   "outputs": [
    {
     "data": {
      "image/png": "[encoded data removed]",
      "text/plain": [
       "<Figure size 1296x576 with 1 Axes>"
      ]
     },
     "metadata": {
      "needs_background": "light"
     },
     "output_type": "display_data"
    }
   ],
   "source": [
    "plt.figure(figsize=(18,8))\n",
    "sns.lineplot(data=users_per_source,\n",
    "             x='day', y='user_cnt', hue='source', palette=_colors)\n",
    "plt.xticks(rotation=45)\n",
    "plt.title('Количество пользователей пришедших из разных источников завершивших уровень')\n",
    "plt.xlabel('День')\n",
    "plt.ylabel('Количество уникальных пользователей')\n",
    "plt.show()"
   ]
  },
  {
   "cell_type": "markdown",
   "metadata": {},
   "source": [
    "Всплеск активности `пользователей завершивших уровень/проект`  пришелся на 10 мая, скорее всего начиная с 4го была какая-то рекламная компания в игре, затем количество новых пользователей начиная с 11 мая постепенно уменьшается"
   ]
  },
  {
   "cell_type": "code",
   "execution_count": 158,
   "metadata": {},
   "outputs": [],
   "source": [
    "from itertools import combinations\n",
    "from statsmodels.sandbox.stats.multicomp import multipletests"
   ]
  },
  {
   "cell_type": "code",
   "execution_count": 186,
   "metadata": {},
   "outputs": [
    {
     "data": {
      "text/plain": [
       "[('facebook_ads', 'instagram_new_adverts'),\n",
       " ('facebook_ads', 'yandex_direct'),\n",
       " ('facebook_ads', 'youtube_channel_reklama'),\n",
       " ('instagram_new_adverts', 'yandex_direct'),\n",
       " ('instagram_new_adverts', 'youtube_channel_reklama'),\n",
       " ('yandex_direct', 'youtube_channel_reklama')]"
      ]
     },
     "execution_count": 186,
     "metadata": {},
     "output_type": "execute_result"
    }
   ],
   "source": [
    "_stat_test_comb = list(combinations(list(mean_users_per_source['source'].unique()),2))\n",
    "_stat_test_comb"
   ]
  },
  {
   "cell_type": "markdown",
   "metadata": {},
   "source": [
    "Проведем **6 стат.тестов** и применим поправку Холма для множественных сравнений"
   ]
  },
  {
   "cell_type": "code",
   "execution_count": 187,
   "metadata": {},
   "outputs": [],
   "source": [
    "multiple_test_pvalues = []\n",
    "for src_1, src_2 in _stat_test_comb:\n",
    "    users_1 = users_per_source.query('source == @src_1')['user_cnt']\n",
    "    users_2 = users_per_source.query('source == @src_2')['user_cnt']\n",
    "    t_stat, p_value = sts.mannwhitneyu(users_1, users_2, True, 'less')\n",
    "    multiple_test_pvalues.append(p_value)"
   ]
  },
  {
   "cell_type": "code",
   "execution_count": 188,
   "metadata": {},
   "outputs": [
    {
     "data": {
      "text/plain": [
       "[0.07007337633521488,\n",
       " 0.12026088209848362,\n",
       " 0.2303579280670066,\n",
       " 0.358392036546027,\n",
       " 0.6639556637252159,\n",
       " 0.8814678439660628]"
      ]
     },
     "execution_count": 188,
     "metadata": {},
     "output_type": "execute_result"
    }
   ],
   "source": [
    "multiple_test_pvalues = sorted(multiple_test_pvalues)\n",
    "multiple_test_pvalues"
   ]
  },
  {
   "cell_type": "code",
   "execution_count": 189,
   "metadata": {},
   "outputs": [
    {
     "name": "stdout",
     "output_type": "stream",
     "text": [
      "Отвергнутые Н0 в множественном сравнении:  [False False False False False False]\n",
      "p_values:  [0.42044026 0.60130441 0.92143171 1.         1.         1.        ]\n",
      "\n",
      "Оставляем Нулевую гипотезу Н0\n"
     ]
    }
   ],
   "source": [
    "alpha = .05\n",
    "reject, pvals_corrected, alphacSidak, alphacBonf = multipletests(multiple_test_pvalues, alpha=alpha, \n",
    "                                                                 method='holm', is_sorted=True)\n",
    "print('Отвергнутые Н0 в множественном сравнении: ', reject)\n",
    "print('p_values: ', pvals_corrected)\n",
    "print()\n",
    "if all(pvals_corrected < alpha):\n",
    "    print(\"Отвергаем Нулевую гипотезу Н0 -> принимаем альтернативную H1\")\n",
    "else:\n",
    "    print(\"Оставляем Нулевую гипотезу Н0\")"
   ]
  },
  {
   "cell_type": "markdown",
   "metadata": {},
   "source": [
    "По имеющимся данным, на уровне значимости `alpha` - 5% есть основания **оставить нулевую гипотезу**  о различии количества пользователей пришедших из разных источников завершивших первый уровень/проект  "
   ]
  },
  {
   "cell_type": "markdown",
   "metadata": {},
   "source": [
    "# 5. Дашборд\n",
    "<a id='dash'></a>\n",
    "[К содержанию](#table_of_contents)"
   ]
  },
  {
   "cell_type": "markdown",
   "metadata": {},
   "source": [
    "https://public.tableau.com/app/profile/daniel2362/viz/DA_Abramov_final_project/final_dash?publish=yes"
   ]
  },
  {
   "cell_type": "markdown",
   "metadata": {},
   "source": [
    "# 6. Презентация\n",
    "<a id='pres'></a>\n",
    "[К содержанию](#table_of_contents)"
   ]
  },
  {
   "cell_type": "markdown",
   "metadata": {},
   "source": [
    "https://docs.google.com/presentation/d/1HyJ4xgDQ0HuX_uK6CZ2IOZNYtw7WcT1X_ZSL9Rbzi1s/edit#slide=id.p"
   ]
  },
  {
   "cell_type": "markdown",
   "metadata": {},
   "source": [
    "# 7. Выводы\n",
    "<a id='conclusions'></a>\n",
    "[К содержанию](#table_of_contents)"
   ]
  },
  {
   "cell_type": "markdown",
   "metadata": {},
   "source": [
    "Проведенный анализ собранных данных пользователей мобильной игры «Космические братья» показал:\n",
    "   - В среднем цены не `facebook_ads`, `instagram_new_adverts`, `yandex_direct` стоят около 300   долларов, медианые стоимости также близки друг к другу ~180 долларов  \n",
    "реклама в `youtube_channel_reklama` одна из самых дешевых\n",
    "   - CAC: Средняя цена привлечения пользователей `facebook_ads` - 0.79,  `instagram_new_adverts` - 0.65, `yandex_direct` - 0.46, `youtube_channel_reklama` - 0.4\n",
    "   - пользователи пришедшие из `yandex_direct` имеют наибольшее количество построек, остальные пользователи из других источников в целом имеют одинаковые распределения построек, `instagram_new_adverts` немного выделяется среди остальных трех\n",
    "   - Активность пользователей завершивших уровень **практически не отличается** от активности пользователей еще не завершивших,  \n",
    "но **падение активности завершивших уровень пользователей ниже**\n",
    "   - Доля пользователей завершивших уровень или реализовавших проект от всех пользователей: 36.14%\n",
    "   - В среднем один пользователь строит **9 построек**\n",
    "   - `DAU` - 2885, `WAU` - 6120 , `MAU` - 6802 пользователей\n",
    "   - `Sticky factor для недельной аудитории` 47% и для `Sticky factor для месячной` 42%, что говорит о том, что показатели месячной аудитории желают лучшего, необходимо принять меры для восстановления активности пользователей неактивных в течении месяца\n",
    "   - В целом распределения построек по дням равномерно между пользователями пришедшими из разных источников\n",
    "   - Время завершения уровня различается в зависимости от способа прохождения: через реализацию проекта, через победу над первым игроком **отличается**\n",
    "   - Количество пользователей пришедших из разных источников завершивших первый уровень/проект **не отличается**"
   ]
  },
  {
   "cell_type": "markdown",
   "metadata": {},
   "source": [
    "Рекомендации:  \n",
    "- я считаю, что необходимо увеличить рекламу в `yandex_direct`, т.к. больше всего пользователей приходят из этого источника, при этом снижая  CAC, при этом рекламу в  источниках `instagram_new_adverts`, `facebook_ads`, можно либо оставить такой же, либо пропорционально уменьшить.\n",
    "- `youtube_channel_reklama` также показала хороший CAC в нее следует вложить больше средства.\n",
    "- **Sticky factor для месячной аудитории - 42%** - небольшой показатель, по сравнению с **Sticky factor для недельной аудитории - 47%**,   \n",
    "я предполагаю, что необходимо проработать способы привлечения текущих пользователей в игру различными мероприятиями, раздачами бонусов и добавлением новых уровней и режимов, это разнообразит пользовательский опыт и тем самым повысит посещаемость."
   ]
  }
 ],
 "metadata": {
  "kernelspec": {
   "display_name": "Python 3 (ipykernel)",
   "language": "python",
   "name": "python3"
  },
  "language_info": {
   "codemirror_mode": {
    "name": "ipython",
    "version": 3
   },
   "file_extension": ".py",
   "mimetype": "text/x-python",
   "name": "python",
   "nbconvert_exporter": "python",
   "pygments_lexer": "ipython3",
   "version": "3.11.7"
  },
  "toc": {
   "base_numbering": 1,
   "nav_menu": {},
   "number_sections": true,
   "sideBar": true,
   "skip_h1_title": true,
   "title_cell": "Table of Contents",
   "title_sidebar": "Contents",
   "toc_cell": false,
   "toc_position": {
    "height": "calc(100% - 180px)",
    "left": "10px",
    "top": "150px",
    "width": "349px"
   },
   "toc_section_display": true,
   "toc_window_display": true
  }
 },
 "nbformat": 4,
 "nbformat_minor": 4
}
