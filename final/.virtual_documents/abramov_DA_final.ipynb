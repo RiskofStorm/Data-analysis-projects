


























import datetime as dt

import pandas as pd
import numpy as np
import scipy.stats as sts

import seaborn as sns
import matplotlib.pyplot as plt
from matplotlib import colors





def load_csv(os_path: str, cloud_path: str) -> pd.DataFrame:
    """функция чтения данных и загрузки в объект pd.DataFrame 
       
       os_path: str -> локальные данные, полный или абсолютный путь
       cloud_path: str -> URL место где данные размещены, прямая ссылка на CSV, TSV
       returns pd.DataFrame
    """
    try:
        return pd.read_csv(os_path)
    except:
        print('локальные данные не найдены, подгружаю с интернета')
        return pd.read_csv(cloud_path)
    

def df_stat(df: pd.DataFrame) -> None:
    """функция отображения статистики пропущенных 
       данных в датасете и явных дубликатов строк
       
       df: pd.DataFrame -> датасет
       returns None
    """
    df_quality = pd.DataFrame()
    df_quality['nan'] = df.isna().sum()
    df_quality['nan_percent'] = ((df_quality['nan'] / df.shape[0])* 100).round(2)
    print("Количество явных дубликатов строк: ", df.duplicated().sum())
    print()
    print(df_quality)


def df_unique_vals(df: pd.DataFrame) -> None:
    """функция отображения уникальных значений в данных
       
       df: pd.DataFrame -> датасет/сабсет
       returns None
    """
    for col in df.columns:
        if df[col].nunique() > 30:
            print('!!!')
            print(f'Слишком много уникальных значений в колонке {col}')
            print('первые 30 значений:')
            print('!!!\n')
            print(df[col].unique()[:30])
            print('-' * 15)
        else:
            print(f'Уникальные значеня в колонке {col}\n')
            print(df[col].unique())
            print('-' * 15)


def df_strlower_object(df: pd.DataFrame) -> pd.DataFrame:
    """функция приведения данных типа object к нижнему регистру
       
       df: pd.DataFrame -> датасет/сабсет
       returns pd.DataFrame
    """
    cols_to_lower = df.columns[df.dtypes == object]
    for col in cols_to_lower:
        df[col] = df[col].str.lower()
    return df





# загрузка данных
ad_costs = load_csv('ad_costs.csv', 'https://code.s3.yandex.net/datasets/ad_costs.csv')
user_src = load_csv('user_source.csv', 'https://code.s3.yandex.net/datasets/user_source.csv')
game_act = load_csv('game_actions.csv', 'https://code.s3.yandex.net/datasets/game_actions.csv')











ad_costs.head()


ad_costs.info()


df_stat(ad_costs)





ad_costs['day'] = pd.to_datetime(ad_costs['day'])





ad_costs = df_strlower_object(ad_costs)


ad_costs.nunique()


df_unique_vals(ad_costs)











user_src.info()


df_stat(user_src)








user_src = df_strlower_object(user_src)


user_src.nunique()


df_unique_vals(user_src)











game_act.info()





game_act['event_datetime'] = pd.to_datetime(game_act['event_datetime'])





df_stat(game_act)





game_act.info()


game_act = df_strlower_object(game_act)


game_act.nunique()


df_unique_vals(game_act)


# повторим для наглядности выводов 
df_stat(game_act)





# game_act.dropna(subset=['building_type'], inplace=True, axis=0)
game_act.drop_duplicates(inplace=True)





df_stat(game_act)








ad_costs['day'].dt.date.unique()


_day = dt.datetime(2020, 5, 3)
ad_costs.query('day == @_day')











user_src.head()


users_from = user_src.groupby('source').agg({'user_id':'nunique'}).rename(columns={'user_id':'users_cnt'})
users_from








ad_costs.groupby('source')['cost'].describe()





ads_total_costs = ad_costs.groupby('source').sum().rename(columns={'cost':'total_cost'})
ads_total_costs


users_from['ad_total_cost'] =  ads_total_costs['total_cost']
users_from['one_user_mean_cost'] = (users_from['ad_total_cost'] / users_from['users_cnt']).round(2)
users_from['users_dist'] = users_from['users_cnt'] 
users_from.reset_index(inplace=True)
users_from


_y_cols = ['users_cnt', 
           'ad_total_cost', 
           'one_user_mean_cost',
           'users_dist'
]
_y_title = ['Количество пользователей', 
            'Стоимость, доллары', 
            'Стоимость, доллары',
            'Количество пользователей'
]
_sub_titles = ['Количество привлеченных пользователей',
              'Всего потрачено на рекламу у источников',
              'Стоимость привлечения одного пользователя',
              'Распределение пользователей по источнику'
]

_colors = {v:colors.to_rgb(c) for v,c in zip(['facebook_ads', 'instagram_new_adverts', 'yandex_direct', 'youtube_channel_reklama'],
                                         ['gold', 'plum', 'royalblue', 'yellowgreen'])}

fig, axes = plt.subplots(1, 4, figsize=(25, 7))

for ind in range(len(_y_cols)):
    sns.barplot(data=users_from, x='source', y=_y_cols[ind], 
                ax=axes[ind], palette=_colors)
    axes[ind].set_title(_sub_titles[ind])
    axes[ind].set_xticklabels(labels=users_from['source'],rotation=20)
    axes[ind].set_xlabel('Источник рекламы')
    axes[ind].grid(True, alpha=.3)
    axes[ind].set_ylabel(_y_title[ind])








game = game_act.merge(user_src, how='left', on='user_id')


game.shape[0] == game_act.shape[0]


game.groupby('project_type').agg({'user_id':'nunique'})


game_act['project_type'].unique()


# создадим удобный формат времени
game['day'] = game['event_datetime'].dt.date





# распределения кол-ва различных построек по времени и источнику пользователей
_unique_buildings = [t for t in game['building_type'].unique() if type(t) == str]
_unique_buildings_pivots = []

for building in _unique_buildings:
    subset = game.query('building_type == @building')
    _unique_buildings_pivots.append(subset.groupby(['day', 'source'])
                                          .agg({'user_id':'nunique'})
                                          .rename(columns={'user_id':'buildings_cnt'})
                                          .reset_index()
    )


for en, b_pivot in enumerate(_unique_buildings_pivots):
    plt.figure(figsize=(25, 8))
    plt.title('Постройка: ' + _unique_buildings[en])
    sns.barplot(data=b_pivot, x='day', y='buildings_cnt', 
                hue='source', palette=_colors)
    plt.xlabel('Дата')
    plt.ylabel('Количество построек')
    plt.xticks(rotation=45)
    plt.grid(True, alpha=.3)











users_activity = (game.groupby('day')
                     .agg({'event':'count'})
                     .rename(columns={'event':'event_cnt'})
                     .reset_index())


plt.figure(figsize=(18,8))

sns.lineplot(data=users_activity,
             x='day', y='event_cnt')
plt.title('Активность пользователей по дням')
plt.xlabel('День')
plt.ylabel('Количество активностей в день')
plt.grid(True, alpha=.3)
plt.show()








_users_completed = ["finished_stage_1", "project"]
_succeeded_users = game.query('event in @_users_completed')['user_id']


succeeded_users_activity = (game.query('user_id in @_succeeded_users').groupby('day')
                                 .agg({'event':'count'})
                                 .rename(columns={'event':'event_cnt'})
                                 .reset_index())


rest_users_activity = (game.query('user_id not in @_succeeded_users').groupby('day')
                                 .agg({'event':'count'})
                                 .rename(columns={'event':'event_cnt'})
                                 .reset_index())


plt.figure(figsize=(18,8))

sns.lineplot(data=succeeded_users_activity,
             x='day', y='event_cnt', color='blue', label="пользователи завершившие уровень/проект")
sns.lineplot(data=rest_users_activity,
             x='day', y='event_cnt', color='green', label="остальные пользователи")
plt.title('Активность пользователей по дням завершивших уровень или проект и активность остальных пользователей')
plt.xlabel('День')
plt.ylabel('Количество активностей в день')
plt.grid(True, alpha=.3)
plt.legend()
plt.show()








unique_users_cnt = game['user_id'].nunique()
print('Кол-во уникальных пользователей:', unique_users_cnt)


unique_user_events = (game.groupby(['event'])
                            .agg({'user_id':'nunique'})
                            .rename(columns={'user_id':'buildings_cnt'})
                            .reset_index())
unique_user_events


unique_user_events.set_index('event').plot(kind='bar', color='cornflowerblue', figsize=(10,6), legend=False)
plt.title('Распределение пользователей реализовавшие проект, завершившие уровень и построившие хотя бы одну постройку')
plt.xlabel('Событие')
plt.xticks(rotation=0.1)
plt.ylabel('Количество уникальных пользователей')
plt.grid(True, alpha=.2)


# azure есть, greenplum нет :(
_pie_colors = [colors.to_rgb(c) for c in ['cornflowerblue', 'azure', 'plum']]

plt.figure(figsize=(10,8))
plt.title('Доля пользователей реализовавшие проект, завершившие уровень и построившие хотя бы одну постройку')
plt.pie(unique_user_events['buildings_cnt'], labels=unique_user_events['event'], colors=_pie_colors, autopct='%1.1f%%')
plt.show()


unique_user_events


all_user_events = (game.groupby(['event'])
                            .agg({'user_id':'count'})
                            .rename(columns={'user_id':'buildings_cnt'})
                            .reset_index())
all_user_events


all_user_events.set_index('event').plot(kind='bar', color='plum', figsize=(10,6), legend=False)
plt.title('Распределение всех событий совершенных пользователями')
plt.xlabel('Событие')
plt.xticks(rotation=0.1)
plt.ylabel('Количество  событий совершенных пользователями')
plt.grid(True, alpha=.2)


plt.figure(figsize=(10,8))
plt.title('Отношение всех событий совершенных пользователями')
plt.pie(all_user_events['buildings_cnt'], labels=all_user_events['event'], 
        colors=_pie_colors, autopct='%1.1f%%')
plt.show()


_users_completed = ["finished_stage_1", "project"]
users_finished_cnt = all_user_events.query('event in @_users_completed')['buildings_cnt'].sum()
_total_users = unique_user_events['buildings_cnt'].sum()
print('Кол-во уникальных пользователей:', unique_users_cnt)
print(f'Пользователей завершивших уровень или реализовавших проект: {users_finished_cnt}')
print(f'Доля пользователей завершивших уровень или реализовавших проект от всех пользователей: {round(users_finished_cnt/_total_users * 100, 2)}%')





_event = 'building'
building_unique_users = unique_user_events.query('event == @_event')['buildings_cnt'][0]
building_total_users = all_user_events.query('event == @_event')['buildings_cnt'][0]
print('Cреднее количество построек на одно пользователя: ', round(building_total_users / building_unique_users, 2))








game['month'] = game['event_datetime'].dt.month
game['week'] = game['event_datetime'].dt.isocalendar().week
game.tail()


dau_total = (game.groupby('day')
                .agg({'user_id': 'nunique'})
                .mean()
                .round()[0]
)
wau_total = (game.groupby('week')
                .agg({'user_id': 'nunique'})
                .mean()
                .round()[0]
)

mau_total = (game.groupby('month')
                .agg({'user_id': 'nunique'})
                .mean()
                .round()[0]
)

sticky_factor_week = (dau_total / wau_total * 100).round(2)
sticky_factor_month = (dau_total / mau_total * 100).round(2)

print(f'DAU: {dau_total}')
print(f'WAU: {wau_total}')
print(f'MAU: {mau_total}')
print(f'Sticky factor для недельной аудитории: {sticky_factor_week}%')
print(f'Sticky factor для месячной аудитории: {sticky_factor_month}%')














# сначала отберем пользователей которые завершили уровень
finished_stage_1_users = game.query('event == "finished_stage_1"')['user_id'].unique()
project_users = game.query('event == "project"')['user_id'].unique()


# найдем их первое действие в датасете
finished_stage_1 = (game.query('user_id in @finished_stage_1_users')
                       .groupby(['user_id'])
                       .agg({'event_datetime':['first', 'last']}).reset_index()['event_datetime'])

# посчитаем разницу во времени и приведем к секундам
finished_stage_1['diff'] = (finished_stage_1['last'] - finished_stage_1['first']).dt.total_seconds()


# тоже самое сделаем для пользователей завершивших проект
project = (game.query('user_id in @project_users')
                       .groupby(['user_id'])
                       .agg({'event_datetime':['first', 'last']}).reset_index()['event_datetime'])

project['diff'] = (project['last'] - project['first']).dt.total_seconds()


print(finished_stage_1['diff'].mean())
print(project['diff'].mean())


alpha = .05
# Непараметрический тест Уилкоксона-Манна-Уитни
t_stat, p_value = sts.mannwhitneyu(finished_stage_1['diff'], project['diff'], True, 'less')

print(f"t_stat: {t_stat:.5f}")
print(f"p_value: {p_value:.5f}")
if p_value < alpha:
    print("Отвергаем Нулевую гипотезу Н0 -> принимаем альтернативную H1")
else:
    print("Оставляем Нулевую гипотезу Н0")








_condition_in = ["project", "finished_stage_1"]
user_ids_completed = game.query('event in @_condition_in')['user_id'].unique()
user_ids_completed.shape


users_per_source = (game.query('user_id in @user_ids_completed')
                              .groupby(['source', 'day'])
                              .agg({'user_id':'nunique'})
                              .reset_index()
                              .rename(columns={'user_id':'user_cnt'})                  
)


plt.figure(figsize=(18,8))
sns.lineplot(data=users_per_source,
             x='day', y='user_cnt', hue='source', palette=_colors)
plt.xticks(rotation=45)
plt.title('Количество пользователей пришедших из разных источников завершивших уровень')
plt.xlabel('День')
plt.ylabel('Количество уникальных пользователей')
plt.show()





from itertools import combinations
from statsmodels.sandbox.stats.multicomp import multipletests


_stat_test_comb = list(combinations(list(mean_users_per_source['source'].unique()),2))
_stat_test_comb





multiple_test_pvalues = []
for src_1, src_2 in _stat_test_comb:
    users_1 = users_per_source.query('source == @src_1')['user_cnt']
    users_2 = users_per_source.query('source == @src_2')['user_cnt']
    t_stat, p_value = sts.mannwhitneyu(users_1, users_2, True, 'less')
    multiple_test_pvalues.append(p_value)


multiple_test_pvalues = sorted(multiple_test_pvalues)
multiple_test_pvalues


alpha = .05
reject, pvals_corrected, alphacSidak, alphacBonf = multipletests(multiple_test_pvalues, alpha=alpha, 
                                                                 method='holm', is_sorted=True)
print('Отвергнутые Н0 в множественном сравнении: ', reject)
print('p_values: ', pvals_corrected)
print()
if all(pvals_corrected < alpha):
    print("Отвергаем Нулевую гипотезу Н0 -> принимаем альтернативную H1")
else:
    print("Оставляем Нулевую гипотезу Н0")
























