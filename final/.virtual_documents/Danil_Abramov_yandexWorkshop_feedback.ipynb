











# !pip install xlrd
# !pip install openpyxl
# !pip install gdown


import pandas as pd
import numpy as np
import seaborn as sns
import matplotlib.pyplot as plt
import requests
import gdown # google drive downloader   https://github.com/wkentaro/gdown

pd.set_option('display.max_columns', 1000, 'display.width', 1000, 'display.max_rows',1000)


# url = 'https://docs.google.com/spreadsheets/d/1JJbIoUiQQJXTk4oPBuByfczL__pqZPuZ/'
# # url = 'https://docs.google.com/spreadsheets/d/1lmd2GgxUQS4duPGSchEsxLHCDxv9lWTh/edit?rtpof=true&sd=true#gid=804265370'
# gdown.download(url, output=file[2:], quiet=False)
# vordi = pd.read_excel(file)


file = './vordi_digital_v1_сокращённые_данные_2.xlsx'
try:
    vordi = pd.read_excel(file)
except:
    print('Using web repo')
    url = 'https://docs.google.com/spreadsheets/d/1JJbIoUiQQJXTk4oPBuByfczL__pqZPuZ/'
    # url = 'https://docs.google.com/spreadsheets/d/1lmd2GgxUQS4duPGSchEsxLHCDxv9lWTh/edit?rtpof=true&sd=true#gid=804265370'
    gdown.download(url, output=file[2:], quiet=False)
    vordi = pd.read_excel(file)


vordi.info()





vordi.duplicated().sum()





def concat_columns(df:pd.DataFrame) -> pd.Series:
    """ 
        Функция, которая соединяет основной вопрос с подвопросом:
        передает в переменную main_question - основной вопрос 
        если основной вопрос не содержит 'unnamed'
        соединяет 'вопрос \n подвопрос' если подвопрос не пуст
            
    """
    main_question = None
    new_columns_list  = list()
    
    columns = df.columns.values
    sub_columns = df.loc[0,:].fillna(np.nan)

    for index in range(len(columns)):
        if sub_columns[index] is not np.nan:
            if 'unnamed' not in columns[index].split(': '):
                main_question = columns[index].capitalize()
            new_columns_list.append(main_question + '\n' + sub_columns[index])
        else:
            new_columns_list.append(columns[index].capitalize())
    return pd.Series(new_columns_list)


index_vordi = vordi['index']
vordi.columns = vordi.columns.str.lower()
vordi = vordi.drop(columns=['index', 'текст вопроса'])

# колонки приводятся к предложению с заглавной буквы, чтобы в дашборде выглядело красивее, получился некоторый CamelCase -> "Вопрос \n Подвопрос"

# concat_columns - достаточно среза, чтобы в нем была строка с подвопросами
vordi.columns = concat_columns(vordi.iloc[:1, :])

# Убираем первые две строки - 1ая - подвопрос, 2ая-пустая забитая NaN
vordi = vordi.drop([0,1], axis=0)
vordi['Отметка времени'] = pd.to_datetime(vordi['Отметка времени']).dt.year

# Убираем избыточность
vordi.iloc[:,1] = vordi.iloc[:,1].replace({'Нет, работа ведется, но результатов маловато': 'Нет, работа ведется, но результатов мало'})





#  use df[cols].replace(dict) instead
# def object_cols_processing(rows:pd.Series, decipher:dict) -> pd.Series:
#     return pd.Series([decipher[row] for row in rows])

# Функция поиска колонок начинающихся на pattern
def get_cols_names_by_pattern(pattern:str, columns:np.array) -> list:
    return [col.startswith(pattern) for col in columns]


# Расшифровка данных, ремапинг 

decipher_bool = {False: 'нет', True:'да'}
boolean_columns = [col for col in vordi.columns.values if vordi[col].nunique() == 2][2:]

pattern_1 = 'Если понимать под организацией самостоятельного проживания и сопровождаемым проживанием ребенка-инвалида технологию социального обслуживания'
decipher_1 = {'0j':'Затрудняюсь оценить', 
               '(1+1j)': 'Это есть и это необходимо', 
               '(-1+1j)': 'Этого нет (не знаю), но это необходимо',
               '0.5j': 'Эту функцию возьму на себя'}
    
pattern_2 = 'Если понимать под сопровождаемой занятостью помощь ребенку-инвалиду в организации его профессиональной ориентации и его трудовой деятельности'
decipher_2 = {'0j':'Затрудняюсь оценить', 
               '(1+1j)': 'Это есть и это необходимо',  
               '1j': 'Этого нет (не знаю), но это необходимо', 
               '-1j': 'Этого нет (не знаю) и это не нужно'} 

pattern_3 = 'Обращались ли вы за помощью, в связи с проблемами ребенка-инвалида, в официальные инстанции?'
decipher_3 = {'(0.5+1j)':'Получил помощь частично',  # .5
               '(-1+1j)':'Не получил помощь',    # -1
               '1j':'Не обращался, но помощь нужна', # 0
               '0j':'Не обращался, нет необходимости', # 0
               '(1+1j)':'Получил помощь в полном объеме'} # 1

pattern_4 = 'Оцените доступность объектов в периметре вашего проживания для посещения (комфортного использования) вашего ребенка.'
decipher_4 = {-1: 'Недоступно',
              -0.5: 'Проблемно',
              0: 'Затрудняюсь оценить/не посещаем',
              1: 'Доступно'}

pattern_5 = 'Укажите, пожалуйста, возраст ребенка-инвалида.'
decipher_5 =  {0.5 : '0-1 год',
                2 : '1-3 года',
                5 : '4-6 лет',
                8.5 : '7-10 лет',
                13 : '11-15 лет',
                17 : '16-18 лет',
                20 : 'Старше 18 лет'}

# Нормальный диапазон взят?
pattern_6 = 'Укажите ваш возраст:'
decipher_6 = { 22.5: 'от 20 до 30', 
              28.: 'от 20 до 30',
              35.: 'от 30 до 40' ,
              44.5: 'от 40 до 50',
              54.5: 'от 50 до 60',
              64.5: 'старше 60',
              74.5: 'старше 60', 
              80.: 'старше 60' }

pattern_7 = 'Как вы считаете, достаточно ли'
decipher_7 = {1: 'Достаточно', 
             0.5: 'Необходимо больше', 
             -1: 'Совершенно недостаточно',
             0: 'Затрудняюсь оценить'}

# pattern_8 = 'Оцените, пожалуйста доступность'

# decipher_8 = {1: 'Доступно',  
#              0.5: 'Частично доступно',  
#              -1: 'Не доступно', 
#              0: 'Затрудняюсь оценить'}

pattern_9 = 'Какие трудности в сфере медицинского обслуживания испытывает ваша семья?'
decipher_9 = {1: 'Есть трудности',
             0: 'Затрудняюсь оценить/не пользуюсь',
            -1: 'Нет трудностей'}

pattern_10 = 'Посещает ли (или посещал в свое время) ваш ребенок учреждения образования?'
decipher_10 = {1: 'Регулярно', 
               0.5: 'Периодически', 
               -0.5: 'Очень редко', 
               -1: 'Никогда или практически никогда'}

pattern_11 = 'Оцените вашу правовую и информационную грамотность по вопросам обеспечения поддержки и соблюдения прав детей-инвалидов'
decipher_11 = {1: 'Полностью владею информацией',
               0: 'Информация не нужна',
               -1: 'Необходима информация и консультация'}

pattern_12 = 'Каким услугами, предоставляемыми общественными организациями, вы пользовались для вашей семьи и вашего ребенка, какими бы воспользовались при возможности?'
 
decipher_12 = {-1: 'Не пользовался и не собираюсь',
               0.5: 'Не пользовался, но хотел бы воспользоваться',
               1: 'Пользовался и хотел бы воспользоваться еще',
               -0.5: 'Пользовался и больше не собираюсь'}


pattern_13 = 'Была ли оказана ранняя помощь для вашего ребенка в постановке диагноза и лечения'
decipher_13 = {-1: 'Нет, ранняя помощь вообще не была оказана',
               -0.5: 'Нет, ранняя помощь не была оказана в полном объеме',
               0: 'Ранняя помощь не требовалась',
               0.5: 'Да, ранняя помощь была оказана в результате ваших собственных усилий',
               1: 'Да, ранняя помощь была оказана лишь в полном объеме благодаря врачам'}

pattern_14 = 'Если ваш ребенок не получил раннюю медицинскую помощь, то по какой причине (если получил, переходите к другому вопросу)?'
decipher_14 = {-1: 'Халатность /нежелание врачей или отсутствие информации',
                0: 'Болезнь возникла или развивалась стремительно (или не диагностируется на ранних стадиях)'}


n_patterns = ['Пользовались ли вы услугами психолого-медико-педагогической комиссии для Вашего ребенка?',
                     'Посещает ли (или посещал в свое время) ваш ребенок учреждения образования?',
                     'Взаимодействовали ли вы с МСЭ при оформлении инвалидности для вашего ребенка?',
                     'Нуждается ли ваш ребенок в получении технических средств реабилитации и получаете ли Вы их в полной мере?',
                     'Получаете ли ваш ребенок санаторно-курортное лечение?',
                     'Занимается ли ваш ребенок физкультурой и спортом?',
                     'Получаете ли ваш ребенок услуги реабилитации?',
                     'Задумывались ли вы о том, как будет организована и возможна ли полноценная трудовая деятельность для Вашего ребенка?',
                     'Задумывались ли вы о том, как будет организована и возможно ли самостоятельное проживание для Вашего ребенка в дальнейшем?',
                     'Получаете ли вы и ваш ребенок социальную поддержку (социальные выплаты, социальную помощь и иные социальные услуги?',
                     'Получает ли ваш ребенок паллиативную помощь?',
                     'Получает ли ваш ребенок материальную помощь?',
                     'Пользовались ли Вы услугами благотворительных общественных организаций?']
n_patterns_decipher = {1: 'Регулярно', 
                     0.5: 'Периодически', 
                     -0.5: 'Очень редко', 
                     -1: 'Никогда или практически никогда'}


vordi_v2 = vordi.copy()


# Приведем булевые колонки к категориальным да/нет
vordi_v2[boolean_columns] = vordi_v2[boolean_columns].replace(decipher_bool)


all_cols_names = vordi_v2.columns.values
processed_cols = list()

#!!! Removed availability
patterns_list = [pattern_1, pattern_2, pattern_3, pattern_4, 
                 pattern_5, pattern_6, pattern_7, 
                 # pattern_8,
                 pattern_9, pattern_10, pattern_11, 
                 pattern_12, pattern_13, pattern_14]

#!!! Removed availability
deciphers_list = [decipher_1, decipher_2, decipher_3, decipher_4,
                  decipher_5, decipher_6, decipher_7, 
                 # decipher_8,
                  decipher_9, decipher_10, decipher_11, decipher_12, 
                  decipher_13, decipher_14]

for pattern, decipher in zip(patterns_list, deciphers_list):
    cols_todecipher = vordi_v2.loc[:, get_cols_names_by_pattern(pattern, all_cols_names)].columns.values
    vordi_v2[cols_todecipher] = vordi_v2[cols_todecipher].replace(decipher)
    processed_cols.extend(cols_todecipher)
    
# n_patterns deciphering
n_pattern_cols = vordi_v2.columns.isin([col.lower().capitalize() for col in n_patterns])
vordi_v2.loc[:, n_pattern_cols] = vordi_v2.loc[:, n_pattern_cols].replace(n_patterns_decipher)

# Additional manual deciphering
_taxi_col = 'Пользуетесь ли вы услугами социального такси?'
decipher_taxi = {-1: 'Нет такой услуги',
                 0: 'Нет потребности',
                 1: 'Да'}

vordi_v2[_taxi_col] = vordi_v2[_taxi_col].replace(decipher_taxi)

_single_col = 'Можно ли сказать, что ваш ребенок имеет те же возможности (которыми он при желании может воспользоваться), что и здоровые дети?'
_single_col_decipher = {-1: 'Нет, он во всем ограничен',
                        -.5: 'Скорее нет, для этого приходится прилагать достаточные усилия',
                        0.5: 'Скорее да, исключая некоторые варианты, но здесь нет вины общества и государства',
                          1: 'Да, однозначно'}
vordi_v2[_single_col] = vordi_v2[_single_col].replace(_single_col_decipher)

_col = 'Нуждаетесь ли вы (или другой родитель) в профессиональной подготовке, переподготовке, повышении квалификации?'
vordi_v2[_col] = vordi_v2[_col].replace({1.0: 'Да', 0.0: 'Нет'})

processed_cols.extend(n_pattern_cols)
processed_cols.extend([_taxi_col, _single_col, _col])


# len(processed_cols)


# vordi_v2.columns.values


vordi_v2.iloc[:5,:]








vordi_v2.loc[:, vordi_v2.isna().sum() > 0].isna().mean().sort_values(ascending=False).round(3) * 100


vordi_v2.loc[:, vordi_v2.isna().sum() > 0].isna().mean().round(3).mean()








def print_stat(col):
    print(f'NaN : {round(vordi_v2[col].isna().mean(),2) * 100} %')
    print(vordi_v2[col].value_counts())





_column = 'Как бы вы сами определили уровень жизни семьи'
print_stat(_column)


_column = 'Сколько примерно, в процентном соотношении от дохода семьи, уходит на обслуживание ребенка-инвалида%'
print_stat(_column)


_recover_col = 'Укажите, пожалуйста, примерный среднедушевой доход в месяц (на 1 члена семьи), в рублях.'
print_stat(_recover_col)


na_ratio_before = vordi_v2[_recover_col].isna().mean()
print(f'NA до обработки: {round(na_ratio_before, 2) * 100}')

# coerce returns NaN if not numeric type(int64, float64)
vordi_v2[_recover_col] = pd.to_numeric(vordi_v2[_recover_col], errors='coerce') #  т.к. вручную перебирать все очень сложно и это займет очень много времени

# Подразумевая, что указано было не 20, а 20000 на человека, домножим на 1000, но с учетом, что выйдет не более 50000 рублей
vordi_v2[_recover_col] = vordi_v2[_recover_col].apply(lambda sum: sum if sum > 50 else sum * 1000)

na_ratio_after = vordi_v2[_recover_col].isna().mean()
print(f'NA после обработки: {round(na_ratio_after, 1) * 100}')
print(f'NA увеличилось на {round(na_ratio_after - na_ratio_before, 2) * 100} ПП ')





vordi_v2[_recover_col].value_counts()


vordi_v2[_recover_col].describe()


plt.figure(figsize=(10,3))
sns.histplot(x=vordi_v2[_recover_col].dropna())
plt.xlabel('Cреднедушевой доход в месяц на 1 члена семьи, рубли')


plt.figure(figsize=(10,3))
sns.boxplot(x=vordi_v2[_recover_col].dropna())
plt.xlabel('Cреднедушевой доход в месяц на 1 члена семьи, рубли')





_column = 'Укажите, пожалуйста, возраст ребенка-инвалида.'
print_stat(_column)





_column = 'С какого возраста вы зафиксировали нарушение здоровья вашего ребенка?'
decipher_gotillness = {
        'приобретены в раннем детстве': 'в раннем детстве',
        'с момента рождения,': 'с момента рождения',
        'приобретены в дошкольном возрасте': 'в дошкольном возрасте',
        'приобретены в школьном возрасте': 'в школьном возрасте'
}
vordi_v2[_column] = vordi_v2[_column].replace(decipher_gotillness)
print_stat(_column)





_column = 'Где вы проживаете?'
print_stat(_column)


_column = 'Укажите, пожалуйста, территорию своего проживания:'
print_stat(_column)





_column = 'Ваше жилье'
decipher_home = {
        'Вы снимаете жилье': 'Съемное',
       'Находится в вашей собственности (в собственности ваших ближайших родственников)': 'Собственное',
       'Жилье Вам предоставлено (социальное жилье)': 'Социальное'
}
vordi_v2[_column] = vordi_v2[_column].replace(decipher_home)
print_stat(_column)





_column = 'Ваши условия проживания можно назвать'

decipher_comfort = {
    'Достаточно комфортными (удобными) для проживания с ребенком-инвалидом' : 'Комфортные',
    'Не пригодными (нет того, что Вам крайне необходимо) для проживания с ребенком-инвалидом': 'Непригодные',
    'Недостаточно пригодными (жилье недостаточно обустроено под Ваши нужды) для проживания с ребенком-инвалидом': 'Недостаточно пригодные',
    'Пригодными (жилье обустроено под нужды ребенка) для проживания с ребенком-инвалидом': 'Пригодные'
}
vordi_v2[_column] = vordi_v2[_column].replace(decipher_comfort)
print_stat(_column)





_house = 'Ваши условия проживания (укажите все ответы, которые соответствуют вашей ситуации)'

house_type = ['Дом частной застройки, туалет в доме',
                'Дом частной застройки, туалет на улице',
                'Многоквартирный дом с лифтом',
                'Многоквартирный дом без лифта',
              'комната в доме']
n_rooms = ['Трехкомнатная',
            'Двухкомнатная',
            'Однокомнатная']

def filter_col_contains_listofstr(rows:pd.Series, listofstr:list) -> pd.Series:
    result = pd.DataFrame()
    for string in listofstr:
        result[string] = rows.str.contains(string, regex=True)
        result[string] = result[string].replace({True:string})
    result.replace({False:np.nan}, inplace=True)
    result.ffill(axis=1, inplace=True)
    return result.iloc[:, -1]


vordi_v2['Количество комнат'] = filter_col_contains_listofstr(vordi_v2[_house], n_rooms)
vordi_v2['Тип дома'] = filter_col_contains_listofstr(vordi_v2[_house], house_type)
vordi_v2['Тип дома'] = vordi_v2['Тип дома'].replace({'комната в доме': 'Дом частной застройки, одна комната'})


vordi_v2[['Количество комнат', 'Тип дома', _house]].head(15)


print_stat('Тип дома')


print_stat('Количество комнат')


(vordi_v2.groupby(['Количество комнат', 'Тип дома'])
         .agg({'Количество комнат':'count'})
         .rename(columns={'Количество комнат': 'Количество'})
         .sort_values(by=['Количество комнат', 'Количество'],ascending=False))





_column = 'Вид образовательной организации, в которой обучается ваш ребенок:'
vordi_v2[_column] = vordi_v2[_column].replace({'Ребенок, по роду заболевания, не может проходить обучение': 'не может проходить обучение'}) 
print_stat(_column)





_column = 'Каков круг общения вашего ребенка?'
decipher_friendcircle = {'Круг общения ребенка ограничен, в силу заболевания или характера ребенка': 'ограничен, в силу заболевания',
       'Ребенок не ограничен в общении (характер заболевания это позволяет)': 'не ограничен в общении',
       'Круг общения ребенка ограничен приходящими знакомыми, друзьями, родственниками': 'ограничен знакомыми, друзьями, родственниками',
       'Круг общения ребенка ограничен проживающими совместно с ним членами семьи': 'ограничен членами семьи'}

vordi_v2[_column] = vordi_v2[_column].replace(decipher_friendcircle)
print_stat(_column)





_column = 'Укажите ваш статус по отношению к ребенку'
print_stat(_column)


_column = 'Укажите ваш возраст:'
print_stat(_column)


_column = 'Укажите, пожалуйста, образование родителей:\nМать'
print_stat(_column)


_column = 'Укажите, пожалуйста, образование родителей:\nОтец'
print_stat(_column)


_column = 'Нуждается ли ваш ребенок в получении технических средств реабилитации и получаете ли вы их в полной мере?'
print_stat(_column)


_column = 'Получаете ли ваш ребенок услуги реабилитации?'
print_stat(_column)








_column = 'Нозология'
print_stat(_column)





selected_columns = ['Отметка времени',
 'Можно ли сказать, что в нашем регионе создана инклюзивное пространство (комфортная среда, позволяющая всем в равной степени получать и использовать блага цивилизации и услуг) для детей-инвалидов?',
 'Можно ли сказать, что ваш ребенок имеет те же возможности (которыми он при желании может воспользоваться), что и здоровые дети?',
 'Оцените, пожалуйста доступность получения услуги мсэ для ребенка-инвалида.\nДоступность (наличие) организаций, предоставляющих услугу',
 'Пользуетесь ли вы услугами социального такси?',
 'С каким заболеванием связана инвалидность ребенка?',
 'Ваши условия проживания (укажите все ответы, которые соответствуют вашей ситуации)',
 'Сколько примерно, в процентном соотношении от дохода семьи, уходит на обслуживание ребенка-инвалида%',
 'Как бы вы сами определили уровень жизни семьи',
 'Описывая размер семейного дохода, можно сказать',
 'Укажите, пожалуйста, примерный среднедушевой доход в месяц (на 1 члена семьи), в рублях.',
 'Укажите, пожалуйста, территорию своего проживания:',
 'Ваше жилье',
 'Ваши условия проживания можно назвать',
 'Укажите, пожалуйста, возраст ребенка-инвалида.',
 'Где вы проживаете?',
 'Количество комнат', 
  'Тип дома',
 'Каков круг общения вашего ребенка?',
 'Укажите ваш статус по отношению к ребенку',
 'Вид образовательной организации, в которой обучается ваш ребенок:',
 'Укажите ваш возраст:',
 'Нуждается ли ваш ребенок в получении технических средств реабилитации и получаете ли вы их в полной мере?',
 'Получаете ли ваш ребенок услуги реабилитации?',
 'Нозология',

]


_services = 'Оцените, пожалуйста доступность получения услуги материальной помощи для детей-инвалидов?'
_services2 = 'Оцените, пожалуйста доступность получения услуги паллиативной помощи для детей-инвалидов?'
_services3 = 'Оцените доступность объектов в периметре вашего проживания для посещения (комфортного использования) вашего ребенка.'

test = []
vordi_cols = vordi_v2.columns.values
for pattern in [_services, _services2, _services3]:
    selected_columns.extend(list(vordi_v2.loc[:, get_cols_names_by_pattern(_services, vordi_cols)].columns.values))



# # Добавим вопросы про доступность --- REMOVE?
# _pattern = "Оцените, пожалуйста доступность"

# availability = list(vordi_v2.loc[:, get_cols_names_by_pattern(_pattern, vordi_v2.columns.values)].columns.values)
# selected_columns.extend(availability)


# to_tableau[object_cols].apply(lambda row: row.str.capitalize(), axis=1)


# Сохраняем данные для дашборда
to_tableau = vordi_v2[selected_columns]
cols_val_cap = ['Вид образовательной организации, в которой обучается ваш ребенок:', 
            'С каким заболеванием связана инвалидность ребенка?',
           'Каков круг общения вашего ребенка?', 'Нозология']
for col in cols_val_cap:
    to_tableau.loc[:, col] = to_tableau[col].str.capitalize()

# object_cols = to_tableau.select_dtypes(include=[object]).columns.values
# to_tableau[object_cols] = to_tableau[object_cols].apply(lambda row: row.str.capitalize(), axis=1)


to_tableau.iloc[:2,:]


len(to_tableau.columns.values)


to_tableau.columns.values


to_tableau.to_csv('vordi_tableau_v2.tsv', sep='\t')


to_tableau






