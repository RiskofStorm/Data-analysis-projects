














import pandas as pd
from sqlalchemy import text, create_engine


db_config = {'user': 'praktikum_student', 
             'pwd': 'Sdf4$2;d-d30pp', 
             'host': 'rc1b-wcoijxj3yxfsf3fs.mdb.yandexcloud.net',
             'port': 6432, 
             'db': 'data-analyst-final-project-db'
}

connection_string = 'postgresql://{user}:{pwd}@{host}:{port}/{db}'.format(**db_config)

engine = create_engine(connection_string, connect_args={'sslmode':'require'})
con=engine.connect()


# проверка подключения
query = '''SELECT * 
           FROM books 
           LIMIT 10
        '''
pd.io.sql.read_sql(sql=text(query), con = con)





query = '''SELECT COUNT(DISTINCT book_id) "количество книг"
           FROM books 
           WHERE publication_date > '2000-01-01' 
        '''
pd.io.sql.read_sql(sql=text(query), con = con)








query = '''SELECT title "название книги", 
                  review_cnt "количество обзоров",  
                  ROUND(avg_rating,2) "средний рейтинг"
           FROM books b
               LEFT JOIN (SELECT book_id, 
                                 COUNT(review_id) "review_cnt"
                          FROM reviews 
                          GROUP BY 1) rating_agg USING(book_id)
               LEFT JOIN (SELECT book_id,
                                 AVG(rating) "avg_rating"
                          FROM ratings
                          GROUP BY 1) rewiew_agg USING(book_id)
            
        '''
question_2 = pd.io.sql.read_sql(sql=text(query), con = con)
question_2


question_2.describe()


question_2.sort_values(by=['количество обзоров', 'средний рейтинг'], ascending=False).head(15)





question_2.sort_values(by=['средний рейтинг'], ascending=False).head(15)





query = '''
            WITH publisher_stat AS (
                                    SELECT publisher_id, 
                                           COUNT(book_id) "book_cnt"
                                    FROM books
                                    WHERE book_id IN (SELECT book_id
                                                      FROM books
                                                      WHERE num_pages > 50)
                                    GROUP BY 1
                                    
            )
           
            SELECT publisher "издатель", 
                   book_cnt "количество выпущенных книг"
            FROM publisher_stat
                LEFT JOIN publishers USING(publisher_id)
            WHERE book_cnt = (SELECT MAX(book_cnt) FROM publisher_stat)
           
        '''


pd.io.sql.read_sql(sql=text(query), con = con)








query = '''
           WITH authors_avg_ratings AS (
                                       SELECT author_id, 
                                              AVG(rating) "avg_rating"
                                       FROM books
                                           LEFT JOIN ratings USING(book_id)
                                       GROUP BY 1
                                       HAVING COUNT(rating_id) > 50
           )
           
           SELECT author "автор", 
                  avg_rating "средняя оценка книг"
           FROM authors_avg_ratings
               LEFT JOIN authors USING(author_id)
           WHERE avg_rating = (SELECT MAX(avg_rating) FROM authors_avg_ratings)
        '''

question_4 = pd.io.sql.read_sql(sql=text(query), con = con)
question_4








query = ''' SELECT AVG(rev_cnt)::int "среднее количество обзоров"
            FROM (
                    SELECT username, COUNT(review_id) rev_cnt
                    FROM reviews
                    WHERE username IN (SELECT username
                                       FROM ratings
                                       GROUP BY 1
                                       HAVING COUNT(book_id) > 48)
                    GROUP BY 1
            ) as t

        '''


question_5 = pd.io.sql.read_sql(sql=text(query), con = con)
question_5



